{
 "cells": [
  {
   "cell_type": "code",
   "execution_count": 3,
   "metadata": {},
   "outputs": [],
   "source": [
    "import numpy as np\n",
    "import torch\n",
    "import gpytorch\n",
    "import matplotlib.pyplot as plt\n",
    "import seaborn as sns\n",
    "import pyro\n",
    "import pyro.distributions as dist\n",
    "\n",
    "import tqdm\n",
    "\n",
    "import warnings\n",
    "warnings.filterwarnings('ignore')\n",
    "\n",
    "from linear_operator.operators.dense_linear_operator import DenseLinearOperator\n",
    "from linear_operator.operators import KroneckerProductLinearOperator, RootLinearOperator\n",
    "from linear_operator.utils.interpolation import left_interp\n",
    "\n"
   ]
  },
  {
   "cell_type": "code",
   "execution_count": 4,
   "metadata": {},
   "outputs": [],
   "source": [
    "from gpytorch import settings\n",
    "from gpytorch.distributions import MultitaskMultivariateNormal, MultivariateNormal\n",
    "from gpytorch.module import Module\n",
    "from gpytorch.variational._variational_strategy import _VariationalStrategy"
   ]
  },
  {
   "attachments": {},
   "cell_type": "markdown",
   "metadata": {},
   "source": [
    "## lmc codes"
   ]
  },
  {
   "cell_type": "code",
   "execution_count": 5,
   "metadata": {},
   "outputs": [],
   "source": [
    "class LMCSeparableKernel(gpytorch.kernels.Kernel):\n",
    "    \n",
    "    def __init__(self, kernel_list, **kwargs):\n",
    "        \n",
    "        super(LMCSeparableKernel, self).__init__(**kwargs)\n",
    "        self.kernel_modules = torch.nn.ModuleList(kernel_list)\n",
    "        self.init_kwargs = kwargs\n",
    "    \n",
    "    def forward(self, x1, x2, **params):\n",
    "        \n",
    "        # note: I might have to do x1.unsqueeze(-1), x2.unsqueeze(-1) when x1 dim == 0\n",
    "        \n",
    "        x1_dim = x1.shape\n",
    "        x2_dim = x2.shape\n",
    "        # print(\"params:\", params)\n",
    "        # print(\"init_x1_shape:\", x1.shape)\n",
    "        # print(\"init_x2_shape:\", x2.shape)\n",
    "        # if not (x1_dim[0] == 1 and x2_dim[0] == 1):\n",
    "        #     x1 = x1.unsqueeze(0)\n",
    "        #     x2 = x2.unsqueeze(0)\n",
    "        # print(\"x_shape:\", x1.shape)\n",
    "        covar_x = self.kernel_modules[0].forward(x1, x2, **params)\n",
    "        # print(\"kernel_0:\", self.kernel_modules[0], \"\\n\")\n",
    "        # print(\"init_covar_x.shape:\", covar_x.shape)\n",
    "        i=1\n",
    "        for k in self.kernel_modules[1:]:\n",
    "            add_covar_x = k.forward(x1, x2, **params)\n",
    "            if isinstance(add_covar_x, DenseLinearOperator):\n",
    "                add_covar_x = add_covar_x.tensor\n",
    "            # print(add_covar_x, \"\\n\")\n",
    "            covar_x = torch.vstack([covar_x, add_covar_x])\n",
    "            # print(f\"kernel_{i}:\", k, \"\\n\")\n",
    "            # print(\"add_covar_x.shape:\", add_covar_x.shape)\n",
    "            i += 1\n",
    "        # print(\"covar_x.shape:\", covar_x.shape)\n",
    "        return covar_x"
   ]
  },
  {
   "cell_type": "code",
   "execution_count": 6,
   "metadata": {},
   "outputs": [],
   "source": [
    "def _select_lmc_coefficients(lmc_coefficients: torch.Tensor, indices: torch.LongTensor) -> torch.Tensor:\n",
    "    \"\"\"\n",
    "    Given a list of indices for ... x N datapoints,\n",
    "      select the row from lmc_coefficient that corresponds to each datapoint\n",
    "    lmc_coefficients: torch.Tensor ... x num_latents x ... x num_tasks\n",
    "    indices: torch.Tesnor ... x N\n",
    "    \"\"\"\n",
    "    print(\"_select_lmc_coefficients has been called!!\")\n",
    "    batch_shape = torch.broadcast_shapes(lmc_coefficients.shape[:-1], indices.shape[:-1])\n",
    "\n",
    "    # We will use the left_interp helper to do the indexing\n",
    "    lmc_coefficients = lmc_coefficients.expand(*batch_shape, lmc_coefficients.shape[-1])[..., None]\n",
    "    indices = indices.expand(*batch_shape, indices.shape[-1])[..., None]\n",
    "    res = left_interp(\n",
    "        indices,\n",
    "        torch.ones(indices.shape, dtype=torch.long, device=indices.device),\n",
    "        lmc_coefficients,\n",
    "    ).squeeze(-1)\n",
    "    return res\n",
    "\n",
    "\n",
    "class LMCVariationalStrategy(_VariationalStrategy):\n",
    "    r\"\"\"\n",
    "    LMCVariationalStrategy is an implementation of the \"Linear Model of Coregionalization\"\n",
    "    for multitask GPs. This model assumes that there are :math:`Q` latent functions\n",
    "    :math:`\\mathbf g(\\cdot) = [g^{(1)}(\\cdot), \\ldots, g^{(q)}(\\cdot)]`,\n",
    "    each of which is modelled by a GP.\n",
    "    The output functions (tasks) are linear combination of the latent functions:\n",
    "    .. math::\n",
    "        f_{\\text{task } i}( \\mathbf x) = \\sum_{q=1}^Q a_i^{(q)} g^{(q)} ( \\mathbf x )\n",
    "    LMCVariationalStrategy wraps an existing :obj:`~gpytorch.variational.VariationalStrategy`.\n",
    "    The output will either be a :obj:`~gpytorch.distributions.MultitaskMultivariateNormal` distribution\n",
    "    (if we wish to evaluate all tasks for each input) or a :obj:`~gpytorch.distributions.MultivariateNormal`\n",
    "    (if we wish to evaluate a single task for each input).\n",
    "    The base variational strategy is assumed to operate on a multi-batch of GPs, where one\n",
    "    of the batch dimensions corresponds to the latent function dimension.\n",
    "    .. note::\n",
    "        The batch shape of the base :obj:`~gpytorch.variational.VariationalStrategy` does not\n",
    "        necessarily have to correspond to the batch shape of the underlying GP objects.\n",
    "        For example, if the base variational strategy has a batch shape of `[3]` (corresponding\n",
    "        to 3 latent functions), the GP kernel object could have a batch shape of `[3]` or no\n",
    "        batch shape. This would correspond to each of the latent functions having different kernels\n",
    "        or the same kernel, respectivly.\n",
    "    Example:\n",
    "        >>> class LMCMultitaskGP(gpytorch.models.ApproximateGP):\n",
    "        >>>     '''\n",
    "        >>>     3 latent functions\n",
    "        >>>     5 output dimensions (tasks)\n",
    "        >>>     '''\n",
    "        >>>     def __init__(self):\n",
    "        >>>         # Each latent function shares the same inducing points\n",
    "        >>>         # We'll have 32 inducing points, and let's assume the input dimensionality is 2\n",
    "        >>>         inducing_points = torch.randn(32, 2)\n",
    "        >>>\n",
    "        >>>         # The variational parameters have a batch_shape of [3] - for 3 latent functions\n",
    "        >>>         variational_distribution = gpytorch.variational.MeanFieldVariationalDistribution(\n",
    "        >>>             inducing_points.size(-1), batch_shape=torch.Size([3]),\n",
    "        >>>         )\n",
    "        >>>         variational_strategy = gpytorch.variational.LMCVariationalStrategy(\n",
    "        >>>             gpytorch.variational.VariationalStrategy(\n",
    "        >>>                 self, inducing_points, variational_distribution, learn_inducing_locations=True,\n",
    "        >>>             ),\n",
    "        >>>             num_tasks=5,\n",
    "        >>>             num_latents=3,\n",
    "        >>>             latent_dim=-1,\n",
    "        >>>         )\n",
    "        >>>\n",
    "        >>>         # Each latent function has its own mean/kernel function\n",
    "        >>>         super().__init__(variational_strategy)\n",
    "        >>>         self.mean_module = gpytorch.means.ConstantMean(batch_shape=torch.Size([3]))\n",
    "        >>>         self.covar_module = gpytorch.kernels.ScaleKernel(\n",
    "        >>>             gpytorch.kernels.RBFKernel(batch_shape=torch.Size([3])),\n",
    "        >>>             batch_shape=torch.Size([3]),\n",
    "        >>>         )\n",
    "        >>>\n",
    "    :param ~gpytorch.variational.VariationalStrategy base_variational_strategy: Base variational strategy\n",
    "    :param int num_tasks: The total number of tasks (output functions)\n",
    "    :param int num_latents: The total number of latent functions in each group\n",
    "    :param latent_dim: (Default: -1) Which batch dimension corresponds to the latent function batch.\n",
    "        **Must be negative indexed**\n",
    "    :type latent_dim: `int` < 0\n",
    "    \"\"\"\n",
    "\n",
    "    def __init__(\n",
    "        self,\n",
    "        base_variational_strategy,\n",
    "        num_tasks,\n",
    "        num_latents=1,\n",
    "        latent_dim=-1,\n",
    "        jitter_val=None,\n",
    "    ):\n",
    "        Module.__init__(self)\n",
    "        self.base_variational_strategy = base_variational_strategy\n",
    "        self.num_tasks = num_tasks\n",
    "        batch_shape = self.base_variational_strategy._variational_distribution.batch_shape\n",
    "        \n",
    "        # Added latent dist\n",
    "        self.latent_dist = None\n",
    "\n",
    "        # Check if no functions\n",
    "        if latent_dim >= 0:\n",
    "            raise RuntimeError(f\"latent_dim must be a negative indexed batch dimension: got {latent_dim}.\")\n",
    "        if not (batch_shape[latent_dim] == num_latents or batch_shape[latent_dim] == 1):\n",
    "            raise RuntimeError(\n",
    "                f\"Mismatch in num_latents: got a variational distribution of batch shape {batch_shape}, \"\n",
    "                f\"expected the function dim {latent_dim} to be {num_latents}.\"\n",
    "            )\n",
    "        self.num_latents = num_latents\n",
    "        self.latent_dim = latent_dim\n",
    "\n",
    "        # Make the batch_shape\n",
    "        self.batch_shape = list(batch_shape)\n",
    "        del self.batch_shape[self.latent_dim]\n",
    "        self.batch_shape = torch.Size(self.batch_shape)\n",
    "\n",
    "        # LCM coefficients\n",
    "        lmc_coefficients = torch.randn(*batch_shape, self.num_tasks)\n",
    "        self.register_parameter(\"lmc_coefficients\", torch.nn.Parameter(lmc_coefficients))\n",
    "\n",
    "        if jitter_val is None:\n",
    "            self.jitter_val = settings.variational_cholesky_jitter.value(\n",
    "                self.base_variational_strategy.inducing_points.dtype\n",
    "            )\n",
    "        else:\n",
    "            self.jitter_val = jitter_val\n",
    "            \n",
    "\n",
    "    @property\n",
    "    def prior_distribution(self):\n",
    "        return self.base_variational_strategy.prior_distribution\n",
    "\n",
    "    @property\n",
    "    def variational_distribution(self):\n",
    "        return self.base_variational_strategy.variational_distribution\n",
    "\n",
    "    @property\n",
    "    def variational_params_initialized(self):\n",
    "        return self.base_variational_strategy.variational_params_initialized\n",
    "\n",
    "    def kl_divergence(self):\n",
    "        return super().kl_divergence().sum(dim=self.latent_dim)\n",
    "\n",
    "    def __call__(self, x, task_indices=None, prior=False, **kwargs):\n",
    "        r\"\"\"\n",
    "        Computes the variational (or prior) distribution\n",
    "        :math:`q( \\mathbf f \\mid \\mathbf X)` (or :math:`p( \\mathbf f \\mid \\mathbf X)`).\n",
    "        There are two modes:\n",
    "        1.  Compute **all tasks** for all inputs.\n",
    "            If this is the case, the task_indices attribute should be None.\n",
    "            The return type will be a (... x N x num_tasks)\n",
    "            :class:`~gpytorch.distributions.MultitaskMultivariateNormal`.\n",
    "        2.  Compute **one task** per inputs.\n",
    "            If this is the case, the (... x N) task_indices tensor should contain\n",
    "            the indices of each input's assigned task.\n",
    "            The return type will be a (... x N)\n",
    "            :class:`~gpytorch.distributions.MultivariateNormal`.\n",
    "        :param x: Input locations to evaluate variational strategy\n",
    "        :type x: torch.Tensor (... x N x D)\n",
    "        :param task_indices: (Default: None) Task index associated with each input.\n",
    "            If this **is not** provided, then the returned distribution evaluates every input on every task\n",
    "            (returns :class:`~gpytorch.distributions.MultitaskMultivariateNormal`).\n",
    "            If this **is** provided, then the returned distribution evaluates each input only on its assigned task.\n",
    "            (returns :class:`~gpytorch.distributions.MultivariateNormal`).\n",
    "        :type task_indices: torch.Tensor (... x N), optional\n",
    "        :param prior: (Default: False) If False, returns the variational distribution\n",
    "            :math:`q( \\mathbf f \\mid \\mathbf X)`.\n",
    "            If True, returns the prior distribution\n",
    "            :math:`p( \\mathbf f \\mid \\mathbf X)`.\n",
    "        :type prior: bool\n",
    "        :return: :math:`q( \\mathbf f \\mid \\mathbf X)` (or the prior),\n",
    "            either for all tasks (if `task_indices == None`)\n",
    "            or for a specific task (if `task_indices != None`).\n",
    "        :rtype: ~gpytorch.distributions.MultitaskMultivariateNormal (... x N x num_tasks)\n",
    "            or ~gpytorch.distributions.MultivariateNormal (... x N)\n",
    "        \"\"\"\n",
    "        self.latent_dist = self.base_variational_strategy(x, prior=prior, **kwargs)\n",
    "        num_batch = len(self.latent_dist.batch_shape)\n",
    "        latent_dim = num_batch + self.latent_dim\n",
    "\n",
    "        if task_indices is None:\n",
    "            print(\"task_indices is None!\")\n",
    "            num_dim = num_batch + len(self.latent_dist.event_shape)\n",
    "\n",
    "            # Every data point will get an output for each task\n",
    "            # Therefore, we will set up the lmc_coefficients shape for a matmul\n",
    "            lmc_coefficients = self.lmc_coefficients.expand(*self.latent_dist.batch_shape, self.lmc_coefficients.size(-1))\n",
    "\n",
    "            # Mean: ... x N x num_tasks\n",
    "            latent_mean = self.latent_dist.mean.permute(*range(0, latent_dim), *range(latent_dim + 1, num_dim), latent_dim)\n",
    "            mean = latent_mean @ lmc_coefficients.permute(\n",
    "                *range(0, latent_dim), *range(latent_dim + 1, num_dim - 1), latent_dim, -1\n",
    "            )\n",
    "\n",
    "            # Covar: ... x (N x num_tasks) x (N x num_tasks)\n",
    "            latent_covar = self.latent_dist.lazy_covariance_matrix\n",
    "            lmc_factor = RootLinearOperator(lmc_coefficients.unsqueeze(-1))\n",
    "            covar = KroneckerProductLinearOperator(latent_covar, lmc_factor).sum(latent_dim)\n",
    "            # Add a bit of jitter to make the covar PD\n",
    "            covar = covar.add_jitter(self.jitter_val)\n",
    "\n",
    "            # Done!\n",
    "            function_dist = MultitaskMultivariateNormal(mean, covar)\n",
    "\n",
    "        else:\n",
    "            print(\"task_indices is NOT none!!!\")\n",
    "            # Each data point will get a single output corresponding to a single task\n",
    "            # Therefore, we will select the appropriate lmc coefficients for each task\n",
    "            \n",
    "            # Issue begins somewhere here\n",
    "            \n",
    "            lmc_coefficients = _select_lmc_coefficients(self.lmc_coefficients, task_indices)\n",
    "            \n",
    "            # Mean: ... x N\n",
    "            mean = (self.latent_dist.mean * lmc_coefficients).sum(latent_dim)\n",
    "\n",
    "            # Covar: ... x N x N\n",
    "            latent_covar = self.latent_dist.lazy_covariance_matrix\n",
    "            lmc_factor = RootLinearOperator(lmc_coefficients.unsqueeze(-1))\n",
    "            covar = (latent_covar * lmc_factor).sum(latent_dim)\n",
    "            # Add a bit of jitter to make the covar PD\n",
    "            covar = covar.add_jitter(self.jitter_val)\n",
    "\n",
    "            # Done!\n",
    "            function_dist = MultivariateNormal(mean, covar)\n",
    "\n",
    "        return function_dist"
   ]
  },
  {
   "cell_type": "code",
   "execution_count": 7,
   "metadata": {},
   "outputs": [],
   "source": [
    "# def _select_lmc_coefficients(lmc_coefficients: torch.Tensor, indices: torch.LongTensor) -> torch.Tensor:\n",
    "#     \"\"\"\n",
    "#     Given a list of indices for ... x N datapoints,\n",
    "#       select the row from lmc_coefficient that corresponds to each datapoint\n",
    "\n",
    "#     lmc_coefficients: torch.Tensor ... x num_latents x ... x num_tasks\n",
    "#     indices: torch.Tesnor ... x N\n",
    "#     \"\"\"\n",
    "#     batch_shape = torch.broadcast_shapes(lmc_coefficients.shape[:-1], indices.shape[:-1])\n",
    "\n",
    "#     # We will use the left_interp helper to do the indexing\n",
    "#     lmc_coefficients = lmc_coefficients.expand(*batch_shape, lmc_coefficients.shape[-1])[..., None]\n",
    "#     indices = indices.expand(*batch_shape, indices.shape[-1])[..., None]\n",
    "#     res = left_interp(\n",
    "#         indices,\n",
    "#         torch.ones(indices.shape, dtype=torch.long, device=indices.device),\n",
    "#         lmc_coefficients,\n",
    "#     ).squeeze(-1)\n",
    "#     return res\n",
    "\n",
    "\n",
    "# class LMCVariationalStrategy(_VariationalStrategy):\n",
    "#     r\"\"\"\n",
    "#     LMCVariationalStrategy is an implementation of the \"Linear Model of Coregionalization\"\n",
    "#     for multitask GPs. This model assumes that there are :math:`Q` latent functions\n",
    "#     :math:`\\mathbf g(\\cdot) = [g^{(1)}(\\cdot), \\ldots, g^{(q)}(\\cdot)]`,\n",
    "#     each of which is modelled by a GP.\n",
    "#     The output functions (tasks) are linear combination of the latent functions:\n",
    "\n",
    "#     .. math::\n",
    "\n",
    "#         f_{\\text{task } i}( \\mathbf x) = \\sum_{q=1}^Q a_i^{(q)} g^{(q)} ( \\mathbf x )\n",
    "\n",
    "#     LMCVariationalStrategy wraps an existing :obj:`~gpytorch.variational.VariationalStrategy`.\n",
    "#     The output will either be a :obj:`~gpytorch.distributions.MultitaskMultivariateNormal` distribution\n",
    "#     (if we wish to evaluate all tasks for each input) or a :obj:`~gpytorch.distributions.MultivariateNormal`\n",
    "#     (if we wish to evaluate a single task for each input).\n",
    "\n",
    "#     The base variational strategy is assumed to operate on a multi-batch of GPs, where one\n",
    "#     of the batch dimensions corresponds to the latent function dimension.\n",
    "\n",
    "#     .. note::\n",
    "\n",
    "#         The batch shape of the base :obj:`~gpytorch.variational.VariationalStrategy` does not\n",
    "#         necessarily have to correspond to the batch shape of the underlying GP objects.\n",
    "\n",
    "#         For example, if the base variational strategy has a batch shape of `[3]` (corresponding\n",
    "#         to 3 latent functions), the GP kernel object could have a batch shape of `[3]` or no\n",
    "#         batch shape. This would correspond to each of the latent functions having different kernels\n",
    "#         or the same kernel, respectivly.\n",
    "\n",
    "#     Example:\n",
    "#         >>> class LMCMultitaskGP(gpytorch.models.ApproximateGP):\n",
    "#         >>>     '''\n",
    "#         >>>     3 latent functions\n",
    "#         >>>     5 output dimensions (tasks)\n",
    "#         >>>     '''\n",
    "#         >>>     def __init__(self):\n",
    "#         >>>         # Each latent function shares the same inducing points\n",
    "#         >>>         # We'll have 32 inducing points, and let's assume the input dimensionality is 2\n",
    "#         >>>         inducing_points = torch.randn(32, 2)\n",
    "#         >>>\n",
    "#         >>>         # The variational parameters have a batch_shape of [3] - for 3 latent functions\n",
    "#         >>>         variational_distribution = gpytorch.variational.MeanFieldVariationalDistribution(\n",
    "#         >>>             inducing_points.size(-1), batch_shape=torch.Size([3]),\n",
    "#         >>>         )\n",
    "#         >>>         variational_strategy = gpytorch.variational.LMCVariationalStrategy(\n",
    "#         >>>             gpytorch.variational.VariationalStrategy(\n",
    "#         >>>                 inducing_points, variational_distribution, learn_inducing_locations=True,\n",
    "#         >>>             ),\n",
    "#         >>>             num_tasks=5,\n",
    "#         >>>             num_latents=3,\n",
    "#         >>>             latent_dim=0,\n",
    "#         >>>         )\n",
    "#         >>>\n",
    "#         >>>         # Each latent function has its own mean/kernel function\n",
    "#         >>>         super().__init__(variational_strategy)\n",
    "#         >>>         self.mean_module = gpytorch.means.ConstantMean(batch_shape=torch.Size([3]))\n",
    "#         >>>         self.covar_module = gpytorch.kernels.ScaleKernel(\n",
    "#         >>>             gpytorch.kernels.RBFKernel(batch_shape=torch.Size([3])),\n",
    "#         >>>             batch_shape=torch.Size([3]),\n",
    "#         >>>         )\n",
    "#         >>>\n",
    "\n",
    "#     :param ~gpytorch.variational.VariationalStrategy base_variational_strategy: Base variational strategy\n",
    "#     :param int num_tasks: The total number of tasks (output functions)\n",
    "#     :param int num_latents: The total number of latent functions in each group\n",
    "#     :param latent_dim: (Default: -1) Which batch dimension corresponds to the latent function batch.\n",
    "#         **Must be negative indexed**\n",
    "#     :type latent_dim: `int` < 0\n",
    "#     \"\"\"\n",
    "\n",
    "#     def __init__(\n",
    "#         self,\n",
    "#         base_variational_strategy,\n",
    "#         num_tasks,\n",
    "#         num_latents=1,\n",
    "#         latent_dim=-1,\n",
    "#     ):\n",
    "#         Module.__init__(self)\n",
    "#         self.base_variational_strategy = base_variational_strategy\n",
    "#         self.num_tasks = num_tasks\n",
    "#         batch_shape = self.base_variational_strategy._variational_distribution.batch_shape\n",
    "\n",
    "#         # Check if no functions\n",
    "#         if latent_dim >= 0:\n",
    "#             raise RuntimeError(f\"latent_dim must be a negative indexed batch dimension: got {latent_dim}.\")\n",
    "#         if not (batch_shape[latent_dim] == num_latents or batch_shape[latent_dim] == 1):\n",
    "#             raise RuntimeError(\n",
    "#                 f\"Mismatch in num_latents: got a variational distribution of batch shape {batch_shape}, \"\n",
    "#                 f\"expected the function dim {latent_dim} to be {num_latents}.\"\n",
    "#             )\n",
    "#         self.num_latents = num_latents\n",
    "#         self.latent_dim = latent_dim\n",
    "#         self.latent_dist = None\n",
    "\n",
    "#         # Make the batch_shape\n",
    "#         self.batch_shape = list(batch_shape)\n",
    "#         del self.batch_shape[self.latent_dim]\n",
    "#         self.batch_shape = torch.Size(self.batch_shape)\n",
    "\n",
    "#         # LCM coefficients\n",
    "#         lmc_coefficients = torch.randn(*batch_shape, self.num_tasks)\n",
    "#         self.register_parameter(\"lmc_coefficients\", torch.nn.Parameter(lmc_coefficients))\n",
    "\n",
    "#     @property\n",
    "#     def prior_distribution(self):\n",
    "#         return self.base_variational_strategy.prior_distribution\n",
    "\n",
    "#     @property\n",
    "#     def variational_distribution(self):\n",
    "#         return self.base_variational_strategy.variational_distribution\n",
    "\n",
    "#     @property\n",
    "#     def variational_params_initialized(self):\n",
    "#         return self.base_variational_strategy.variational_params_initialized\n",
    "\n",
    "#     def kl_divergence(self):\n",
    "#         return super().kl_divergence().sum(dim=self.latent_dim)\n",
    "\n",
    "#     def __call__(self, x, task_indices=None, prior=False, **kwargs):\n",
    "#         r\"\"\"\n",
    "#         Computes the variational (or prior) distribution\n",
    "#         :math:`q( \\mathbf f \\mid \\mathbf X)` (or :math:`p( \\mathbf f \\mid \\mathbf X)`).\n",
    "#         There are two modes:\n",
    "\n",
    "#         1.  Compute **all tasks** for all inputs.\n",
    "#             If this is the case, the task_indices attribute should be None.\n",
    "#             The return type will be a (... x N x num_tasks)\n",
    "#             :class:`~gpytorch.distributions.MultitaskMultivariateNormal`.\n",
    "#         2.  Compute **one task** per inputs.\n",
    "#             If this is the case, the (... x N) task_indices tensor should contain\n",
    "#             the indices of each input's assigned task.\n",
    "#             The return type will be a (... x N)\n",
    "#             :class:`~gpytorch.distributions.MultivariateNormal`.\n",
    "\n",
    "#         :param x: Input locations to evaluate variational strategy\n",
    "#         :type x: torch.Tensor (... x N x D)\n",
    "#         :param task_indices: (Default: None) Task index associated with each input.\n",
    "#             If this **is not** provided, then the returned distribution evaluates every input on every task\n",
    "#             (returns :class:`~gpytorch.distributions.MultitaskMultivariateNormal`).\n",
    "#             If this **is** provided, then the returned distribution evaluates each input only on its assigned task.\n",
    "#             (returns :class:`~gpytorch.distributions.MultivariateNormal`).\n",
    "#         :type task_indices: torch.Tensor (... x N), optional\n",
    "#         :param prior: (Default: False) If False, returns the variational distribution\n",
    "#             :math:`q( \\mathbf f \\mid \\mathbf X)`.\n",
    "#             If True, returns the prior distribution\n",
    "#             :math:`p( \\mathbf f \\mid \\mathbf X)`.\n",
    "#         :type prior: bool\n",
    "#         :return: :math:`q( \\mathbf f \\mid \\mathbf X)` (or the prior),\n",
    "#             either for all tasks (if `task_indices == None`)\n",
    "#             or for a specific task (if `task_indices != None`).\n",
    "#         :rtype: ~gpytorch.distributions.MultitaskMultivariateNormal (... x N x num_tasks)\n",
    "#             or ~gpytorch.distributions.MultivariateNormal (... x N)\n",
    "#         \"\"\"\n",
    "#         self.latent_dist = self.base_variational_strategy(x, prior=prior, **kwargs)\n",
    "#         num_batch = len(self.latent_dist.batch_shape)\n",
    "#         latent_dim = num_batch + self.latent_dim\n",
    "\n",
    "#         if task_indices is None:\n",
    "#             num_dim = num_batch + len(self.latent_dist.event_shape)\n",
    "\n",
    "#             # Every data point will get an output for each task\n",
    "#             # Therefore, we will set up the lmc_coefficients shape for a matmul\n",
    "#             lmc_coefficients = self.lmc_coefficients.expand(*self.latent_dist.batch_shape, self.lmc_coefficients.size(-1))\n",
    "\n",
    "#             # Mean: ... x N x num_tasks\n",
    "#             latent_mean = self.latent_dist.mean.permute(*range(0, latent_dim), *range(latent_dim + 1, num_dim), latent_dim)\n",
    "#             mean = latent_mean @ lmc_coefficients.permute(\n",
    "#                 *range(0, latent_dim), *range(latent_dim + 1, num_dim - 1), latent_dim, -1\n",
    "#             )\n",
    "\n",
    "#             # Covar: ... x (N x num_tasks) x (N x num_tasks)\n",
    "#             latent_covar = self.latent_dist.lazy_covariance_matrix\n",
    "#             lmc_factor = RootLinearOperator(lmc_coefficients.unsqueeze(-1))\n",
    "#             covar = KroneckerProductLinearOperator(latent_covar, lmc_factor).sum(latent_dim)\n",
    "#             # Add a bit of jitter to make the covar PD\n",
    "#             covar = covar.add_jitter(settings.cholesky_jitter.value(dtype=mean.dtype))\n",
    "\n",
    "#             # Done!\n",
    "#             function_dist = MultitaskMultivariateNormal(mean, covar)\n",
    "\n",
    "#         else:\n",
    "#             # Each data point will get a single output corresponding to a single task\n",
    "#             # Therefore, we will select the appropriate lmc coefficients for each task\n",
    "#             lmc_coefficients = _select_lmc_coefficients(self.lmc_coefficients, task_indices)\n",
    "\n",
    "#             # Mean: ... x N\n",
    "#             mean = (self.latent_dist.mean * lmc_coefficients).sum(latent_dim)\n",
    "\n",
    "#             # Covar: ... x N x N\n",
    "#             latent_covar = self.latent_dist.lazy_covariance_matrix\n",
    "#             lmc_factor = RootLinearOperator(lmc_coefficients.unsqueeze(-1))\n",
    "#             covar = (latent_covar * lmc_factor).sum(latent_dim)\n",
    "#             # Add a bit of jitter to make the covar PD\n",
    "#             covar = covar.add_jitter(settings.cholesky_jitter.value(dtype=mean.dtype))\n",
    "\n",
    "#             # Done!\n",
    "#             function_dist = MultivariateNormal(mean, covar)\n",
    "\n",
    "#         return function_dist"
   ]
  },
  {
   "attachments": {},
   "cell_type": "markdown",
   "metadata": {},
   "source": [
    "## Setup scenario"
   ]
  },
  {
   "cell_type": "code",
   "execution_count": 8,
   "metadata": {},
   "outputs": [],
   "source": [
    "N_1 = 400\n",
    "N_2 = 500\n",
    "X = torch.linspace(0, 1, 1000)\n",
    "\n",
    "obs_idx_x1 = torch.concat([torch.randint(low=0, high=250, size=(int(N_1/2),)).sort()[0],\n",
    "                           torch.randint(low=500, high=1000, size=(int(N_1/2),)).sort()[0]])\n",
    "\n",
    "obs_idx_x3 = obs_idx_x1\n",
    "\n",
    "obs_idx_x2 = torch.concat([torch.randint(low=0, high=600, size=(int(N_2/2),)).sort()[0],\n",
    "                         torch.randint(low=850, high=1000, size=(int(N_2/2),)).sort()[0]])\n",
    "\n",
    "obs_idx_x4 = obs_idx_x2\n",
    "\n",
    "train_i_task1 = torch.full((obs_idx_x1.shape[0],1), dtype=torch.long, fill_value=0)\n",
    "train_i_task2 = torch.full((obs_idx_x2.shape[0],1), dtype=torch.long, fill_value=1)\n",
    "train_i_task3 = torch.full((obs_idx_x3.shape[0],1), dtype=torch.long, fill_value=2)\n",
    "train_i_task4 = torch.full((obs_idx_x4.shape[0],1), dtype=torch.long, fill_value=3)\n",
    "\n",
    "train_x1 = X[obs_idx_x1]\n",
    "train_x2 = X[obs_idx_x2]\n",
    "train_x3 = X[obs_idx_x3]\n",
    "train_x4 = X[obs_idx_x4]\n",
    "\n",
    "N = obs_idx_x1.size(-1) + obs_idx_x2.size(-1) + obs_idx_x3.size(-1) + obs_idx_x4.size(-1)\n",
    "\n",
    "full_train_x = torch.cat([train_x1, train_x2, train_x3, train_x4])\n",
    "full_train_i = torch.cat([train_i_task1, train_i_task2, train_i_task3, train_i_task4])"
   ]
  },
  {
   "cell_type": "code",
   "execution_count": 9,
   "metadata": {},
   "outputs": [],
   "source": [
    "class ExactGP(gpytorch.models.ExactGP):\n",
    "            \n",
    "    def __init__(self, train_x, train_y, likelihood, kernel):\n",
    "        super().__init__(train_x, train_y, likelihood)\n",
    "        self.mean_module = gpytorch.means.ConstantMean()\n",
    "        self.covar_module = kernel\n",
    "                \n",
    "    def forward(self, x):\n",
    "        mean_x = self.mean_module(x)\n",
    "        covar_x = self.covar_module(x)\n",
    "        return gpytorch.distributions.MultivariateNormal(mean_x, covar_x)\n",
    "    \n",
    "input_dim = 1\n",
    "train_x = None\n",
    "train_y = None\n",
    "\n",
    "# initialise the model\n",
    "likelihood = gpytorch.likelihoods.GaussianLikelihood()\n",
    "kernel1 = gpytorch.kernels.ScaleKernel(gpytorch.kernels.RBFKernel(ard_num_dims=input_dim))\n",
    "kernel2 = gpytorch.kernels.ScaleKernel(gpytorch.kernels.PeriodicKernel(ard_num_dims=input_dim))\n",
    "model1 = ExactGP(train_x=train_x, train_y=train_y, likelihood=likelihood, kernel=kernel1)\n",
    "model2 = ExactGP(train_x=train_x, train_y=train_y, likelihood=likelihood, kernel=kernel2)\n",
    "\n",
    "hypers = [\n",
    "    {\n",
    "        'likelihood.noise_covar.noise': torch.tensor(1),\n",
    "        'covar_module.outputscale': torch.tensor(1.),\n",
    "        'covar_module.base_kernel.lengthscale': torch.tensor(.5),\n",
    "    }, \n",
    "    {\n",
    "        'likelihood.noise_covar.noise': torch.tensor(1),\n",
    "        'covar_module.outputscale': torch.tensor(1.),\n",
    "        'covar_module.base_kernel.lengthscale': torch.tensor(.8),\n",
    "        'covar_module.base_kernel.period_length': torch.tensor(.25)\n",
    "    }\n",
    "]\n",
    "\n",
    "# non-surface\n",
    "N = 1000\n",
    "torch.manual_seed(55)\n",
    "Y = torch.empty((N,2))\n",
    "\n",
    "# # surface\n",
    "# N = 100\n",
    "# x1 = torch.linspace(0, 1, N)\n",
    "# x2 = torch.linspace(0, 1, N)\n",
    "# x1_grid, x2_grid = torch.meshgrid([x1, x2])\n",
    "# X = torch.cat(tuple(torch.dstack([x1_grid, x2_grid])))\n",
    "# Y = torch.empty((N**2,2))\n",
    "\n",
    "A = torch.tensor([\n",
    "    [-.25, 2.1, .91, -.05, -.05, -0.25], # A_1\n",
    "    [-.52, -0.05, .25, 1.1, 1.1, .1], # A_2\n",
    "]).T\n",
    "\n",
    "torch.manual_seed(55)\n",
    "model1.initialize(**hypers[0])\n",
    "model1.eval()\n",
    "with gpytorch.settings.prior_mode(True):\n",
    "    Y[:,0] = model1(X).sample()\n",
    "    \n",
    "torch.manual_seed(2)\n",
    "model2.initialize(**hypers[1])\n",
    "model2.eval()\n",
    "with gpytorch.settings.prior_mode(True):\n",
    "    Y[:,1] = model2(X).sample()\n",
    "    \n",
    "\n",
    "torch.manual_seed(55)\n",
    "f_11 = Y @ A[0,:]\n",
    "f_12 = Y @ A[1,:]\n",
    "test_y1 = torch.normal(f_11, f_12.exp())\n",
    "train_y1 = test_y1[obs_idx_x1]\n",
    "\n",
    "torch.manual_seed(55)\n",
    "f_21 = Y @ A[2,:]\n",
    "test_y2 = dist.Poisson(f_21.exp())()\n",
    "train_y2 = test_y2[obs_idx_x2]\n",
    "\n",
    "torch.manual_seed(55)\n",
    "f_31 = Y @ A[3,:]\n",
    "test_y3 = dist.Poisson(f_31.exp())()\n",
    "train_y3 = test_y3[obs_idx_x3]\n",
    "\n",
    "torch.manual_seed(55)\n",
    "f_41 = Y @ A[4,:]\n",
    "f_42 = Y @ A[5,:]\n",
    "test_y4 = torch.normal(f_41, f_42.exp())\n",
    "train_y4 = test_y4[obs_idx_x4]\n",
    "\n",
    "full_train_y = torch.cat([train_y1, train_y2, train_y3, train_y4])"
   ]
  },
  {
   "cell_type": "code",
   "execution_count": 10,
   "metadata": {},
   "outputs": [
    {
     "data": {
      "text/plain": [
       "<AxesSubplot:>"
      ]
     },
     "execution_count": 10,
     "metadata": {},
     "output_type": "execute_result"
    },
    {
     "data": {
      "image/png": "[encoded data removed]",
      "text/plain": [
       "<Figure size 432x288 with 1 Axes>"
      ]
     },
     "metadata": {
      "needs_background": "light"
     },
     "output_type": "display_data"
    }
   ],
   "source": [
    "sns.lineplot(X, Y[:,0])"
   ]
  },
  {
   "cell_type": "code",
   "execution_count": 11,
   "metadata": {},
   "outputs": [
    {
     "data": {
      "text/plain": [
       "<AxesSubplot:>"
      ]
     },
     "execution_count": 11,
     "metadata": {},
     "output_type": "execute_result"
    },
    {
     "data": {
      "image/png": "[encoded data removed]",
      "text/plain": [
       "<Figure size 432x288 with 1 Axes>"
      ]
     },
     "metadata": {
      "needs_background": "light"
     },
     "output_type": "display_data"
    }
   ],
   "source": [
    "sns.lineplot(X, Y[:,1])"
   ]
  },
  {
   "cell_type": "code",
   "execution_count": 12,
   "metadata": {},
   "outputs": [
    {
     "data": {
      "text/plain": [
       "<AxesSubplot:>"
      ]
     },
     "execution_count": 12,
     "metadata": {},
     "output_type": "execute_result"
    },
    {
     "data": {
      "image/png": "[encoded data removed]",
      "text/plain": [
       "<Figure size 432x288 with 1 Axes>"
      ]
     },
     "metadata": {
      "needs_background": "light"
     },
     "output_type": "display_data"
    }
   ],
   "source": [
    "sns.scatterplot(train_x1, train_y1, alpha=.5)\n",
    "sns.scatterplot(train_x4, train_y4, alpha=.5)"
   ]
  },
  {
   "cell_type": "code",
   "execution_count": 13,
   "metadata": {},
   "outputs": [
    {
     "data": {
      "text/plain": [
       "<AxesSubplot:>"
      ]
     },
     "execution_count": 13,
     "metadata": {},
     "output_type": "execute_result"
    },
    {
     "data": {
      "image/png": "[encoded data removed]",
      "text/plain": [
       "<Figure size 432x288 with 1 Axes>"
      ]
     },
     "metadata": {
      "needs_background": "light"
     },
     "output_type": "display_data"
    }
   ],
   "source": [
    "sns.scatterplot(train_x2, train_y2, alpha=.5)\n",
    "sns.scatterplot(train_x3, train_y3, alpha=.5)"
   ]
  },
  {
   "attachments": {},
   "cell_type": "markdown",
   "metadata": {},
   "source": [
    "## Running model"
   ]
  },
  {
   "cell_type": "code",
   "execution_count": 14,
   "metadata": {},
   "outputs": [],
   "source": [
    "test_x = X\n",
    "\n",
    "if torch.cuda.is_available():\n",
    "    full_train_x, full_train_y, test_x, = full_train_x.cuda(), full_train_y.cuda(), test_x.cuda()"
   ]
  },
  {
   "attachments": {},
   "cell_type": "markdown",
   "metadata": {},
   "source": [
    "Notes to make task_indices work:\n",
    "\n",
    "- ```function_dist = self.pyro_guide(x)``` to include ```task_indices``` arg\n",
    "- ```function_dist = self.pyro_model(x)``` to include ```task_indices``` arg\n",
    "- check if ```function_dist.batch_shape``` and ```function_dist.event_shape``` for ```function_dist``` changes as a result adding in ```task_indices```\n",
    "- setup train_x and task_indices as per [tutorial](https://docs.gpytorch.ai/en/stable/examples/03_Multitask_Exact_GPs/Hadamard_Multitask_GP_Regression.html)\n",
    "- Do I need to make input a tuple? ```model = MultitaskGPModel((full_train_x, full_train_i), full_train_y, likelihood)```\n",
    "\n",
    "\n",
    "To test\n",
    "\n",
    "- Size for each N_i are different"
   ]
  },
  {
   "cell_type": "code",
   "execution_count": 32,
   "metadata": {},
   "outputs": [],
   "source": [
    "class MultitaskGPModel(gpytorch.models.ApproximateGP):\n",
    "    def __init__(self, train_x, num_lpf, likelihoods, kernels, name_prefix=\"lmc_mogp\", num_inducing=100, jitter_val=1e-06):\n",
    "        \n",
    "        self.name_prefix = name_prefix\n",
    "        self.likelihoods = likelihoods\n",
    "        self.n_task_indices = len(likelihoods)\n",
    "        num_latents = len(kernels)\n",
    "        \n",
    "        input_dim = 1\n",
    "        if train_x.dim() > 1:\n",
    "            input_dim = train_x.size(-1)\n",
    "        \n",
    "        # Let's use a different set of inducing points for each latent function\n",
    "        inducing_points = torch.linspace(0, 1, num_inducing).expand(1, input_dim, num_inducing).permute(0,2,1)\n",
    "        # We have to mark the CholeskyVariationalDistribution as batch\n",
    "        # so that we learn a variational distribution for each task\n",
    "        \n",
    "        variational_distribution = gpytorch.variational.MeanFieldVariationalDistribution(\n",
    "            inducing_points.size(-2), batch_shape=torch.Size([num_latents])\n",
    "        )\n",
    "\n",
    "        # We have to wrap the VariationalStrategy in a LMCVariationalStrategy\n",
    "        # so that the output will be a MultitaskMultivariateNormal rather than a batch output\n",
    "        base_variational_strategy = gpytorch.variational.VariationalStrategy(\n",
    "                self, inducing_points, \n",
    "                variational_distribution, # variational distribution over the inducing point values, q(u),\n",
    "                learn_inducing_locations=True,\n",
    "            )\n",
    "        \n",
    "        # __call__ function calls variational_strategy instance of LMCVariationalStrategy\n",
    "        variational_strategy = LMCVariationalStrategy(\n",
    "            base_variational_strategy=base_variational_strategy,\n",
    "            num_tasks=num_lpf,\n",
    "            num_latents=num_latents,\n",
    "            latent_dim=-1,\n",
    "            jitter_val=jitter_val\n",
    "        )\n",
    "        \n",
    "        super().__init__(variational_strategy=variational_strategy)\n",
    "        \n",
    "        # The mean and covariance modules should be marked as batch\n",
    "        # so we learn a different set of hyperparameters\n",
    "        self.mean_module = gpytorch.means.ConstantMean(batch_shape=torch.Size([num_latents]))\n",
    "        self.covar_module = LMCSeparableKernel(kernels, batch_shape=torch.Size([num_latents]))\n",
    "\n",
    "    def forward(self, x, task_indices=torch.LongTensor([0, 1, 3, 2, 2])):\n",
    "        # The forward function should be written as if we were dealing with each output\n",
    "        # dimension in batch\n",
    "        print(\"task_indices:\", task_indices)\n",
    "        mean_x = self.mean_module(x)\n",
    "        covar_x = self.covar_module(x)\n",
    "        return gpytorch.distributions.MultivariateNormal(mean_x, covar_x)\n",
    "        \n",
    "    def compute_likelihoods(self, y, function_dist, likelihoods):\n",
    "        \n",
    "        # if no task_indices\n",
    "        # assert train_y.size(-1) == len(likelihoods), f\"Size of output y does not much size of likelihoods list. \\\n",
    "        #     Input size is ({train_y.size(-1)}, {len(likelihoods)}).\"\n",
    "        \n",
    "        # if task_indices\n",
    "        assert train_y.size(-1) == len(likelihoods), f\"Size of output y does not much size of likelihoods list. \\\n",
    "            Input size is ({train_y.size(-1)}, {len(likelihoods)}).\"\n",
    "        \n",
    "        \n",
    "        with pyro.plate(self.name_prefix + \".data_plate\", dim=-1):\n",
    "            # Sample from latent function distribution\n",
    "            f = pyro.sample(self.name_prefix + \".f(x)\", function_dist)\n",
    "            \n",
    "            j = 0\n",
    "            for i, l in enumerate(likelihoods):\n",
    "                if l == \"HetGaussian\":\n",
    "                    pyro.sample(\n",
    "                        self.name_prefix + \".y_\" + str(i),\n",
    "                        dist.Normal(f[..., j], f[...,j+1].exp()).to_event(1),\n",
    "                        obs=y[...,i]\n",
    "                    )\n",
    "                    j += 2\n",
    "                elif l == \"Poisson\":\n",
    "                    pyro.sample(\n",
    "                        self.name_prefix + \".y_\" + str(i),\n",
    "                        dist.Poisson(f[...,j].exp()).to_event(1),\n",
    "                        obs=y[...,i]\n",
    "                    )\n",
    "                    j += 1\n",
    "                elif l == \"Bernoulli\":\n",
    "                    pyro.sample(\n",
    "                        self.name_prefix + \".y_\" + str(i),\n",
    "                        dist.Bernoulli(logits=f[...,j]).to_event(1),\n",
    "                        obs=y[...,i]\n",
    "                    )\n",
    "                    j += 1\n",
    "                elif l == \"Categorical\":\n",
    "                    n_categories = y[...,i].max().to(torch.long).item() + 1\n",
    "                    pyro.sample(\n",
    "                        self.name_prefix + \".y_\" + str(i),\n",
    "                        dist.Categorical(logits=f[...,j:(n_categories+1)]).to_event(1),\n",
    "                        obs=y[...,i]\n",
    "                    )\n",
    "                    j += n_categories\n",
    "                    \n",
    "            assert f.size(-1) == j, f\"Not all latent parameter functions (LPF) were used as inputs to likelihood distributions. \\\n",
    "                Total LPF is {f.size(-1)}, however only {j} of the LPFs were used as inputs.\"\n",
    "    \n",
    "    @pyro.poutine.scale(scale=1.0/(full_train_y.numel()))\n",
    "    def guide(self, x, y, task):\n",
    "         # Get q(f) - variational (guide) distribution of latent function\n",
    "        function_dist = self.pyro_guide(x)\n",
    "        print(\"guide function_dist.batch_shape:\", function_dist.batch_shape) # torch.Size([1000])\n",
    "        print(\"guide function_dist.event_shape:\", function_dist.event_shape) # torch.Size([6])\n",
    "        with pyro.plate(self.name_prefix + \".data_plate\", dim=-1):\n",
    "            # Sample from latent function distribution\n",
    "            f = pyro.sample(self.name_prefix + \".f(x)\", function_dist)\n",
    "    \n",
    "    @pyro.poutine.scale(scale=1.0/(full_train_y.numel()))\n",
    "    def model(self, x, y, task):\n",
    "        pyro.module(self.name_prefix + \".gp\", self)\n",
    "\n",
    "        # Get p(f) - prior distribution of latent function\n",
    "        function_dist = self.pyro_model(x)        \n",
    "        print(\"model function_dist.batch_shape:\", function_dist.batch_shape) # torch.Size([1000])\n",
    "        print(\"model function_dist.event_shape:\", function_dist.event_shape) # torch.Size([6])\n",
    "        self.compute_likelihoods(y, function_dist, self.likelihoods)"
   ]
  },
  {
   "cell_type": "code",
   "execution_count": 33,
   "metadata": {},
   "outputs": [],
   "source": [
    "# class MultitaskGPModel(gpytorch.models.ApproximateGP):\n",
    "#     def __init__(self, num_tasks, input_dim, name_prefix=\"lmc_mogp\", kernel_type=\"rbf\", kernel_list=None, num_inducing=200):\n",
    "        \n",
    "#         self.name_prefix = name_prefix\n",
    "#         num_latents = len(kernel_list)\n",
    "        \n",
    "#         # inducing_points = torch.linspace(0, 1, 500)\n",
    "#         inducing_points = torch.linspace(0, 1, num_inducing).expand(1, input_dim, num_inducing).permute(0,2,1)\n",
    "#         print(\"inducing_points.shape:\", inducing_points.shape)\n",
    "#         variational_distribution = gpytorch.variational.MeanFieldVariationalDistribution(\n",
    "#             inducing_points.size(-2), batch_shape=torch.Size([num_latents])\n",
    "#         )\n",
    "#         print(\"variational_distribution.shape:\", variational_distribution.shape())\n",
    "\n",
    "#         base_variational_strategy = gpytorch.variational.VariationalStrategy(\n",
    "#                 self, inducing_points, \n",
    "#                 variational_distribution, # variational distribution over the inducing point values, q(u),\n",
    "#                 learn_inducing_locations=True\n",
    "#             )\n",
    "        \n",
    "#         variational_strategy = LMCVariationalStrategy(\n",
    "#             base_variational_strategy=base_variational_strategy,\n",
    "#             num_tasks=num_tasks,\n",
    "#             num_latents=num_latents,\n",
    "#             latent_dim=-1\n",
    "#         )\n",
    "        \n",
    "#         super().__init__(variational_strategy=variational_strategy)\n",
    "        \n",
    "#         if kernel_type == \"matern\":\n",
    "#             kernel = gpytorch.kernels.ScaleKernel(gpytorch.kernels.MaternKernel(batch_shape=torch.Size([num_latents])), batch_shape=torch.Size([num_latents]))\n",
    "#         elif kernel_type == \"rbfmatern\":\n",
    "#             rbf_kernel = gpytorch.kernels.RBFKernel(batch_shape=torch.Size([num_latents]))\n",
    "#             matern_kernel = gpytorch.kernels.MaternKernel(batch_shape=torch.Size([num_latents]))\n",
    "#             kernel = gpytorch.kernels.AdditiveKernel(rbf_kernel, matern_kernel)\n",
    "#         elif kernel_type == \"wtf\":\n",
    "#             kernel = gpytorch.kernels.ScaleKernel(\n",
    "#                                 gpytorch.kernels.RBFKernel(batch_shape=torch.Size([num_latents])), \n",
    "#                                 batch_shape=torch.Size([num_latents])) + \\\n",
    "#                         gpytorch.kernels.ScaleKernel(\n",
    "#                             gpytorch.kernels.PeriodicKernel(batch_shape=torch.Size([num_latents])),\n",
    "#                             batch_shape=torch.Size([num_latents]))\n",
    "#         elif kernel_type == \"wtf_try_again\":\n",
    "#             kernel = gpytorch.kernels.LCMKernel(\n",
    "#                             [gpytorch.kernels.RBFKernel(),\n",
    "#                             gpytorch.kernels.PeriodicKernel()],\n",
    "#                             num_tasks=num_tasks\n",
    "#                         )\n",
    "#         elif kernel_type == \"lmc\":\n",
    "#             kernel = LMCSeparableKernel(kernel_list, batch_shape=torch.Size([num_latents]))\n",
    "#         else:\n",
    "#             kernel = gpytorch.kernels.ScaleKernel(gpytorch.kernels.RBFKernel(batch_shape=torch.Size([num_latents])), \n",
    "#                                                   batch_shape=torch.Size([num_latents]))\n",
    "#         # The mean and covariance modules should be marked as batch\n",
    "#         # so we learn a different set of hyperparameters\n",
    "#         self.mean_module = gpytorch.means.ConstantMean(batch_shape=torch.Size([num_latents]))\n",
    "#         self.covar_module = kernel\n",
    "\n",
    "#     def forward(self, x):\n",
    "#         # The forward function should be written as if we were dealing with each output\n",
    "#         # dimension in batch\n",
    "#         mean_x = self.mean_module(x)\n",
    "#         covar_x = self.covar_module(x)\n",
    "#         return gpytorch.distributions.MultivariateNormal(mean_x, covar_x)\n",
    "    \n",
    "#     @pyro.poutine.scale(scale=1.0/(3000.0))\n",
    "#     def guide(self, x, y):\n",
    "#          # Get q(f) - variational (guide) distribution of latent function\n",
    "#         function_dist = self.pyro_guide(x)\n",
    "\n",
    "#         # Use a plate here to mark conditional independencies\n",
    "#         # with pyro.plate(self.name_prefix + \".data_plate\", dim=-1):\n",
    "#         with pyro.plate(self.name_prefix + \".data_plate\", dim=-1):\n",
    "#             # Sample from latent function distribution\n",
    "#             f = pyro.sample(self.name_prefix + \".f(x)\", function_dist)\n",
    "        \n",
    "        \n",
    "#     @pyro.poutine.scale(scale=1.0/(3000.0))\n",
    "#     def model(self, x, y):\n",
    "#         pyro.module(self.name_prefix + \".gp\", self)\n",
    "\n",
    "#         # Get p(f) - prior distribution of latent function\n",
    "#         function_dist = self.pyro_model(x)\n",
    "\n",
    "#         # Use a plate here to mark conditional independencies\n",
    "#         # with pyro.plate(self.name_prefix + \".data_plate\", dim=-1):\n",
    "#         with pyro.plate(self.name_prefix + \".data_plate\", dim=-1):\n",
    "#             # Sample from latent function distribution\n",
    "#             f = pyro.sample(self.name_prefix + \".f(x)\", function_dist)\n",
    "            \n",
    "#             # print(function_samples)\n",
    "#             # Sample from observed distribution\n",
    "#             pyro.sample(\n",
    "#                 self.name_prefix + \".y_1\",\n",
    "#                 dist.Normal(f[...,0], f[...,1].exp()).to_event(1),\n",
    "#                 obs=y[...,0]\n",
    "#             )\n",
    "            \n",
    "#             pyro.sample(\n",
    "#                 self.name_prefix + \".y_2\",\n",
    "#                 dist.Poisson(f[...,2].exp()).to_event(1),\n",
    "#                 obs=y[...,1]\n",
    "#             )\n",
    "            \n",
    "#             pyro.sample(\n",
    "#                 self.name_prefix + \".y_3\",\n",
    "#                 dist.Poisson(f[...,3].exp()).to_event(1),\n",
    "#                 obs=y[...,2]\n",
    "#             )\n",
    "            \n",
    "#             pyro.sample(\n",
    "#                 self.name_prefix + \".y_4\",\n",
    "#                 dist.Normal(f[...,4], f[...,5].exp()).to_event(1),\n",
    "#                 obs=y[...,3]\n",
    "#             )"
   ]
  },
  {
   "cell_type": "code",
   "execution_count": 34,
   "metadata": {},
   "outputs": [],
   "source": [
    "# model = MultitaskGPModel(num_tasks=6, num_latents=2, kernel_type=\"rbf\")\n",
    "lengthscale_prior = gpytorch.priors.GammaPrior(2.0, 4.0)\n",
    "\n",
    "kernel_list0 = [gpytorch.kernels.ScaleKernel(gpytorch.kernels.RBFKernel(lengthscale_prior=lengthscale_prior)),\n",
    "               gpytorch.kernels.ScaleKernel(gpytorch.kernels.PeriodicKernel(lengthscale_prior=lengthscale_prior))]\n",
    "\n",
    "kernel_list0_1 = [gpytorch.kernels.RBFKernel(lengthscale_prior=lengthscale_prior),\n",
    "               gpytorch.kernels.PeriodicKernel(lengthscale_prior=lengthscale_prior)]\n",
    "\n",
    "kernel_list1 = [gpytorch.kernels.RBFKernel(lengthscale_prior=lengthscale_prior), \n",
    "               gpytorch.kernels.ProductKernel(gpytorch.kernels.RBFKernel(lengthscale_prior=lengthscale_prior), \n",
    "                                              gpytorch.kernels.PeriodicKernel(lengthscale_prior=lengthscale_prior))]\n",
    "\n",
    "kernel_list2 = [gpytorch.kernels.RBFKernel(lengthscale_prior=lengthscale_prior), \n",
    "               gpytorch.kernels.ProductKernel(gpytorch.kernels.RBFKernel(lengthscale_prior=lengthscale_prior), \n",
    "                                              gpytorch.kernels.PeriodicKernel(lengthscale_prior=lengthscale_prior))]\n",
    "\n",
    "\n",
    "kernel_list3 = [gpytorch.kernels.RBFKernel(lengthscale_prior=lengthscale_prior), \n",
    "               gpytorch.kernels.AdditiveKernel(gpytorch.kernels.MaternKernel(lengthscale_prior=lengthscale_prior), \n",
    "                                              gpytorch.kernels.PeriodicKernel(lengthscale_prior=lengthscale_prior))]\n",
    "\n",
    "kernel_list4 = [gpytorch.kernels.RBFKernel(lengthscale_prior=lengthscale_prior), \n",
    "               gpytorch.kernels.AdditiveKernel(gpytorch.kernels.MaternKernel(lengthscale_prior=lengthscale_prior), \n",
    "                                              gpytorch.kernels.ProductKernel(\n",
    "                                                  gpytorch.kernels.RBFKernel(lengthscale_prior=lengthscale_prior), \n",
    "                                                  gpytorch.kernels.PeriodicKernel(lengthscale_prior=lengthscale_prior)))]\n",
    "\n",
    "kernel_list5 = [gpytorch.kernels.ScaleKernel(gpytorch.kernels.RBFKernel(lengthscale_prior=lengthscale_prior)), \n",
    "               gpytorch.kernels.ProductKernel(gpytorch.kernels.ScaleKernel(gpytorch.kernels.LinearKernel(lengthscale_prior=lengthscale_prior)), \n",
    "                                              gpytorch.kernels.ScaleKernel(gpytorch.kernels.PeriodicKernel(lengthscale_prior=lengthscale_prior)))]\n",
    "\n",
    "kernel_list6 = [gpytorch.kernels.ProductKernel(gpytorch.kernels.PeriodicKernel(lengthscale_prior=lengthscale_prior),\n",
    "                                               gpytorch.kernels.AdditiveKernel(gpytorch.kernels.RBFKernel(lengthscale_prior=lengthscale_prior),\n",
    "                                                                               gpytorch.kernels.RBFKernel(lengthscale_prior=lengthscale_prior)))]\n",
    "\n",
    "likelihoods = [\"HetGaussian\", \"Poisson\", \"Poisson\", \"HetGaussian\"]\n",
    "model = MultitaskGPModel(full_train_x, num_lpf=6, likelihoods=likelihoods, kernels=kernel_list0, num_inducing=100, jitter_val = 1e-9)\n",
    "\n",
    "if torch.cuda.is_available():\n",
    "    model = model.cuda()"
   ]
  },
  {
   "cell_type": "code",
   "execution_count": 36,
   "metadata": {},
   "outputs": [
    {
     "data": {
      "application/vnd.jupyter.widget-view+json": {
       "model_id": "e6ca39aad8354c278760847732c563fc",
       "version_major": 2,
       "version_minor": 0
      },
      "text/plain": [
       "Epoch:   0%|          | 0/1200 [00:00<?, ?it/s]"
      ]
     },
     "metadata": {},
     "output_type": "display_data"
    },
    {
     "name": "stdout",
     "output_type": "stream",
     "text": [
      "task_indices: tensor([0, 1, 3, 2, 2])\n",
      "task_indices is None!\n",
      "guide function_dist.batch_shape: torch.Size([1800])\n",
      "guide function_dist.event_shape: torch.Size([6])\n",
      "task_indices: tensor([0, 1, 3, 2, 2])\n",
      "task_indices is None!\n",
      "model function_dist.batch_shape: torch.Size([1800])\n",
      "model function_dist.event_shape: torch.Size([6])\n"
     ]
    },
    {
     "ename": "AttributeError",
     "evalue": "'NoneType' object has no attribute 'size'",
     "output_type": "error",
     "traceback": [
      "\u001b[0;31m---------------------------------------------------------------------------\u001b[0m",
      "\u001b[0;31mAttributeError\u001b[0m                            Traceback (most recent call last)",
      "\u001b[1;32m/home/cao/projects/hmogp/data/lmc_1D task_indices.ipynb Cell 20\u001b[0m in \u001b[0;36m<cell line: 27>\u001b[0;34m()\u001b[0m\n\u001b[1;32m     <a href='vscode-notebook-cell://wsl%2Bubuntu-20.04/home/cao/projects/hmogp/data/lmc_1D%20task_indices.ipynb#X24sdnNjb2RlLXJlbW90ZQ%3D%3D?line=26'>27</a>\u001b[0m \u001b[39mfor\u001b[39;00m i \u001b[39min\u001b[39;00m iterator:\n\u001b[1;32m     <a href='vscode-notebook-cell://wsl%2Bubuntu-20.04/home/cao/projects/hmogp/data/lmc_1D%20task_indices.ipynb#X24sdnNjb2RlLXJlbW90ZQ%3D%3D?line=27'>28</a>\u001b[0m     model\u001b[39m.\u001b[39mzero_grad()\n\u001b[0;32m---> <a href='vscode-notebook-cell://wsl%2Bubuntu-20.04/home/cao/projects/hmogp/data/lmc_1D%20task_indices.ipynb#X24sdnNjb2RlLXJlbW90ZQ%3D%3D?line=28'>29</a>\u001b[0m     loss \u001b[39m=\u001b[39m svi\u001b[39m.\u001b[39;49mstep(full_train_x, full_train_y, \u001b[39mNone\u001b[39;49;00m)\n\u001b[1;32m     <a href='vscode-notebook-cell://wsl%2Bubuntu-20.04/home/cao/projects/hmogp/data/lmc_1D%20task_indices.ipynb#X24sdnNjb2RlLXJlbW90ZQ%3D%3D?line=29'>30</a>\u001b[0m     loss_array[i] \u001b[39m=\u001b[39m loss\n\u001b[1;32m     <a href='vscode-notebook-cell://wsl%2Bubuntu-20.04/home/cao/projects/hmogp/data/lmc_1D%20task_indices.ipynb#X24sdnNjb2RlLXJlbW90ZQ%3D%3D?line=30'>31</a>\u001b[0m     iterator\u001b[39m.\u001b[39mset_postfix(loss\u001b[39m=\u001b[39mloss)\n",
      "File \u001b[0;32m~/miniconda3/envs/pytorch/lib/python3.9/site-packages/pyro/infer/svi.py:145\u001b[0m, in \u001b[0;36mSVI.step\u001b[0;34m(self, *args, **kwargs)\u001b[0m\n\u001b[1;32m    143\u001b[0m \u001b[39m# get loss and compute gradients\u001b[39;00m\n\u001b[1;32m    144\u001b[0m \u001b[39mwith\u001b[39;00m poutine\u001b[39m.\u001b[39mtrace(param_only\u001b[39m=\u001b[39m\u001b[39mTrue\u001b[39;00m) \u001b[39mas\u001b[39;00m param_capture:\n\u001b[0;32m--> 145\u001b[0m     loss \u001b[39m=\u001b[39m \u001b[39mself\u001b[39;49m\u001b[39m.\u001b[39;49mloss_and_grads(\u001b[39mself\u001b[39;49m\u001b[39m.\u001b[39;49mmodel, \u001b[39mself\u001b[39;49m\u001b[39m.\u001b[39;49mguide, \u001b[39m*\u001b[39;49margs, \u001b[39m*\u001b[39;49m\u001b[39m*\u001b[39;49mkwargs)\n\u001b[1;32m    147\u001b[0m params \u001b[39m=\u001b[39m \u001b[39mset\u001b[39m(\n\u001b[1;32m    148\u001b[0m     site[\u001b[39m\"\u001b[39m\u001b[39mvalue\u001b[39m\u001b[39m\"\u001b[39m]\u001b[39m.\u001b[39munconstrained() \u001b[39mfor\u001b[39;00m site \u001b[39min\u001b[39;00m param_capture\u001b[39m.\u001b[39mtrace\u001b[39m.\u001b[39mnodes\u001b[39m.\u001b[39mvalues()\n\u001b[1;32m    149\u001b[0m )\n\u001b[1;32m    151\u001b[0m \u001b[39m# actually perform gradient steps\u001b[39;00m\n\u001b[1;32m    152\u001b[0m \u001b[39m# torch.optim objects gets instantiated for any params that haven't been seen yet\u001b[39;00m\n",
      "File \u001b[0;32m~/miniconda3/envs/pytorch/lib/python3.9/site-packages/pyro/infer/trace_elbo.py:140\u001b[0m, in \u001b[0;36mTrace_ELBO.loss_and_grads\u001b[0;34m(self, model, guide, *args, **kwargs)\u001b[0m\n\u001b[1;32m    138\u001b[0m loss \u001b[39m=\u001b[39m \u001b[39m0.0\u001b[39m\n\u001b[1;32m    139\u001b[0m \u001b[39m# grab a trace from the generator\u001b[39;00m\n\u001b[0;32m--> 140\u001b[0m \u001b[39mfor\u001b[39;00m model_trace, guide_trace \u001b[39min\u001b[39;00m \u001b[39mself\u001b[39m\u001b[39m.\u001b[39m_get_traces(model, guide, args, kwargs):\n\u001b[1;32m    141\u001b[0m     loss_particle, surrogate_loss_particle \u001b[39m=\u001b[39m \u001b[39mself\u001b[39m\u001b[39m.\u001b[39m_differentiable_loss_particle(\n\u001b[1;32m    142\u001b[0m         model_trace, guide_trace\n\u001b[1;32m    143\u001b[0m     )\n\u001b[1;32m    144\u001b[0m     loss \u001b[39m+\u001b[39m\u001b[39m=\u001b[39m loss_particle \u001b[39m/\u001b[39m \u001b[39mself\u001b[39m\u001b[39m.\u001b[39mnum_particles\n",
      "File \u001b[0;32m~/miniconda3/envs/pytorch/lib/python3.9/site-packages/pyro/infer/elbo.py:178\u001b[0m, in \u001b[0;36mELBO._get_traces\u001b[0;34m(self, model, guide, args, kwargs)\u001b[0m\n\u001b[1;32m    176\u001b[0m \u001b[39mif\u001b[39;00m \u001b[39mself\u001b[39m\u001b[39m.\u001b[39mvectorize_particles:\n\u001b[1;32m    177\u001b[0m     \u001b[39mif\u001b[39;00m \u001b[39mself\u001b[39m\u001b[39m.\u001b[39mmax_plate_nesting \u001b[39m==\u001b[39m \u001b[39mfloat\u001b[39m(\u001b[39m\"\u001b[39m\u001b[39minf\u001b[39m\u001b[39m\"\u001b[39m):\n\u001b[0;32m--> 178\u001b[0m         \u001b[39mself\u001b[39;49m\u001b[39m.\u001b[39;49m_guess_max_plate_nesting(model, guide, args, kwargs)\n\u001b[1;32m    179\u001b[0m     \u001b[39myield\u001b[39;00m \u001b[39mself\u001b[39m\u001b[39m.\u001b[39m_get_vectorized_trace(model, guide, args, kwargs)\n\u001b[1;32m    180\u001b[0m \u001b[39melse\u001b[39;00m:\n",
      "File \u001b[0;32m~/miniconda3/envs/pytorch/lib/python3.9/site-packages/pyro/infer/elbo.py:98\u001b[0m, in \u001b[0;36mELBO._guess_max_plate_nesting\u001b[0;34m(self, model, guide, args, kwargs)\u001b[0m\n\u001b[1;32m     96\u001b[0m \u001b[39mwith\u001b[39;00m poutine\u001b[39m.\u001b[39mblock():\n\u001b[1;32m     97\u001b[0m     guide_trace \u001b[39m=\u001b[39m poutine\u001b[39m.\u001b[39mtrace(guide)\u001b[39m.\u001b[39mget_trace(\u001b[39m*\u001b[39margs, \u001b[39m*\u001b[39m\u001b[39m*\u001b[39mkwargs)\n\u001b[0;32m---> 98\u001b[0m     model_trace \u001b[39m=\u001b[39m poutine\u001b[39m.\u001b[39;49mtrace(\n\u001b[1;32m     99\u001b[0m         poutine\u001b[39m.\u001b[39;49mreplay(model, trace\u001b[39m=\u001b[39;49mguide_trace)\n\u001b[1;32m    100\u001b[0m     )\u001b[39m.\u001b[39;49mget_trace(\u001b[39m*\u001b[39;49margs, \u001b[39m*\u001b[39;49m\u001b[39m*\u001b[39;49mkwargs)\n\u001b[1;32m    101\u001b[0m guide_trace \u001b[39m=\u001b[39m prune_subsample_sites(guide_trace)\n\u001b[1;32m    102\u001b[0m model_trace \u001b[39m=\u001b[39m prune_subsample_sites(model_trace)\n",
      "File \u001b[0;32m~/miniconda3/envs/pytorch/lib/python3.9/site-packages/pyro/poutine/trace_messenger.py:198\u001b[0m, in \u001b[0;36mTraceHandler.get_trace\u001b[0;34m(self, *args, **kwargs)\u001b[0m\n\u001b[1;32m    190\u001b[0m \u001b[39mdef\u001b[39;00m \u001b[39mget_trace\u001b[39m(\u001b[39mself\u001b[39m, \u001b[39m*\u001b[39margs, \u001b[39m*\u001b[39m\u001b[39m*\u001b[39mkwargs):\n\u001b[1;32m    191\u001b[0m     \u001b[39m\"\"\"\u001b[39;00m\n\u001b[1;32m    192\u001b[0m \u001b[39m    :returns: data structure\u001b[39;00m\n\u001b[1;32m    193\u001b[0m \u001b[39m    :rtype: pyro.poutine.Trace\u001b[39;00m\n\u001b[0;32m   (...)\u001b[0m\n\u001b[1;32m    196\u001b[0m \u001b[39m    Calls this poutine and returns its trace instead of the function's return value.\u001b[39;00m\n\u001b[1;32m    197\u001b[0m \u001b[39m    \"\"\"\u001b[39;00m\n\u001b[0;32m--> 198\u001b[0m     \u001b[39mself\u001b[39;49m(\u001b[39m*\u001b[39;49margs, \u001b[39m*\u001b[39;49m\u001b[39m*\u001b[39;49mkwargs)\n\u001b[1;32m    199\u001b[0m     \u001b[39mreturn\u001b[39;00m \u001b[39mself\u001b[39m\u001b[39m.\u001b[39mmsngr\u001b[39m.\u001b[39mget_trace()\n",
      "File \u001b[0;32m~/miniconda3/envs/pytorch/lib/python3.9/site-packages/pyro/poutine/trace_messenger.py:174\u001b[0m, in \u001b[0;36mTraceHandler.__call__\u001b[0;34m(self, *args, **kwargs)\u001b[0m\n\u001b[1;32m    170\u001b[0m \u001b[39mself\u001b[39m\u001b[39m.\u001b[39mmsngr\u001b[39m.\u001b[39mtrace\u001b[39m.\u001b[39madd_node(\n\u001b[1;32m    171\u001b[0m     \u001b[39m\"\u001b[39m\u001b[39m_INPUT\u001b[39m\u001b[39m\"\u001b[39m, name\u001b[39m=\u001b[39m\u001b[39m\"\u001b[39m\u001b[39m_INPUT\u001b[39m\u001b[39m\"\u001b[39m, \u001b[39mtype\u001b[39m\u001b[39m=\u001b[39m\u001b[39m\"\u001b[39m\u001b[39margs\u001b[39m\u001b[39m\"\u001b[39m, args\u001b[39m=\u001b[39margs, kwargs\u001b[39m=\u001b[39mkwargs\n\u001b[1;32m    172\u001b[0m )\n\u001b[1;32m    173\u001b[0m \u001b[39mtry\u001b[39;00m:\n\u001b[0;32m--> 174\u001b[0m     ret \u001b[39m=\u001b[39m \u001b[39mself\u001b[39;49m\u001b[39m.\u001b[39;49mfn(\u001b[39m*\u001b[39;49margs, \u001b[39m*\u001b[39;49m\u001b[39m*\u001b[39;49mkwargs)\n\u001b[1;32m    175\u001b[0m \u001b[39mexcept\u001b[39;00m (\u001b[39mValueError\u001b[39;00m, \u001b[39mRuntimeError\u001b[39;00m) \u001b[39mas\u001b[39;00m e:\n\u001b[1;32m    176\u001b[0m     exc_type, exc_value, traceback \u001b[39m=\u001b[39m sys\u001b[39m.\u001b[39mexc_info()\n",
      "File \u001b[0;32m~/miniconda3/envs/pytorch/lib/python3.9/site-packages/pyro/poutine/messenger.py:12\u001b[0m, in \u001b[0;36m_context_wrap\u001b[0;34m(context, fn, *args, **kwargs)\u001b[0m\n\u001b[1;32m     10\u001b[0m \u001b[39mdef\u001b[39;00m \u001b[39m_context_wrap\u001b[39m(context, fn, \u001b[39m*\u001b[39margs, \u001b[39m*\u001b[39m\u001b[39m*\u001b[39mkwargs):\n\u001b[1;32m     11\u001b[0m     \u001b[39mwith\u001b[39;00m context:\n\u001b[0;32m---> 12\u001b[0m         \u001b[39mreturn\u001b[39;00m fn(\u001b[39m*\u001b[39;49margs, \u001b[39m*\u001b[39;49m\u001b[39m*\u001b[39;49mkwargs)\n",
      "File \u001b[0;32m~/miniconda3/envs/pytorch/lib/python3.9/site-packages/pyro/poutine/messenger.py:12\u001b[0m, in \u001b[0;36m_context_wrap\u001b[0;34m(context, fn, *args, **kwargs)\u001b[0m\n\u001b[1;32m     10\u001b[0m \u001b[39mdef\u001b[39;00m \u001b[39m_context_wrap\u001b[39m(context, fn, \u001b[39m*\u001b[39margs, \u001b[39m*\u001b[39m\u001b[39m*\u001b[39mkwargs):\n\u001b[1;32m     11\u001b[0m     \u001b[39mwith\u001b[39;00m context:\n\u001b[0;32m---> 12\u001b[0m         \u001b[39mreturn\u001b[39;00m fn(\u001b[39m*\u001b[39;49margs, \u001b[39m*\u001b[39;49m\u001b[39m*\u001b[39;49mkwargs)\n",
      "\u001b[1;32m/home/cao/projects/hmogp/data/lmc_1D task_indices.ipynb Cell 20\u001b[0m in \u001b[0;36mMultitaskGPModel.model\u001b[0;34m(self, x, y, task)\u001b[0m\n\u001b[1;32m    <a href='vscode-notebook-cell://wsl%2Bubuntu-20.04/home/cao/projects/hmogp/data/lmc_1D%20task_indices.ipynb#X24sdnNjb2RlLXJlbW90ZQ%3D%3D?line=119'>120</a>\u001b[0m \u001b[39mprint\u001b[39m(\u001b[39m\"\u001b[39m\u001b[39mmodel function_dist.batch_shape:\u001b[39m\u001b[39m\"\u001b[39m, function_dist\u001b[39m.\u001b[39mbatch_shape) \u001b[39m# torch.Size([1000])\u001b[39;00m\n\u001b[1;32m    <a href='vscode-notebook-cell://wsl%2Bubuntu-20.04/home/cao/projects/hmogp/data/lmc_1D%20task_indices.ipynb#X24sdnNjb2RlLXJlbW90ZQ%3D%3D?line=120'>121</a>\u001b[0m \u001b[39mprint\u001b[39m(\u001b[39m\"\u001b[39m\u001b[39mmodel function_dist.event_shape:\u001b[39m\u001b[39m\"\u001b[39m, function_dist\u001b[39m.\u001b[39mevent_shape) \u001b[39m# torch.Size([6])\u001b[39;00m\n\u001b[0;32m--> <a href='vscode-notebook-cell://wsl%2Bubuntu-20.04/home/cao/projects/hmogp/data/lmc_1D%20task_indices.ipynb#X24sdnNjb2RlLXJlbW90ZQ%3D%3D?line=121'>122</a>\u001b[0m \u001b[39mself\u001b[39;49m\u001b[39m.\u001b[39;49mcompute_likelihoods(y, function_dist, \u001b[39mself\u001b[39;49m\u001b[39m.\u001b[39;49mlikelihoods)\n",
      "\u001b[1;32m/home/cao/projects/hmogp/data/lmc_1D task_indices.ipynb Cell 20\u001b[0m in \u001b[0;36mMultitaskGPModel.compute_likelihoods\u001b[0;34m(self, y, function_dist, likelihoods)\u001b[0m\n\u001b[1;32m     <a href='vscode-notebook-cell://wsl%2Bubuntu-20.04/home/cao/projects/hmogp/data/lmc_1D%20task_indices.ipynb#X24sdnNjb2RlLXJlbW90ZQ%3D%3D?line=53'>54</a>\u001b[0m \u001b[39mdef\u001b[39;00m \u001b[39mcompute_likelihoods\u001b[39m(\u001b[39mself\u001b[39m, y, function_dist, likelihoods):\n\u001b[1;32m     <a href='vscode-notebook-cell://wsl%2Bubuntu-20.04/home/cao/projects/hmogp/data/lmc_1D%20task_indices.ipynb#X24sdnNjb2RlLXJlbW90ZQ%3D%3D?line=54'>55</a>\u001b[0m     \n\u001b[1;32m     <a href='vscode-notebook-cell://wsl%2Bubuntu-20.04/home/cao/projects/hmogp/data/lmc_1D%20task_indices.ipynb#X24sdnNjb2RlLXJlbW90ZQ%3D%3D?line=55'>56</a>\u001b[0m     \u001b[39m# if no task_indices\u001b[39;00m\n\u001b[0;32m   (...)\u001b[0m\n\u001b[1;32m     <a href='vscode-notebook-cell://wsl%2Bubuntu-20.04/home/cao/projects/hmogp/data/lmc_1D%20task_indices.ipynb#X24sdnNjb2RlLXJlbW90ZQ%3D%3D?line=58'>59</a>\u001b[0m     \n\u001b[1;32m     <a href='vscode-notebook-cell://wsl%2Bubuntu-20.04/home/cao/projects/hmogp/data/lmc_1D%20task_indices.ipynb#X24sdnNjb2RlLXJlbW90ZQ%3D%3D?line=59'>60</a>\u001b[0m     \u001b[39m# if task_indices\u001b[39;00m\n\u001b[0;32m---> <a href='vscode-notebook-cell://wsl%2Bubuntu-20.04/home/cao/projects/hmogp/data/lmc_1D%20task_indices.ipynb#X24sdnNjb2RlLXJlbW90ZQ%3D%3D?line=60'>61</a>\u001b[0m     \u001b[39massert\u001b[39;00m train_y\u001b[39m.\u001b[39;49msize(\u001b[39m-\u001b[39m\u001b[39m1\u001b[39m) \u001b[39m==\u001b[39m \u001b[39mlen\u001b[39m(likelihoods), \u001b[39mf\u001b[39m\u001b[39m\"\u001b[39m\u001b[39mSize of output y does not much size of likelihoods list. \u001b[39m\u001b[39m\\\u001b[39;00m\n\u001b[1;32m     <a href='vscode-notebook-cell://wsl%2Bubuntu-20.04/home/cao/projects/hmogp/data/lmc_1D%20task_indices.ipynb#X24sdnNjb2RlLXJlbW90ZQ%3D%3D?line=61'>62</a>\u001b[0m \u001b[39m        Input size is (\u001b[39m\u001b[39m{\u001b[39;00mtrain_y\u001b[39m.\u001b[39msize(\u001b[39m-\u001b[39m\u001b[39m1\u001b[39m)\u001b[39m}\u001b[39;00m\u001b[39m, \u001b[39m\u001b[39m{\u001b[39;00m\u001b[39mlen\u001b[39m(likelihoods)\u001b[39m}\u001b[39;00m\u001b[39m).\u001b[39m\u001b[39m\"\u001b[39m\n\u001b[1;32m     <a href='vscode-notebook-cell://wsl%2Bubuntu-20.04/home/cao/projects/hmogp/data/lmc_1D%20task_indices.ipynb#X24sdnNjb2RlLXJlbW90ZQ%3D%3D?line=64'>65</a>\u001b[0m     \u001b[39mwith\u001b[39;00m pyro\u001b[39m.\u001b[39mplate(\u001b[39mself\u001b[39m\u001b[39m.\u001b[39mname_prefix \u001b[39m+\u001b[39m \u001b[39m\"\u001b[39m\u001b[39m.data_plate\u001b[39m\u001b[39m\"\u001b[39m, dim\u001b[39m=\u001b[39m\u001b[39m-\u001b[39m\u001b[39m1\u001b[39m):\n\u001b[1;32m     <a href='vscode-notebook-cell://wsl%2Bubuntu-20.04/home/cao/projects/hmogp/data/lmc_1D%20task_indices.ipynb#X24sdnNjb2RlLXJlbW90ZQ%3D%3D?line=65'>66</a>\u001b[0m         \u001b[39m# Sample from latent function distribution\u001b[39;00m\n\u001b[1;32m     <a href='vscode-notebook-cell://wsl%2Bubuntu-20.04/home/cao/projects/hmogp/data/lmc_1D%20task_indices.ipynb#X24sdnNjb2RlLXJlbW90ZQ%3D%3D?line=66'>67</a>\u001b[0m         f \u001b[39m=\u001b[39m pyro\u001b[39m.\u001b[39msample(\u001b[39mself\u001b[39m\u001b[39m.\u001b[39mname_prefix \u001b[39m+\u001b[39m \u001b[39m\"\u001b[39m\u001b[39m.f(x)\u001b[39m\u001b[39m\"\u001b[39m, function_dist)\n",
      "\u001b[0;31mAttributeError\u001b[0m: 'NoneType' object has no attribute 'size'"
     ]
    }
   ],
   "source": [
    "pyro.clear_param_store()\n",
    "\n",
    "# num_iter = 2000\n",
    "num_iter = 1200\n",
    "num_particles = 10\n",
    "\n",
    "# If getting Matrix not PSD error try:\n",
    "# - decreasing gamma = 1e-3 / decreasing final_lr = 1e-3 (for fast training, try final_lr = 1e-2)\n",
    "\n",
    "initial_lr = 1e-1\n",
    "final_lr = 1e-3\n",
    "gamma = final_lr / initial_lr  # final learning rate will be gamma * initial_l|r\n",
    "lrd = gamma ** (1 / num_iter) # learning rate decay\n",
    "\n",
    "optimizer = pyro.optim.ClippedAdam({\n",
    "    'lr': initial_lr, \n",
    "    'lrd': lrd,\n",
    "    'betas': (0.95, 0.999)})\n",
    "\n",
    "elbo = pyro.infer.Trace_ELBO(num_particles=num_particles, vectorize_particles=True, retain_graph=True)\n",
    "# elbo = pyro.infer.Trace_ELBO(vectorize_particles=True, retain_graph=True)\n",
    "svi = pyro.infer.SVI(model.model, model.guide, optimizer, elbo)\n",
    "\n",
    "model.train()\n",
    "iterator = tqdm.notebook.tqdm(range(num_iter), desc=\"Epoch\")\n",
    "loss_array = np.zeros(num_iter)\n",
    "for i in iterator:\n",
    "    model.zero_grad()\n",
    "    loss = svi.step(full_train_x, full_train_y, None)\n",
    "    loss_array[i] = loss\n",
    "    iterator.set_postfix(loss=loss)"
   ]
  },
  {
   "cell_type": "code",
   "execution_count": 81,
   "metadata": {},
   "outputs": [
    {
     "data": {
      "text/plain": [
       "<AxesSubplot:>"
      ]
     },
     "execution_count": 81,
     "metadata": {},
     "output_type": "execute_result"
    },
    {
     "data": {
      "image/png": "[encoded data removed]",
      "text/plain": [
       "<Figure size 432x288 with 1 Axes>"
      ]
     },
     "metadata": {
      "needs_background": "light"
     },
     "output_type": "display_data"
    }
   ],
   "source": [
    "loss_start = 10\n",
    "sns.lineplot(np.arange(0, len(loss_array) - loss_start), loss_array[loss_start:])"
   ]
  },
  {
   "cell_type": "code",
   "execution_count": 82,
   "metadata": {},
   "outputs": [],
   "source": [
    "def percentiles_from_samples(samples, percentiles=[0.05, 0.5, 0.95]):\n",
    "    num_samples = samples.size(0)\n",
    "    samples = samples.sort(dim=0)[0]\n",
    "\n",
    "    # Get samples corresponding to percentile\n",
    "    percentile_samples = [samples[int(num_samples * percentile)] for percentile in percentiles]\n",
    "\n",
    "    # Smooth the samples\n",
    "    kernel = torch.full((1, 1, 5), fill_value=0.2)\n",
    "    percentiles_samples = [\n",
    "        torch.nn.functional.conv1d(percentile_sample.view(1, 1, -1), kernel, padding=2).view(-1)\n",
    "        for percentile_sample in percentile_samples\n",
    "    ]\n",
    "\n",
    "    return percentile_samples"
   ]
  },
  {
   "cell_type": "code",
   "execution_count": 83,
   "metadata": {},
   "outputs": [],
   "source": [
    "model.eval()\n",
    "\n",
    "with torch.no_grad():\n",
    "    output = model(test_x)\n",
    "\n",
    "# Similarly get the 5th and 95th percentiles\n",
    "samples = output(torch.Size([1000]))\n",
    "mu_sim = model(test_x)()\n",
    "\n",
    "lower, mean, upper = percentiles_from_samples(samples.cpu())\n",
    "train_x, train_y, test_x = train_x.cpu(), train_y.cpu(), test_x.cpu()\n",
    "\n",
    "# Draw some simulated y values\n",
    "y_sim = torch.stack(\n",
    "    [dist.Normal(mu_sim[:,0].detach(), mu_sim[:,1].detach().exp())(),\n",
    "     dist.Poisson(mu_sim[:,2].detach().exp())(), \n",
    "     dist.Poisson(mu_sim[:,3].detach().exp())(), \n",
    "     dist.Normal(mu_sim[:,4].detach(), mu_sim[:,5].detach().exp())()],\n",
    "    dim=-1\n",
    ")"
   ]
  },
  {
   "cell_type": "code",
   "execution_count": 84,
   "metadata": {},
   "outputs": [
    {
     "data": {
      "text/plain": [
       "<matplotlib.legend.Legend at 0x7fb2bc4d43d0>"
      ]
     },
     "execution_count": 84,
     "metadata": {},
     "output_type": "execute_result"
    },
    {
     "data": {
      "image/png": "[encoded data removed]",
      "text/plain": [
       "<Figure size 1296x216 with 3 Axes>"
      ]
     },
     "metadata": {
      "needs_background": "light"
     },
     "output_type": "display_data"
    }
   ],
   "source": [
    "# visualize the result\n",
    "fig, (*func, samp) = plt.subplots(1, 3, figsize=(18, 3))\n",
    "\n",
    "for i,j in enumerate(range(2)):\n",
    "    line, = func[i].plot(test_x, mean[:,j].detach().cpu().numpy(), label='GP prediction')\n",
    "    func[i].fill_between(\n",
    "        test_x, lower[:,j].squeeze().detach().cpu().numpy(),\n",
    "        upper[:,j].squeeze().detach().cpu().numpy(), color=line.get_color(), alpha=0.5\n",
    "    )\n",
    "    f_plot = f_11 if i == 0 else f_12\n",
    "    func[i].plot(test_x, f_plot, label='True latent function')\n",
    "    func[i].legend()\n",
    "\n",
    "# sample from p(y|D,x) = \\int p(y|f) p(f|D,x) df (doubly stochastic)\n",
    "samp.scatter(train_x, train_y[:,0], alpha = 0.5, label='True train data')\n",
    "samp.scatter(train_x, y_sim[:,0].cpu().detach().numpy(), alpha=0.5, label='Sample from the model')\n",
    "samp.legend()"
   ]
  },
  {
   "cell_type": "code",
   "execution_count": 85,
   "metadata": {},
   "outputs": [
    {
     "data": {
      "text/plain": [
       "<matplotlib.legend.Legend at 0x7fb2b3446850>"
      ]
     },
     "execution_count": 85,
     "metadata": {},
     "output_type": "execute_result"
    },
    {
     "data": {
      "image/png": "[encoded data removed]",
      "text/plain": [
       "<Figure size 864x216 with 2 Axes>"
      ]
     },
     "metadata": {
      "needs_background": "light"
     },
     "output_type": "display_data"
    }
   ],
   "source": [
    "# visualize the result\n",
    "fig, (func, samp) = plt.subplots(1, 2, figsize=(12, 3))\n",
    "line, = func.plot(test_x, mean[:,2].detach().cpu().numpy(), label='GP prediction')\n",
    "func.fill_between(\n",
    "    test_x, lower[:,2].squeeze().detach().cpu().numpy(),\n",
    "    upper[:,2].squeeze().detach().cpu().numpy(), color=line.get_color(), alpha=0.5\n",
    ")\n",
    "\n",
    "func.plot(test_x, f_21, label='True latent function')\n",
    "func.legend()\n",
    "\n",
    "# sample from p(y|D,x) = \\int p(y|f) p(f|D,x) df (doubly stochastic)\n",
    "samp.scatter(train_x, train_y[:,1], alpha = 0.5, label='True train data')\n",
    "samp.scatter(train_x, y_sim[:,1].cpu().detach().numpy(), alpha=0.5, label='Sample from the model')\n",
    "samp.legend()"
   ]
  },
  {
   "cell_type": "code",
   "execution_count": 86,
   "metadata": {},
   "outputs": [
    {
     "data": {
      "text/plain": [
       "<matplotlib.legend.Legend at 0x7fb2b337a1f0>"
      ]
     },
     "execution_count": 86,
     "metadata": {},
     "output_type": "execute_result"
    },
    {
     "data": {
      "image/png": "[encoded data removed]",
      "text/plain": [
       "<Figure size 864x216 with 2 Axes>"
      ]
     },
     "metadata": {
      "needs_background": "light"
     },
     "output_type": "display_data"
    }
   ],
   "source": [
    "# visualize the result\n",
    "fig, (func, samp) = plt.subplots(1, 2, figsize=(12, 3))\n",
    "line, = func.plot(test_x, mean[:,3].detach().cpu().numpy(), label='GP prediction')\n",
    "func.fill_between(\n",
    "    test_x, lower[:,3].squeeze().detach().cpu().numpy(),\n",
    "    upper[:,3].squeeze().detach().cpu().numpy(), color=line.get_color(), alpha=0.5\n",
    ")\n",
    "\n",
    "func.plot(test_x, f_31, label='True latent function')\n",
    "func.legend()\n",
    "\n",
    "# sample from p(y|D,x) = \\int p(y|f) p(f|D,x) df (doubly stochastic)\n",
    "samp.scatter(train_x, train_y[:,2], alpha = 0.5, label='True train data')\n",
    "samp.scatter(train_x, y_sim[:,2].cpu().detach().numpy(), alpha=0.5, label='Sample from the model')\n",
    "samp.legend()"
   ]
  },
  {
   "cell_type": "code",
   "execution_count": 87,
   "metadata": {},
   "outputs": [
    {
     "data": {
      "text/plain": [
       "<matplotlib.legend.Legend at 0x7fb2b3271160>"
      ]
     },
     "execution_count": 87,
     "metadata": {},
     "output_type": "execute_result"
    },
    {
     "data": {
      "image/png": "[encoded data removed]",
      "text/plain": [
       "<Figure size 1296x216 with 3 Axes>"
      ]
     },
     "metadata": {
      "needs_background": "light"
     },
     "output_type": "display_data"
    }
   ],
   "source": [
    "# visualize the result\n",
    "fig, (*func, samp) = plt.subplots(1, 3, figsize=(18, 3))\n",
    "\n",
    "for i,j in enumerate(range(4,6)):\n",
    "    line, = func[i].plot(test_x, mean[:,j].detach().cpu().numpy(), label='GP prediction')\n",
    "    func[i].fill_between(\n",
    "        test_x, lower[:,j].squeeze().detach().cpu().numpy(),\n",
    "        upper[:,j].squeeze().detach().cpu().numpy(), color=line.get_color(), alpha=0.5\n",
    "    )\n",
    "    f_plot = f_41 if i == 0 else f_42\n",
    "    func[i].plot(test_x, f_plot, label='True latent function')\n",
    "    func[i].legend()\n",
    "\n",
    "# sample from p(y|D,x) = \\int p(y|f) p(f|D,x) df (doubly stochastic)\n",
    "samp.scatter(train_x, train_y[:,3], alpha = 0.5, label='True train data')\n",
    "samp.scatter(train_x, y_sim[:,3].cpu().detach().numpy(), alpha=0.5, label='Sample from the model')\n",
    "samp.legend()"
   ]
  },
  {
   "cell_type": "code",
   "execution_count": null,
   "metadata": {},
   "outputs": [],
   "source": []
  },
  {
   "attachments": {},
   "cell_type": "markdown",
   "metadata": {},
   "source": [
    "## Testing the code"
   ]
  },
  {
   "cell_type": "code",
   "execution_count": 202,
   "metadata": {},
   "outputs": [],
   "source": [
    "model.eval()\n",
    "\n",
    "with torch.no_grad():\n",
    "    latent_dist_draw = model.variational_strategy.latent_dist.sample(torch.Size([1000]))\n",
    "    latent_dist_draw = latent_dist_draw.cpu()\n",
    "    \n",
    "    lmc_coefficients = model.variational_strategy.lmc_coefficients\n",
    "    lmc_coefficients = lmc_coefficients.cpu()\n",
    "    test = model.variational_strategy.latent_dist\n",
    "\n",
    "lower, mean, upper = percentiles_from_samples(latent_dist_draw)\n"
   ]
  },
  {
   "cell_type": "code",
   "execution_count": 212,
   "metadata": {},
   "outputs": [
    {
     "data": {
      "image/png": "[encoded data removed]",
      "text/plain": [
       "<Figure size 1296x216 with 2 Axes>"
      ]
     },
     "metadata": {
      "needs_background": "light"
     },
     "output_type": "display_data"
    }
   ],
   "source": [
    "# visualize the result\n",
    "fig, func = plt.subplots(1, latent_dist_draw.size(-2), figsize=(18, 3))\n",
    "\n",
    "scale_adj = torch.tensor([-.8, .8]) # scale the true GP\n",
    "\n",
    "for i in range(latent_dist_draw.size(-2)):\n",
    "    line, = func[i].plot(test_x, mean[i,:], label='GP prediction', alpha=0.5)\n",
    "    func[i].fill_between(\n",
    "        test_x, lower[i,:],\n",
    "        upper[i,:], alpha=0.5, color=line.get_color()\n",
    "    )\n",
    "    # func[i].plot(test_x, Y[:,i]*scale_adj[i], label='True latent function', alpha=0.5)\n",
    "    func[i].legend()\n"
   ]
  },
  {
   "cell_type": "code",
   "execution_count": 586,
   "metadata": {},
   "outputs": [],
   "source": [
    "x1 = torch.linspace(0, 1, 5)\n",
    "x2 = torch.linspace(0, 1, 5)\n",
    "\n",
    "x1_grid, x2_grid = torch.meshgrid([x1, x2])\n",
    "X_grid = torch.cat(tuple(torch.dstack([x1_grid, x2_grid])))"
   ]
  },
  {
   "cell_type": "code",
   "execution_count": 587,
   "metadata": {},
   "outputs": [
    {
     "data": {
      "text/plain": [
       "torch.Size([25])"
      ]
     },
     "execution_count": 587,
     "metadata": {},
     "output_type": "execute_result"
    }
   ],
   "source": [
    "X_grid[:,0].shape"
   ]
  },
  {
   "cell_type": "code",
   "execution_count": 601,
   "metadata": {},
   "outputs": [
    {
     "data": {
      "text/plain": [
       "MultivariateNormal(loc: torch.Size([2, 200]))"
      ]
     },
     "execution_count": 601,
     "metadata": {},
     "output_type": "execute_result"
    }
   ],
   "source": [
    "model."
   ]
  },
  {
   "cell_type": "code",
   "execution_count": 593,
   "metadata": {},
   "outputs": [],
   "source": [
    "with torch.no_grad():\n",
    "    test = model(X_grid.cuda())"
   ]
  },
  {
   "cell_type": "code",
   "execution_count": 599,
   "metadata": {},
   "outputs": [
    {
     "data": {
      "text/plain": [
       "<bound method Distribution.score_parts of MultitaskMultivariateNormal(loc: torch.Size([150]))>"
      ]
     },
     "execution_count": 599,
     "metadata": {},
     "output_type": "execute_result"
    }
   ],
   "source": [
    "test."
   ]
  },
  {
   "cell_type": "code",
   "execution_count": 588,
   "metadata": {},
   "outputs": [
    {
     "ename": "TypeError",
     "evalue": "unsupported operand type(s) for +: 'Tensor' and 'torch.Size'",
     "output_type": "error",
     "traceback": [
      "\u001b[0;31m---------------------------------------------------------------------------\u001b[0m",
      "\u001b[0;31mTypeError\u001b[0m                                 Traceback (most recent call last)",
      "\u001b[1;32m/home/cao/projects/hmogp/data/lmc_edit.ipynb Cell 72\u001b[0m in \u001b[0;36m<cell line: 1>\u001b[0;34m()\u001b[0m\n\u001b[0;32m----> <a href='vscode-notebook-cell://wsl%2Bubuntu-20.04/home/cao/projects/hmogp/data/lmc_edit.ipynb#Y416sdnNjb2RlLXJlbW90ZQ%3D%3D?line=0'>1</a>\u001b[0m test(X_grid)\n",
      "File \u001b[0;32m~/miniconda3/envs/pytorch/lib/python3.9/site-packages/pyro/distributions/torch_distribution.py:48\u001b[0m, in \u001b[0;36mTorchDistributionMixin.__call__\u001b[0;34m(self, sample_shape)\u001b[0m\n\u001b[1;32m     30\u001b[0m \u001b[39mdef\u001b[39;00m \u001b[39m__call__\u001b[39m(\u001b[39mself\u001b[39m, sample_shape\u001b[39m=\u001b[39mtorch\u001b[39m.\u001b[39mSize()):\n\u001b[1;32m     31\u001b[0m     \u001b[39m\"\"\"\u001b[39;00m\n\u001b[1;32m     32\u001b[0m \u001b[39m    Samples a random value.\u001b[39;00m\n\u001b[1;32m     33\u001b[0m \n\u001b[0;32m   (...)\u001b[0m\n\u001b[1;32m     45\u001b[0m \u001b[39m    :rtype: torch.Tensor\u001b[39;00m\n\u001b[1;32m     46\u001b[0m \u001b[39m    \"\"\"\u001b[39;00m\n\u001b[1;32m     47\u001b[0m     \u001b[39mreturn\u001b[39;00m (\n\u001b[0;32m---> 48\u001b[0m         \u001b[39mself\u001b[39;49m\u001b[39m.\u001b[39;49mrsample(sample_shape)\n\u001b[1;32m     49\u001b[0m         \u001b[39mif\u001b[39;00m \u001b[39mself\u001b[39m\u001b[39m.\u001b[39mhas_rsample\n\u001b[1;32m     50\u001b[0m         \u001b[39melse\u001b[39;00m \u001b[39mself\u001b[39m\u001b[39m.\u001b[39msample(sample_shape)\n\u001b[1;32m     51\u001b[0m     )\n",
      "File \u001b[0;32m~/miniconda3/envs/pytorch/lib/python3.9/site-packages/gpytorch/distributions/multivariate_normal.py:228\u001b[0m, in \u001b[0;36mMultivariateNormal.rsample\u001b[0;34m(self, sample_shape, base_samples)\u001b[0m\n\u001b[1;32m    226\u001b[0m     \u001b[39m# Get samples\u001b[39;00m\n\u001b[1;32m    227\u001b[0m     res \u001b[39m=\u001b[39m covar\u001b[39m.\u001b[39mzero_mean_mvn_samples(num_samples) \u001b[39m+\u001b[39m \u001b[39mself\u001b[39m\u001b[39m.\u001b[39mloc\u001b[39m.\u001b[39munsqueeze(\u001b[39m0\u001b[39m)\n\u001b[0;32m--> 228\u001b[0m     res \u001b[39m=\u001b[39m res\u001b[39m.\u001b[39mview(sample_shape \u001b[39m+\u001b[39;49m \u001b[39mself\u001b[39;49m\u001b[39m.\u001b[39;49mloc\u001b[39m.\u001b[39;49mshape)\n\u001b[1;32m    230\u001b[0m \u001b[39melse\u001b[39;00m:\n\u001b[1;32m    231\u001b[0m     covar_root \u001b[39m=\u001b[39m covar\u001b[39m.\u001b[39mroot_decomposition()\u001b[39m.\u001b[39mroot\n",
      "\u001b[0;31mTypeError\u001b[0m: unsupported operand type(s) for +: 'Tensor' and 'torch.Size'"
     ]
    }
   ],
   "source": [
    "test(X_grid)"
   ]
  },
  {
   "cell_type": "code",
   "execution_count": 548,
   "metadata": {},
   "outputs": [],
   "source": [
    "with torch.no_grad():\n",
    "    test = model.variational_strategy.latent_dist"
   ]
  },
  {
   "cell_type": "code",
   "execution_count": 569,
   "metadata": {},
   "outputs": [
    {
     "data": {
      "text/plain": [
       "torch.Size([1000, 2, 10000])"
      ]
     },
     "execution_count": 569,
     "metadata": {},
     "output_type": "execute_result"
    }
   ],
   "source": [
    "model.variational_strategy.latent_dist.sample(torch.Size([1000])).shape"
   ]
  },
  {
   "cell_type": "code",
   "execution_count": 553,
   "metadata": {},
   "outputs": [
    {
     "ename": "ValueError",
     "evalue": "All arrays must be of the same length",
     "output_type": "error",
     "traceback": [
      "\u001b[0;31m---------------------------------------------------------------------------\u001b[0m",
      "\u001b[0;31mValueError\u001b[0m                                Traceback (most recent call last)",
      "\u001b[1;32m/home/cao/projects/hmogp/data/lmc_edit.ipynb Cell 73\u001b[0m in \u001b[0;36m<cell line: 1>\u001b[0;34m()\u001b[0m\n\u001b[0;32m----> <a href='vscode-notebook-cell://wsl%2Bubuntu-20.04/home/cao/projects/hmogp/data/lmc_edit.ipynb#Y413sdnNjb2RlLXJlbW90ZQ%3D%3D?line=0'>1</a>\u001b[0m sns\u001b[39m.\u001b[39;49mlineplot(torch\u001b[39m.\u001b[39;49mlinspace(\u001b[39m0\u001b[39;49m, \u001b[39m1\u001b[39;49m, N), model\u001b[39m.\u001b[39;49mvariational_strategy\u001b[39m.\u001b[39;49mlatent_dist()[\u001b[39m0\u001b[39;49m])\n",
      "File \u001b[0;32m~/miniconda3/envs/pytorch/lib/python3.9/site-packages/seaborn/_decorators.py:46\u001b[0m, in \u001b[0;36m_deprecate_positional_args.<locals>.inner_f\u001b[0;34m(*args, **kwargs)\u001b[0m\n\u001b[1;32m     36\u001b[0m     warnings\u001b[39m.\u001b[39mwarn(\n\u001b[1;32m     37\u001b[0m         \u001b[39m\"\u001b[39m\u001b[39mPass the following variable\u001b[39m\u001b[39m{}\u001b[39;00m\u001b[39m as \u001b[39m\u001b[39m{}\u001b[39;00m\u001b[39mkeyword arg\u001b[39m\u001b[39m{}\u001b[39;00m\u001b[39m: \u001b[39m\u001b[39m{}\u001b[39;00m\u001b[39m. \u001b[39m\u001b[39m\"\u001b[39m\n\u001b[1;32m     38\u001b[0m         \u001b[39m\"\u001b[39m\u001b[39mFrom version 0.12, the only valid positional argument \u001b[39m\u001b[39m\"\u001b[39m\n\u001b[0;32m   (...)\u001b[0m\n\u001b[1;32m     43\u001b[0m         \u001b[39mFutureWarning\u001b[39;00m\n\u001b[1;32m     44\u001b[0m     )\n\u001b[1;32m     45\u001b[0m kwargs\u001b[39m.\u001b[39mupdate({k: arg \u001b[39mfor\u001b[39;00m k, arg \u001b[39min\u001b[39;00m \u001b[39mzip\u001b[39m(sig\u001b[39m.\u001b[39mparameters, args)})\n\u001b[0;32m---> 46\u001b[0m \u001b[39mreturn\u001b[39;00m f(\u001b[39m*\u001b[39;49m\u001b[39m*\u001b[39;49mkwargs)\n",
      "File \u001b[0;32m~/miniconda3/envs/pytorch/lib/python3.9/site-packages/seaborn/relational.py:692\u001b[0m, in \u001b[0;36mlineplot\u001b[0;34m(x, y, hue, size, style, data, palette, hue_order, hue_norm, sizes, size_order, size_norm, dashes, markers, style_order, units, estimator, ci, n_boot, seed, sort, err_style, err_kws, legend, ax, **kwargs)\u001b[0m\n\u001b[1;32m    677\u001b[0m \u001b[39m@_deprecate_positional_args\u001b[39m\n\u001b[1;32m    678\u001b[0m \u001b[39mdef\u001b[39;00m \u001b[39mlineplot\u001b[39m(\n\u001b[1;32m    679\u001b[0m     \u001b[39m*\u001b[39m,\n\u001b[0;32m   (...)\u001b[0m\n\u001b[1;32m    688\u001b[0m     legend\u001b[39m=\u001b[39m\u001b[39m\"\u001b[39m\u001b[39mauto\u001b[39m\u001b[39m\"\u001b[39m, ax\u001b[39m=\u001b[39m\u001b[39mNone\u001b[39;00m, \u001b[39m*\u001b[39m\u001b[39m*\u001b[39mkwargs\n\u001b[1;32m    689\u001b[0m ):\n\u001b[1;32m    691\u001b[0m     variables \u001b[39m=\u001b[39m _LinePlotter\u001b[39m.\u001b[39mget_semantics(\u001b[39mlocals\u001b[39m())\n\u001b[0;32m--> 692\u001b[0m     p \u001b[39m=\u001b[39m _LinePlotter(\n\u001b[1;32m    693\u001b[0m         data\u001b[39m=\u001b[39;49mdata, variables\u001b[39m=\u001b[39;49mvariables,\n\u001b[1;32m    694\u001b[0m         estimator\u001b[39m=\u001b[39;49mestimator, ci\u001b[39m=\u001b[39;49mci, n_boot\u001b[39m=\u001b[39;49mn_boot, seed\u001b[39m=\u001b[39;49mseed,\n\u001b[1;32m    695\u001b[0m         sort\u001b[39m=\u001b[39;49msort, err_style\u001b[39m=\u001b[39;49merr_style, err_kws\u001b[39m=\u001b[39;49merr_kws, legend\u001b[39m=\u001b[39;49mlegend,\n\u001b[1;32m    696\u001b[0m     )\n\u001b[1;32m    698\u001b[0m     p\u001b[39m.\u001b[39mmap_hue(palette\u001b[39m=\u001b[39mpalette, order\u001b[39m=\u001b[39mhue_order, norm\u001b[39m=\u001b[39mhue_norm)\n\u001b[1;32m    699\u001b[0m     p\u001b[39m.\u001b[39mmap_size(sizes\u001b[39m=\u001b[39msizes, order\u001b[39m=\u001b[39msize_order, norm\u001b[39m=\u001b[39msize_norm)\n",
      "File \u001b[0;32m~/miniconda3/envs/pytorch/lib/python3.9/site-packages/seaborn/relational.py:367\u001b[0m, in \u001b[0;36m_LinePlotter.__init__\u001b[0;34m(self, data, variables, estimator, ci, n_boot, seed, sort, err_style, err_kws, legend)\u001b[0m\n\u001b[1;32m    353\u001b[0m \u001b[39mdef\u001b[39;00m \u001b[39m__init__\u001b[39m(\n\u001b[1;32m    354\u001b[0m     \u001b[39mself\u001b[39m, \u001b[39m*\u001b[39m,\n\u001b[1;32m    355\u001b[0m     data\u001b[39m=\u001b[39m\u001b[39mNone\u001b[39;00m, variables\u001b[39m=\u001b[39m{},\n\u001b[0;32m   (...)\u001b[0m\n\u001b[1;32m    361\u001b[0m     \u001b[39m# the kind of plot to draw, but for the time being we need to set\u001b[39;00m\n\u001b[1;32m    362\u001b[0m     \u001b[39m# this information so the SizeMapping can use it\u001b[39;00m\n\u001b[1;32m    363\u001b[0m     \u001b[39mself\u001b[39m\u001b[39m.\u001b[39m_default_size_range \u001b[39m=\u001b[39m (\n\u001b[1;32m    364\u001b[0m         np\u001b[39m.\u001b[39mr_[\u001b[39m.5\u001b[39m, \u001b[39m2\u001b[39m] \u001b[39m*\u001b[39m mpl\u001b[39m.\u001b[39mrcParams[\u001b[39m\"\u001b[39m\u001b[39mlines.linewidth\u001b[39m\u001b[39m\"\u001b[39m]\n\u001b[1;32m    365\u001b[0m     )\n\u001b[0;32m--> 367\u001b[0m     \u001b[39msuper\u001b[39;49m()\u001b[39m.\u001b[39;49m\u001b[39m__init__\u001b[39;49m(data\u001b[39m=\u001b[39;49mdata, variables\u001b[39m=\u001b[39;49mvariables)\n\u001b[1;32m    369\u001b[0m     \u001b[39mself\u001b[39m\u001b[39m.\u001b[39mestimator \u001b[39m=\u001b[39m estimator\n\u001b[1;32m    370\u001b[0m     \u001b[39mself\u001b[39m\u001b[39m.\u001b[39mci \u001b[39m=\u001b[39m ci\n",
      "File \u001b[0;32m~/miniconda3/envs/pytorch/lib/python3.9/site-packages/seaborn/_core.py:605\u001b[0m, in \u001b[0;36mVectorPlotter.__init__\u001b[0;34m(self, data, variables)\u001b[0m\n\u001b[1;32m    603\u001b[0m \u001b[39mdef\u001b[39;00m \u001b[39m__init__\u001b[39m(\u001b[39mself\u001b[39m, data\u001b[39m=\u001b[39m\u001b[39mNone\u001b[39;00m, variables\u001b[39m=\u001b[39m{}):\n\u001b[0;32m--> 605\u001b[0m     \u001b[39mself\u001b[39;49m\u001b[39m.\u001b[39;49massign_variables(data, variables)\n\u001b[1;32m    607\u001b[0m     \u001b[39mfor\u001b[39;00m var, \u001b[39mcls\u001b[39m \u001b[39min\u001b[39;00m \u001b[39mself\u001b[39m\u001b[39m.\u001b[39m_semantic_mappings\u001b[39m.\u001b[39mitems():\n\u001b[1;32m    608\u001b[0m \n\u001b[1;32m    609\u001b[0m         \u001b[39m# Create the mapping function\u001b[39;00m\n\u001b[1;32m    610\u001b[0m         map_func \u001b[39m=\u001b[39m partial(\u001b[39mcls\u001b[39m\u001b[39m.\u001b[39mmap, plotter\u001b[39m=\u001b[39m\u001b[39mself\u001b[39m)\n",
      "File \u001b[0;32m~/miniconda3/envs/pytorch/lib/python3.9/site-packages/seaborn/_core.py:668\u001b[0m, in \u001b[0;36mVectorPlotter.assign_variables\u001b[0;34m(self, data, variables)\u001b[0m\n\u001b[1;32m    666\u001b[0m \u001b[39melse\u001b[39;00m:\n\u001b[1;32m    667\u001b[0m     \u001b[39mself\u001b[39m\u001b[39m.\u001b[39minput_format \u001b[39m=\u001b[39m \u001b[39m\"\u001b[39m\u001b[39mlong\u001b[39m\u001b[39m\"\u001b[39m\n\u001b[0;32m--> 668\u001b[0m     plot_data, variables \u001b[39m=\u001b[39m \u001b[39mself\u001b[39;49m\u001b[39m.\u001b[39;49m_assign_variables_longform(\n\u001b[1;32m    669\u001b[0m         data, \u001b[39m*\u001b[39;49m\u001b[39m*\u001b[39;49mvariables,\n\u001b[1;32m    670\u001b[0m     )\n\u001b[1;32m    672\u001b[0m \u001b[39mself\u001b[39m\u001b[39m.\u001b[39mplot_data \u001b[39m=\u001b[39m plot_data\n\u001b[1;32m    673\u001b[0m \u001b[39mself\u001b[39m\u001b[39m.\u001b[39mvariables \u001b[39m=\u001b[39m variables\n",
      "File \u001b[0;32m~/miniconda3/envs/pytorch/lib/python3.9/site-packages/seaborn/_core.py:927\u001b[0m, in \u001b[0;36mVectorPlotter._assign_variables_longform\u001b[0;34m(self, data, **kwargs)\u001b[0m\n\u001b[1;32m    923\u001b[0m         variables[key] \u001b[39m=\u001b[39m \u001b[39mgetattr\u001b[39m(val, \u001b[39m\"\u001b[39m\u001b[39mname\u001b[39m\u001b[39m\"\u001b[39m, \u001b[39mNone\u001b[39;00m)\n\u001b[1;32m    925\u001b[0m \u001b[39m# Construct a tidy plot DataFrame. This will convert a number of\u001b[39;00m\n\u001b[1;32m    926\u001b[0m \u001b[39m# types automatically, aligning on index in case of pandas objects\u001b[39;00m\n\u001b[0;32m--> 927\u001b[0m plot_data \u001b[39m=\u001b[39m pd\u001b[39m.\u001b[39;49mDataFrame(plot_data)\n\u001b[1;32m    929\u001b[0m \u001b[39m# Reduce the variables dictionary to fields with valid data\u001b[39;00m\n\u001b[1;32m    930\u001b[0m variables \u001b[39m=\u001b[39m {\n\u001b[1;32m    931\u001b[0m     var: name\n\u001b[1;32m    932\u001b[0m     \u001b[39mfor\u001b[39;00m var, name \u001b[39min\u001b[39;00m variables\u001b[39m.\u001b[39mitems()\n\u001b[1;32m    933\u001b[0m     \u001b[39mif\u001b[39;00m plot_data[var]\u001b[39m.\u001b[39mnotnull()\u001b[39m.\u001b[39many()\n\u001b[1;32m    934\u001b[0m }\n",
      "File \u001b[0;32m~/miniconda3/envs/pytorch/lib/python3.9/site-packages/pandas/core/frame.py:663\u001b[0m, in \u001b[0;36mDataFrame.__init__\u001b[0;34m(self, data, index, columns, dtype, copy)\u001b[0m\n\u001b[1;32m    657\u001b[0m     mgr \u001b[39m=\u001b[39m \u001b[39mself\u001b[39m\u001b[39m.\u001b[39m_init_mgr(\n\u001b[1;32m    658\u001b[0m         data, axes\u001b[39m=\u001b[39m{\u001b[39m\"\u001b[39m\u001b[39mindex\u001b[39m\u001b[39m\"\u001b[39m: index, \u001b[39m\"\u001b[39m\u001b[39mcolumns\u001b[39m\u001b[39m\"\u001b[39m: columns}, dtype\u001b[39m=\u001b[39mdtype, copy\u001b[39m=\u001b[39mcopy\n\u001b[1;32m    659\u001b[0m     )\n\u001b[1;32m    661\u001b[0m \u001b[39melif\u001b[39;00m \u001b[39misinstance\u001b[39m(data, \u001b[39mdict\u001b[39m):\n\u001b[1;32m    662\u001b[0m     \u001b[39m# GH#38939 de facto copy defaults to False only in non-dict cases\u001b[39;00m\n\u001b[0;32m--> 663\u001b[0m     mgr \u001b[39m=\u001b[39m dict_to_mgr(data, index, columns, dtype\u001b[39m=\u001b[39;49mdtype, copy\u001b[39m=\u001b[39;49mcopy, typ\u001b[39m=\u001b[39;49mmanager)\n\u001b[1;32m    664\u001b[0m \u001b[39melif\u001b[39;00m \u001b[39misinstance\u001b[39m(data, ma\u001b[39m.\u001b[39mMaskedArray):\n\u001b[1;32m    665\u001b[0m     \u001b[39mimport\u001b[39;00m \u001b[39mnumpy\u001b[39;00m\u001b[39m.\u001b[39;00m\u001b[39mma\u001b[39;00m\u001b[39m.\u001b[39;00m\u001b[39mmrecords\u001b[39;00m \u001b[39mas\u001b[39;00m \u001b[39mmrecords\u001b[39;00m\n",
      "File \u001b[0;32m~/miniconda3/envs/pytorch/lib/python3.9/site-packages/pandas/core/internals/construction.py:493\u001b[0m, in \u001b[0;36mdict_to_mgr\u001b[0;34m(data, index, columns, dtype, typ, copy)\u001b[0m\n\u001b[1;32m    489\u001b[0m     \u001b[39melse\u001b[39;00m:\n\u001b[1;32m    490\u001b[0m         \u001b[39m# dtype check to exclude e.g. range objects, scalars\u001b[39;00m\n\u001b[1;32m    491\u001b[0m         arrays \u001b[39m=\u001b[39m [x\u001b[39m.\u001b[39mcopy() \u001b[39mif\u001b[39;00m \u001b[39mhasattr\u001b[39m(x, \u001b[39m\"\u001b[39m\u001b[39mdtype\u001b[39m\u001b[39m\"\u001b[39m) \u001b[39melse\u001b[39;00m x \u001b[39mfor\u001b[39;00m x \u001b[39min\u001b[39;00m arrays]\n\u001b[0;32m--> 493\u001b[0m \u001b[39mreturn\u001b[39;00m arrays_to_mgr(arrays, columns, index, dtype\u001b[39m=\u001b[39;49mdtype, typ\u001b[39m=\u001b[39;49mtyp, consolidate\u001b[39m=\u001b[39;49mcopy)\n",
      "File \u001b[0;32m~/miniconda3/envs/pytorch/lib/python3.9/site-packages/pandas/core/internals/construction.py:118\u001b[0m, in \u001b[0;36marrays_to_mgr\u001b[0;34m(arrays, columns, index, dtype, verify_integrity, typ, consolidate)\u001b[0m\n\u001b[1;32m    115\u001b[0m \u001b[39mif\u001b[39;00m verify_integrity:\n\u001b[1;32m    116\u001b[0m     \u001b[39m# figure out the index, if necessary\u001b[39;00m\n\u001b[1;32m    117\u001b[0m     \u001b[39mif\u001b[39;00m index \u001b[39mis\u001b[39;00m \u001b[39mNone\u001b[39;00m:\n\u001b[0;32m--> 118\u001b[0m         index \u001b[39m=\u001b[39m _extract_index(arrays)\n\u001b[1;32m    119\u001b[0m     \u001b[39melse\u001b[39;00m:\n\u001b[1;32m    120\u001b[0m         index \u001b[39m=\u001b[39m ensure_index(index)\n",
      "File \u001b[0;32m~/miniconda3/envs/pytorch/lib/python3.9/site-packages/pandas/core/internals/construction.py:666\u001b[0m, in \u001b[0;36m_extract_index\u001b[0;34m(data)\u001b[0m\n\u001b[1;32m    664\u001b[0m lengths \u001b[39m=\u001b[39m \u001b[39mlist\u001b[39m(\u001b[39mset\u001b[39m(raw_lengths))\n\u001b[1;32m    665\u001b[0m \u001b[39mif\u001b[39;00m \u001b[39mlen\u001b[39m(lengths) \u001b[39m>\u001b[39m \u001b[39m1\u001b[39m:\n\u001b[0;32m--> 666\u001b[0m     \u001b[39mraise\u001b[39;00m \u001b[39mValueError\u001b[39;00m(\u001b[39m\"\u001b[39m\u001b[39mAll arrays must be of the same length\u001b[39m\u001b[39m\"\u001b[39m)\n\u001b[1;32m    668\u001b[0m \u001b[39mif\u001b[39;00m have_dicts:\n\u001b[1;32m    669\u001b[0m     \u001b[39mraise\u001b[39;00m \u001b[39mValueError\u001b[39;00m(\n\u001b[1;32m    670\u001b[0m         \u001b[39m\"\u001b[39m\u001b[39mMixing dicts with non-Series may lead to ambiguous ordering.\u001b[39m\u001b[39m\"\u001b[39m\n\u001b[1;32m    671\u001b[0m     )\n",
      "\u001b[0;31mValueError\u001b[0m: All arrays must be of the same length"
     ]
    }
   ],
   "source": [
    "sns.lineplot(torch.linspace(0, 1, N), model.variational_strategy.latent_dist()[0]"
   ]
  },
  {
   "cell_type": "code",
   "execution_count": 549,
   "metadata": {},
   "outputs": [
    {
     "data": {
      "text/plain": [
       "MultivariateNormal(loc: torch.Size([2, 10000]))"
      ]
     },
     "execution_count": 549,
     "metadata": {},
     "output_type": "execute_result"
    }
   ],
   "source": [
    "test"
   ]
  },
  {
   "cell_type": "code",
   "execution_count": 530,
   "metadata": {},
   "outputs": [
    {
     "data": {
      "text/plain": [
       "LMCVariationalStrategy(\n",
       "  (base_variational_strategy): VariationalStrategy(\n",
       "    (_variational_distribution): MeanFieldVariationalDistribution()\n",
       "  )\n",
       ")"
      ]
     },
     "execution_count": 530,
     "metadata": {},
     "output_type": "execute_result"
    }
   ],
   "source": [
    "model.variational_strategy"
   ]
  },
  {
   "cell_type": "code",
   "execution_count": 534,
   "metadata": {},
   "outputs": [
    {
     "data": {
      "text/plain": [
       "torch.Size([2, 10000])"
      ]
     },
     "execution_count": 534,
     "metadata": {},
     "output_type": "execute_result"
    }
   ],
   "source": [
    "test().shape"
   ]
  },
  {
   "cell_type": "code",
   "execution_count": 527,
   "metadata": {},
   "outputs": [
    {
     "data": {
      "text/plain": [
       "torch.Size([10000, 6])"
      ]
     },
     "execution_count": 527,
     "metadata": {},
     "output_type": "execute_result"
    }
   ],
   "source": [
    "test.sample().shape"
   ]
  },
  {
   "cell_type": "code",
   "execution_count": 524,
   "metadata": {},
   "outputs": [
    {
     "ename": "AttributeError",
     "evalue": "'MultitaskMultivariateNormal' object has no attribute 'cpu'",
     "output_type": "error",
     "traceback": [
      "\u001b[0;31m---------------------------------------------------------------------------\u001b[0m",
      "\u001b[0;31mAttributeError\u001b[0m                            Traceback (most recent call last)",
      "\u001b[1;32m/home/cao/projects/hmogp/data/lmc_edit.ipynb Cell 73\u001b[0m in \u001b[0;36m<cell line: 1>\u001b[0;34m()\u001b[0m\n\u001b[0;32m----> <a href='vscode-notebook-cell://wsl%2Bubuntu-20.04/home/cao/projects/hmogp/data/lmc_edit.ipynb#Y405sdnNjb2RlLXJlbW90ZQ%3D%3D?line=0'>1</a>\u001b[0m sns\u001b[39m.\u001b[39mlineplot(X_grid[:,\u001b[39m0\u001b[39m], test\u001b[39m.\u001b[39;49mcpu())\n",
      "\u001b[0;31mAttributeError\u001b[0m: 'MultitaskMultivariateNormal' object has no attribute 'cpu'"
     ]
    }
   ],
   "source": [
    "sns.lineplot(X_grid[:,0], test.cpu())\n"
   ]
  },
  {
   "cell_type": "code",
   "execution_count": 648,
   "metadata": {},
   "outputs": [
    {
     "data": {
      "text/plain": [
       "<AxesSubplot:>"
      ]
     },
     "execution_count": 648,
     "metadata": {},
     "output_type": "execute_result"
    },
    {
     "data": {
      "image/png": "[encoded data removed]",
      "text/plain": [
       "<Figure size 432x288 with 1 Axes>"
      ]
     },
     "metadata": {
      "needs_background": "light"
     },
     "output_type": "display_data"
    }
   ],
   "source": [
    "sns.lineplot(torch.linspace(0,1,N), latent_dist_draw[0,0,:])"
   ]
  },
  {
   "cell_type": "code",
   "execution_count": 150,
   "metadata": {},
   "outputs": [
    {
     "data": {
      "text/plain": [
       "torch.Size([1000, 6])"
      ]
     },
     "execution_count": 150,
     "metadata": {},
     "output_type": "execute_result"
    }
   ],
   "source": [
    "mean.shape"
   ]
  },
  {
   "cell_type": "code",
   "execution_count": 143,
   "metadata": {},
   "outputs": [
    {
     "ename": "ValueError",
     "evalue": "x and y must be the same size",
     "output_type": "error",
     "traceback": [
      "\u001b[0;31m---------------------------------------------------------------------------\u001b[0m",
      "\u001b[0;31mValueError\u001b[0m                                Traceback (most recent call last)",
      "\u001b[1;32m/home/cao/projects/hmogp/data/lmc_1D.ipynb Cell 45\u001b[0m in \u001b[0;36m<cell line: 6>\u001b[0;34m()\u001b[0m\n\u001b[1;32m      <a href='vscode-notebook-cell://wsl%2Bubuntu-20.04/home/cao/projects/hmogp/data/lmc_1D.ipynb#Y151sdnNjb2RlLXJlbW90ZQ%3D%3D?line=3'>4</a>\u001b[0m scale_adj \u001b[39m=\u001b[39m torch\u001b[39m.\u001b[39mtensor([\u001b[39m-\u001b[39m\u001b[39m3.2\u001b[39m, \u001b[39m.5\u001b[39m]) \u001b[39m# scale the true GP\u001b[39;00m\n\u001b[1;32m      <a href='vscode-notebook-cell://wsl%2Bubuntu-20.04/home/cao/projects/hmogp/data/lmc_1D.ipynb#Y151sdnNjb2RlLXJlbW90ZQ%3D%3D?line=5'>6</a>\u001b[0m \u001b[39mfor\u001b[39;00m i \u001b[39min\u001b[39;00m \u001b[39mrange\u001b[39m(latent_dist_draw\u001b[39m.\u001b[39msize(\u001b[39m-\u001b[39m\u001b[39m2\u001b[39m)):\n\u001b[0;32m----> <a href='vscode-notebook-cell://wsl%2Bubuntu-20.04/home/cao/projects/hmogp/data/lmc_1D.ipynb#Y151sdnNjb2RlLXJlbW90ZQ%3D%3D?line=6'>7</a>\u001b[0m     line \u001b[39m=\u001b[39m func[i]\u001b[39m.\u001b[39;49mscatter(test_x, mean[i,:]\u001b[39m.\u001b[39;49mdetach(), label\u001b[39m=\u001b[39;49m\u001b[39m'\u001b[39;49m\u001b[39mGP prediction\u001b[39;49m\u001b[39m'\u001b[39;49m, alpha\u001b[39m=\u001b[39;49m\u001b[39m0.5\u001b[39;49m)\n\u001b[1;32m      <a href='vscode-notebook-cell://wsl%2Bubuntu-20.04/home/cao/projects/hmogp/data/lmc_1D.ipynb#Y151sdnNjb2RlLXJlbW90ZQ%3D%3D?line=7'>8</a>\u001b[0m     func[i]\u001b[39m.\u001b[39mfill_between(\n\u001b[1;32m      <a href='vscode-notebook-cell://wsl%2Bubuntu-20.04/home/cao/projects/hmogp/data/lmc_1D.ipynb#Y151sdnNjb2RlLXJlbW90ZQ%3D%3D?line=8'>9</a>\u001b[0m         test_x, lower[i,:],\n\u001b[1;32m     <a href='vscode-notebook-cell://wsl%2Bubuntu-20.04/home/cao/projects/hmogp/data/lmc_1D.ipynb#Y151sdnNjb2RlLXJlbW90ZQ%3D%3D?line=9'>10</a>\u001b[0m         upper[i,:], \u001b[39m#color=line.get_color(), alpha=0.5\u001b[39;00m\n\u001b[1;32m     <a href='vscode-notebook-cell://wsl%2Bubuntu-20.04/home/cao/projects/hmogp/data/lmc_1D.ipynb#Y151sdnNjb2RlLXJlbW90ZQ%3D%3D?line=10'>11</a>\u001b[0m     )\n\u001b[1;32m     <a href='vscode-notebook-cell://wsl%2Bubuntu-20.04/home/cao/projects/hmogp/data/lmc_1D.ipynb#Y151sdnNjb2RlLXJlbW90ZQ%3D%3D?line=11'>12</a>\u001b[0m     func[i]\u001b[39m.\u001b[39mscatter(test_x, Y[:,i]\u001b[39m*\u001b[39mscale_adj[i], label\u001b[39m=\u001b[39m\u001b[39m'\u001b[39m\u001b[39mTrue latent function\u001b[39m\u001b[39m'\u001b[39m, alpha\u001b[39m=\u001b[39m\u001b[39m0.5\u001b[39m)\n",
      "File \u001b[0;32m~/miniconda3/envs/pytorch/lib/python3.9/site-packages/matplotlib/__init__.py:1412\u001b[0m, in \u001b[0;36m_preprocess_data.<locals>.inner\u001b[0;34m(ax, data, *args, **kwargs)\u001b[0m\n\u001b[1;32m   1409\u001b[0m \u001b[39m@functools\u001b[39m\u001b[39m.\u001b[39mwraps(func)\n\u001b[1;32m   1410\u001b[0m \u001b[39mdef\u001b[39;00m \u001b[39minner\u001b[39m(ax, \u001b[39m*\u001b[39margs, data\u001b[39m=\u001b[39m\u001b[39mNone\u001b[39;00m, \u001b[39m*\u001b[39m\u001b[39m*\u001b[39mkwargs):\n\u001b[1;32m   1411\u001b[0m     \u001b[39mif\u001b[39;00m data \u001b[39mis\u001b[39;00m \u001b[39mNone\u001b[39;00m:\n\u001b[0;32m-> 1412\u001b[0m         \u001b[39mreturn\u001b[39;00m func(ax, \u001b[39m*\u001b[39;49m\u001b[39mmap\u001b[39;49m(sanitize_sequence, args), \u001b[39m*\u001b[39;49m\u001b[39m*\u001b[39;49mkwargs)\n\u001b[1;32m   1414\u001b[0m     bound \u001b[39m=\u001b[39m new_sig\u001b[39m.\u001b[39mbind(ax, \u001b[39m*\u001b[39margs, \u001b[39m*\u001b[39m\u001b[39m*\u001b[39mkwargs)\n\u001b[1;32m   1415\u001b[0m     auto_label \u001b[39m=\u001b[39m (bound\u001b[39m.\u001b[39marguments\u001b[39m.\u001b[39mget(label_namer)\n\u001b[1;32m   1416\u001b[0m                   \u001b[39mor\u001b[39;00m bound\u001b[39m.\u001b[39mkwargs\u001b[39m.\u001b[39mget(label_namer))\n",
      "File \u001b[0;32m~/miniconda3/envs/pytorch/lib/python3.9/site-packages/matplotlib/axes/_axes.py:4369\u001b[0m, in \u001b[0;36mAxes.scatter\u001b[0;34m(self, x, y, s, c, marker, cmap, norm, vmin, vmax, alpha, linewidths, edgecolors, plotnonfinite, **kwargs)\u001b[0m\n\u001b[1;32m   4367\u001b[0m y \u001b[39m=\u001b[39m np\u001b[39m.\u001b[39mma\u001b[39m.\u001b[39mravel(y)\n\u001b[1;32m   4368\u001b[0m \u001b[39mif\u001b[39;00m x\u001b[39m.\u001b[39msize \u001b[39m!=\u001b[39m y\u001b[39m.\u001b[39msize:\n\u001b[0;32m-> 4369\u001b[0m     \u001b[39mraise\u001b[39;00m \u001b[39mValueError\u001b[39;00m(\u001b[39m\"\u001b[39m\u001b[39mx and y must be the same size\u001b[39m\u001b[39m\"\u001b[39m)\n\u001b[1;32m   4371\u001b[0m \u001b[39mif\u001b[39;00m s \u001b[39mis\u001b[39;00m \u001b[39mNone\u001b[39;00m:\n\u001b[1;32m   4372\u001b[0m     s \u001b[39m=\u001b[39m (\u001b[39m20\u001b[39m \u001b[39mif\u001b[39;00m rcParams[\u001b[39m'\u001b[39m\u001b[39m_internal.classic_mode\u001b[39m\u001b[39m'\u001b[39m] \u001b[39melse\u001b[39;00m\n\u001b[1;32m   4373\u001b[0m          rcParams[\u001b[39m'\u001b[39m\u001b[39mlines.markersize\u001b[39m\u001b[39m'\u001b[39m] \u001b[39m*\u001b[39m\u001b[39m*\u001b[39m \u001b[39m2.0\u001b[39m)\n",
      "\u001b[0;31mValueError\u001b[0m: x and y must be the same size"
     ]
    },
    {
     "data": {
      "image/png": "[encoded data removed]",
      "text/plain": [
       "<Figure size 1296x216 with 2 Axes>"
      ]
     },
     "metadata": {
      "needs_background": "light"
     },
     "output_type": "display_data"
    }
   ],
   "source": []
  },
  {
   "cell_type": "code",
   "execution_count": 465,
   "metadata": {},
   "outputs": [
    {
     "ename": "AttributeError",
     "evalue": "'numpy.ndarray' object has no attribute 'plot'",
     "output_type": "error",
     "traceback": [
      "\u001b[0;31m---------------------------------------------------------------------------\u001b[0m",
      "\u001b[0;31mAttributeError\u001b[0m                            Traceback (most recent call last)",
      "\u001b[1;32m/home/cao/projects/hmogp/data/lmc_edit.ipynb Cell 71\u001b[0m in \u001b[0;36m<cell line: 1>\u001b[0;34m()\u001b[0m\n\u001b[0;32m----> <a href='vscode-notebook-cell://wsl%2Bubuntu-20.04/home/cao/projects/hmogp/data/lmc_edit.ipynb#Y363sdnNjb2RlLXJlbW90ZQ%3D%3D?line=0'>1</a>\u001b[0m func\u001b[39m.\u001b[39;49mplot\n",
      "\u001b[0;31mAttributeError\u001b[0m: 'numpy.ndarray' object has no attribute 'plot'"
     ]
    }
   ],
   "source": [
    "func.plot"
   ]
  },
  {
   "cell_type": "code",
   "execution_count": 433,
   "metadata": {},
   "outputs": [
    {
     "data": {
      "text/plain": [
       "tensor([[0.2976, 0.6633, 0.2556, 0.1816, 0.1623, 0.0214],\n",
       "        [1.4409, 0.1154, 0.4777, 2.1622, 1.5481, 0.2113]])"
      ]
     },
     "execution_count": 433,
     "metadata": {},
     "output_type": "execute_result"
    }
   ],
   "source": [
    "lmc_coefficients.abs()"
   ]
  },
  {
   "cell_type": "code",
   "execution_count": 455,
   "metadata": {},
   "outputs": [
    {
     "data": {
      "text/plain": [
       "tensor([[0.2023, 0.9852, 0.4718, 0.0837, 0.1043, 0.1005],\n",
       "        [0.9793, 0.1714, 0.8817, 0.9965, 0.9945, 0.9949]])"
      ]
     },
     "execution_count": 455,
     "metadata": {},
     "output_type": "execute_result"
    }
   ],
   "source": [
    "(lmc_coefficients / lmc_coefficients.norm(dim=0)).abs()"
   ]
  },
  {
   "cell_type": "code",
   "execution_count": 234,
   "metadata": {},
   "outputs": [
    {
     "data": {
      "text/plain": [
       "tensor([[ 1.9621e+02, -1.0749e+02, -1.0018e+01,  1.6380e+01],\n",
       "        [-2.6241e+02, -9.1127e+01, -7.1448e+01,  6.1492e+01],\n",
       "        [-8.5248e+02,  7.0574e+01,  1.2827e+02, -2.6106e+01],\n",
       "        [ 5.6284e+02, -1.1733e+02, -2.1688e+02,  9.3123e+01],\n",
       "        [-1.4093e+02, -3.0901e+01, -2.1194e+02,  2.7963e+01],\n",
       "        [-5.1517e+02, -5.7495e+00, -7.1203e+01,  1.5318e+00],\n",
       "        [-1.0719e+03, -4.9065e+00, -2.5408e+02, -3.9783e+01],\n",
       "        [ 4.5269e+01, -1.6458e+02, -1.4053e+02,  1.3965e+01],\n",
       "        [ 2.9809e+01, -2.7801e+01, -1.6584e+01,  2.1681e+01],\n",
       "        [-6.2085e+02,  4.2958e+01, -1.6339e+02, -4.3333e+01],\n",
       "        [-9.4787e+02,  1.2127e+02, -1.5985e+01, -4.8742e+01],\n",
       "        [ 2.4112e+02, -8.5392e+00,  1.9639e+02, -5.9374e+01],\n",
       "        [-4.5770e+02,  1.9142e+02,  3.6580e+02, -6.6735e+01],\n",
       "        [-1.5542e+02,  3.0391e+01, -1.1079e+01, -1.5246e+01],\n",
       "        [-2.1070e+03,  2.0609e+02,  3.7545e+02, -1.1480e+02],\n",
       "        [ 3.1772e+02, -7.4701e+01, -1.3880e+02,  7.8373e+00],\n",
       "        [-3.7360e+02,  6.8543e+01,  1.9278e+02, -5.4793e+01],\n",
       "        [-8.2336e+02,  2.6288e+01,  1.3183e+02, -7.4736e+01],\n",
       "        [-2.0563e+02,  6.7513e+00,  2.0339e+02, -1.0039e+02],\n",
       "        [-2.4849e+02,  6.1006e+01,  2.2397e+02, -4.8048e+01],\n",
       "        [-2.2619e+02,  4.6243e+01,  9.1160e+01, -2.3657e+01],\n",
       "        [-5.2110e+01,  4.6439e+01,  1.7467e+02, -1.5442e+01],\n",
       "        [ 3.9021e+02, -3.0357e+01,  1.0410e+02,  1.5693e+00],\n",
       "        [ 2.7837e+02, -4.0579e+01,  4.0920e+00, -1.6874e+01],\n",
       "        [ 2.8987e+02, -7.8867e+01, -6.9786e+01,  3.7061e+00],\n",
       "        [ 8.9074e+01, -5.1192e+01, -4.6843e+01, -2.8067e+01],\n",
       "        [ 2.0638e+02, -1.0187e+02, -2.3743e+01, -5.5092e+00],\n",
       "        [ 4.3485e+02, -1.7486e+02, -1.5230e+02, -2.5896e+01],\n",
       "        [ 2.4106e+01, -8.8524e+01, -1.0604e+01, -6.0699e+01],\n",
       "        [-8.4350e+02, -4.8652e+01,  4.3498e+01, -9.3291e+01],\n",
       "        [-3.6023e+02, -1.9838e+01,  6.5725e+01, -2.6716e+01],\n",
       "        [-3.1577e+01, -5.3885e+01,  5.6974e+00, -2.6996e+01],\n",
       "        [ 8.0035e+00, -8.8582e+01, -2.7879e+01, -9.2705e+00],\n",
       "        [-3.4969e+02, -2.0129e+01, -6.6423e+01, -3.7366e+01],\n",
       "        [-2.8736e+02,  1.7606e+01, -5.6360e+01, -2.1206e+01],\n",
       "        [-1.0554e+02,  4.5017e+01, -7.9908e+01, -4.4935e+01],\n",
       "        [ 1.0692e+01,  4.0528e+01, -4.2145e+01, -3.2792e+01],\n",
       "        [ 6.3929e+01,  8.9594e+00,  6.6049e+00, -1.9584e+01],\n",
       "        [-1.2840e+02, -2.9238e+01,  4.6673e+01, -2.2057e+01],\n",
       "        [ 2.8323e+01,  6.0781e+01,  2.1534e+01,  3.5283e+01],\n",
       "        [-2.6499e+02,  4.0355e+01, -6.9542e+01, -7.9105e+00],\n",
       "        [ 2.0245e+01,  4.7411e+01, -3.9477e+01,  4.5470e+01],\n",
       "        [-8.6568e+01,  2.3340e+01, -4.1918e+01, -9.1988e-01],\n",
       "        [-3.4415e+02,  1.1440e+02,  3.4992e+01, -2.6219e+01],\n",
       "        [-9.5845e+00,  1.0603e+02,  5.2885e+01,  3.1416e+01],\n",
       "        [ 2.8124e+02,  1.1567e+02,  6.8443e+01,  3.0675e+01],\n",
       "        [-4.3049e+01,  8.5317e+01,  1.7001e+02, -4.7268e+00],\n",
       "        [-2.6660e+02,  1.2389e+02,  2.3386e+02,  1.3419e+01],\n",
       "        [-3.3757e-01,  3.9948e+01,  1.2834e+02,  3.2592e+01],\n",
       "        [ 3.1091e+02, -1.7878e+01,  1.5429e+02,  8.0214e+01],\n",
       "        [ 1.9820e+02,  4.1729e+01,  1.7415e+02,  6.4835e+01],\n",
       "        [-2.8908e+01,  1.9401e+01,  7.0806e+00,  5.6598e+01],\n",
       "        [ 4.2314e+00,  3.0570e+01, -4.3663e+01,  6.8934e+01],\n",
       "        [ 2.9847e+02, -8.3134e+00, -6.4354e+01,  7.3457e+01],\n",
       "        [ 3.7073e+02, -6.7166e+01,  3.7396e+01,  6.0645e+01],\n",
       "        [ 1.3821e+02, -6.2277e+01,  2.8558e-01,  2.1220e+01],\n",
       "        [ 5.9546e+01, -4.2014e+01, -4.1582e+01,  1.9553e+01],\n",
       "        [ 1.1006e+02, -5.1218e+01, -3.0761e+01,  4.5179e+01],\n",
       "        [-1.5173e+02, -1.5455e+01,  7.6603e+01,  1.8768e+01],\n",
       "        [-1.1413e+02, -3.7226e+01,  1.5270e+02,  1.6966e+01],\n",
       "        [-2.2452e+02,  2.4974e+01,  1.9944e+02,  1.5056e+01],\n",
       "        [ 8.1006e+00,  5.2984e+00,  1.1793e+02,  7.0260e+01],\n",
       "        [ 3.6156e+02, -2.0654e+01,  4.4345e+01,  1.0743e+02],\n",
       "        [ 3.8175e+02, -1.7536e+01, -1.8795e+01,  6.3532e+01],\n",
       "        [ 2.0106e+02, -1.9034e+01,  1.6056e+02,  2.0872e+01],\n",
       "        [ 5.6976e+02, -7.6916e+01, -2.9631e+00,  8.7726e+01],\n",
       "        [ 3.1699e+02,  6.6542e+00,  4.8222e+01,  6.2270e+01],\n",
       "        [ 1.9476e+02, -1.0654e+02, -1.1215e+02,  1.1345e+01],\n",
       "        [-1.9920e+02, -4.6961e+01,  5.7055e+01, -4.6406e-01],\n",
       "        [ 1.7943e+02, -1.9735e+01, -4.9969e+01, -1.3327e+01],\n",
       "        [ 3.9748e+01, -6.2761e+01, -6.3382e+01, -3.1708e+01],\n",
       "        [-2.7947e+01,  2.9045e+00,  1.6552e+01, -4.9226e+01],\n",
       "        [-2.8650e+02, -3.8337e+01, -1.7284e+01, -4.9079e+01],\n",
       "        [-3.0666e+02, -2.9856e+01, -2.5632e+01, -2.5161e+01],\n",
       "        [-7.3977e+02,  6.4157e+00, -5.6955e+01, -5.8321e+01],\n",
       "        [-2.0964e+02, -6.8052e+01, -7.4858e+01, -1.2241e+01],\n",
       "        [-3.0016e+02,  2.4655e+01, -2.1709e+01,  1.3576e+01],\n",
       "        [ 9.1315e+01, -5.3196e+01, -1.6387e+02,  1.4139e+01],\n",
       "        [-1.5256e+02, -5.9929e+01, -8.1330e+01, -1.5336e+01],\n",
       "        [ 1.7028e+02, -1.1052e+02, -1.3746e+02,  1.9812e+01],\n",
       "        [ 2.3575e+01, -1.2884e+01, -2.9316e+01,  1.8154e+01],\n",
       "        [-4.6320e-01, -5.9292e+01, -2.0168e+02,  4.0936e+01],\n",
       "        [-4.9733e+02, -4.1128e+01, -1.9288e+02, -4.5149e+01],\n",
       "        [ 2.2337e+02, -1.3256e+02, -2.3505e+02, -7.5164e+00],\n",
       "        [-3.7966e+02,  6.7680e+01, -1.3473e+00, -4.9618e+01],\n",
       "        [-3.6471e+02,  7.8877e+01,  2.3151e+01, -3.5103e+01],\n",
       "        [-1.0074e+03,  1.7770e+02,  1.0724e+02, -4.7215e+01],\n",
       "        [ 6.7592e+01, -1.0139e+02, -1.7203e+02,  5.3830e+00],\n",
       "        [-1.5405e+02,  8.0327e+00,  1.1958e+02, -1.6530e+01],\n",
       "        [-7.4718e+02, -5.2405e+00, -1.6170e+02, -4.0235e+01],\n",
       "        [ 1.2560e+02, -4.6691e+01, -7.9537e+01, -4.8760e+00],\n",
       "        [-4.2113e+02,  1.1702e+01,  9.6951e+01, -8.7230e+00],\n",
       "        [-1.5111e+03,  1.1343e+02, -2.4673e+01, -1.1830e+02],\n",
       "        [-1.0829e+03,  8.5402e+01, -1.0671e+02, -6.5508e+01],\n",
       "        [-2.2714e+02,  3.1940e+01,  9.4002e+01, -3.3886e+00],\n",
       "        [-6.3532e+02,  1.0109e+02,  1.6417e+02, -3.3395e+01],\n",
       "        [-1.3852e+02,  6.6378e+01,  8.0999e+01, -1.3893e+01],\n",
       "        [-2.9046e+02,  2.2923e+01,  1.5541e+02,  4.7430e+01],\n",
       "        [-5.4962e+02,  7.8545e+00, -4.6486e+01,  1.2321e+00],\n",
       "        [ 2.6165e+02, -3.4814e+01,  4.2740e+01, -3.3664e+01]], device='cuda:0')"
      ]
     },
     "execution_count": 234,
     "metadata": {},
     "output_type": "execute_result"
    }
   ],
   "source": [
    "torch.matmul(torch.matmul(model.covar_module.kernel_modules[1].kernels[1].forward(torch.linspace(0,1,100).expand(2,100).T.cuda(), train_x.cuda()).detach(),\n",
    "             torch.linalg.inv(model.covar_module.kernel_modules[1].kernels[1].forward(train_x.cuda(), train_x.cuda()).detach())),\n",
    "             train_y.cuda())"
   ]
  },
  {
   "cell_type": "code",
   "execution_count": 215,
   "metadata": {},
   "outputs": [
    {
     "data": {
      "text/plain": [
       "tensor([[ -20646.3496,   28245.0352,   -7681.4888,  ...,   21476.1387,\n",
       "         -142824.0156,  127749.0547],\n",
       "        [ -37323.1016,  194033.0938,   -7293.6289,  ...,   92760.3984,\n",
       "           20489.0742,  382911.3750],\n",
       "        [ -62863.7227,   43918.6094,  -53302.2695,  ...,   19698.1191,\n",
       "           66279.1562,   29607.1211],\n",
       "        ...,\n",
       "        [   5316.9790,   56970.0391,   59390.2539,  ...,   61759.0039,\n",
       "          -16879.7695,   58444.3516],\n",
       "        [ -43380.5664,  119241.5781,  -21799.4648,  ...,   61595.2930,\n",
       "         -172870.6250,  258117.0156],\n",
       "        [  31855.6680,   31031.0957,  -47980.4336,  ...,   33687.1719,\n",
       "           40162.4688,   74709.0000]], device='cuda:0')"
      ]
     },
     "execution_count": 215,
     "metadata": {},
     "output_type": "execute_result"
    }
   ],
   "source": [
    "torch.linalg.inv(model.covar_module.kernel_modules[1].kernels[1].forward(train_x.cuda(), train_x.cuda()).detach())"
   ]
  },
  {
   "cell_type": "code",
   "execution_count": 210,
   "metadata": {},
   "outputs": [
    {
     "data": {
      "text/plain": [
       "torch.Size([1000, 100])"
      ]
     },
     "execution_count": 210,
     "metadata": {},
     "output_type": "execute_result"
    }
   ],
   "source": [
    "model.covar_module.kernel_modules[1].kernels[1].forward(train_x.cuda(), torch.linspace(0,1,100).expand(2,100).T.cuda()).detach().shape"
   ]
  },
  {
   "cell_type": "code",
   "execution_count": 203,
   "metadata": {},
   "outputs": [
    {
     "data": {
      "text/plain": [
       "torch.Size([100, 1000])"
      ]
     },
     "execution_count": 203,
     "metadata": {},
     "output_type": "execute_result"
    }
   ],
   "source": [
    "model.covar_module.kernel_modules[1].kernels[1].forward(torch.linspace(0,1,100).expand(2,100).T.cuda(), train_x.cuda()).detach().shape"
   ]
  },
  {
   "cell_type": "code",
   "execution_count": 169,
   "metadata": {},
   "outputs": [
    {
     "data": {
      "text/plain": [
       "tensor([[0.9802, 0.2859]], device='cuda:0', grad_fn=<SoftplusBackward0>)"
      ]
     },
     "execution_count": 169,
     "metadata": {},
     "output_type": "execute_result"
    }
   ],
   "source": [
    "model.covar_module.kernel_modules[1].kernels[1].lengthscale"
   ]
  },
  {
   "cell_type": "code",
   "execution_count": 113,
   "metadata": {},
   "outputs": [
    {
     "ename": "TypeError",
     "evalue": "super() argument 1 must be type, not LMCVariationalStrategy",
     "output_type": "error",
     "traceback": [
      "\u001b[0;31m---------------------------------------------------------------------------\u001b[0m",
      "\u001b[0;31mTypeError\u001b[0m                                 Traceback (most recent call last)",
      "\u001b[1;32m/home/cao/projects/hmogp/data/lmc_edit.ipynb Cell 72\u001b[0m in \u001b[0;36m<cell line: 1>\u001b[0;34m()\u001b[0m\n\u001b[0;32m----> <a href='vscode-notebook-cell://wsl%2Bubuntu-20.04/home/cao/projects/hmogp/data/lmc_edit.ipynb#Y246sdnNjb2RlLXJlbW90ZQ%3D%3D?line=0'>1</a>\u001b[0m \u001b[39msuper\u001b[39;49m(model\u001b[39m.\u001b[39;49mvariational_strategy)\n",
      "\u001b[0;31mTypeError\u001b[0m: super() argument 1 must be type, not LMCVariationalStrategy"
     ]
    }
   ],
   "source": [
    "super()"
   ]
  },
  {
   "cell_type": "code",
   "execution_count": 103,
   "metadata": {},
   "outputs": [
    {
     "data": {
      "text/plain": [
       "__main__.LMCVariationalStrategy"
      ]
     },
     "execution_count": 103,
     "metadata": {},
     "output_type": "execute_result"
    }
   ],
   "source": [
    "type(model.variational_strategy)"
   ]
  },
  {
   "cell_type": "code",
   "execution_count": 111,
   "metadata": {},
   "outputs": [
    {
     "name": "stdout",
     "output_type": "stream",
     "text": [
      "\u001b[0;31mSignature:\u001b[0m\n",
      "\u001b[0mmodel\u001b[0m\u001b[0;34m.\u001b[0m\u001b[0mvariational_strategy\u001b[0m\u001b[0;34m.\u001b[0m\u001b[0m__call__\u001b[0m\u001b[0;34m(\u001b[0m\u001b[0;34m\u001b[0m\n",
      "\u001b[0;34m\u001b[0m    \u001b[0mx\u001b[0m\u001b[0;34m,\u001b[0m\u001b[0;34m\u001b[0m\n",
      "\u001b[0;34m\u001b[0m    \u001b[0mtask_indices\u001b[0m\u001b[0;34m=\u001b[0m\u001b[0;32mNone\u001b[0m\u001b[0;34m,\u001b[0m\u001b[0;34m\u001b[0m\n",
      "\u001b[0;34m\u001b[0m    \u001b[0mprior\u001b[0m\u001b[0;34m=\u001b[0m\u001b[0;32mFalse\u001b[0m\u001b[0;34m,\u001b[0m\u001b[0;34m\u001b[0m\n",
      "\u001b[0;34m\u001b[0m    \u001b[0;34m**\u001b[0m\u001b[0mkwargs\u001b[0m\u001b[0;34m,\u001b[0m\u001b[0;34m\u001b[0m\n",
      "\u001b[0;34m\u001b[0m\u001b[0;34m)\u001b[0m\u001b[0;34m\u001b[0m\u001b[0;34m\u001b[0m\u001b[0m\n",
      "\u001b[0;31mDocstring:\u001b[0m\n",
      "Computes the variational (or prior) distribution\n",
      ":math:`q( \\mathbf f \\mid \\mathbf X)` (or :math:`p( \\mathbf f \\mid \\mathbf X)`).\n",
      "There are two modes:\n",
      "\n",
      "1.  Compute **all tasks** for all inputs.\n",
      "    If this is the case, the task_indices attribute should be None.\n",
      "    The return type will be a (... x N x num_tasks)\n",
      "    :class:`~gpytorch.distributions.MultitaskMultivariateNormal`.\n",
      "2.  Compute **one task** per inputs.\n",
      "    If this is the case, the (... x N) task_indices tensor should contain\n",
      "    the indices of each input's assigned task.\n",
      "    The return type will be a (... x N)\n",
      "    :class:`~gpytorch.distributions.MultivariateNormal`.\n",
      "\n",
      ":param x: Input locations to evaluate variational strategy\n",
      ":type x: torch.Tensor (... x N x D)\n",
      ":param task_indices: (Default: None) Task index associated with each input.\n",
      "    If this **is not** provided, then the returned distribution evaluates every input on every task\n",
      "    (returns :class:`~gpytorch.distributions.MultitaskMultivariateNormal`).\n",
      "    If this **is** provided, then the returned distribution evaluates each input only on its assigned task.\n",
      "    (returns :class:`~gpytorch.distributions.MultivariateNormal`).\n",
      ":type task_indices: torch.Tensor (... x N), optional\n",
      ":param prior: (Default: False) If False, returns the variational distribution\n",
      "    :math:`q( \\mathbf f \\mid \\mathbf X)`.\n",
      "    If True, returns the prior distribution\n",
      "    :math:`p( \\mathbf f \\mid \\mathbf X)`.\n",
      ":type prior: bool\n",
      ":return: :math:`q( \\mathbf f \\mid \\mathbf X)` (or the prior),\n",
      "    either for all tasks (if `task_indices == None`)\n",
      "    or for a specific task (if `task_indices != None`).\n",
      ":rtype: ~gpytorch.distributions.MultitaskMultivariateNormal (... x N x num_tasks)\n",
      "    or ~gpytorch.distributions.MultivariateNormal (... x N)\n",
      "\u001b[0;31mFile:\u001b[0m      /tmp/ipykernel_3395/3710571220.py\n",
      "\u001b[0;31mType:\u001b[0m      method\n"
     ]
    }
   ],
   "source": [
    "model.variational_strategy.__call__?"
   ]
  },
  {
   "cell_type": "code",
   "execution_count": 108,
   "metadata": {},
   "outputs": [
    {
     "data": {
      "text/plain": [
       "<super: __main__.LMCVariationalStrategy, None>"
      ]
     },
     "execution_count": 108,
     "metadata": {},
     "output_type": "execute_result"
    }
   ],
   "source": [
    "super(type(model.variational_strategy))"
   ]
  },
  {
   "cell_type": "code",
   "execution_count": 98,
   "metadata": {},
   "outputs": [
    {
     "ename": "TypeError",
     "evalue": "gpytorch.module.Module.__call__() got multiple values for keyword argument 'inducing_values'",
     "output_type": "error",
     "traceback": [
      "\u001b[0;31m---------------------------------------------------------------------------\u001b[0m",
      "\u001b[0;31mTypeError\u001b[0m                                 Traceback (most recent call last)",
      "\u001b[1;32m/home/cao/projects/hmogp/data/lmc_edit.ipynb Cell 72\u001b[0m in \u001b[0;36m<cell line: 1>\u001b[0;34m()\u001b[0m\n\u001b[0;32m----> <a href='vscode-notebook-cell://wsl%2Bubuntu-20.04/home/cao/projects/hmogp/data/lmc_edit.ipynb#Y241sdnNjb2RlLXJlbW90ZQ%3D%3D?line=0'>1</a>\u001b[0m model\u001b[39m.\u001b[39;49mvariational_strategy\u001b[39m.\u001b[39;49m\u001b[39m__call__\u001b[39;49m(train_x\u001b[39m.\u001b[39;49mcuda(), \u001b[39m*\u001b[39;49m\u001b[39m*\u001b[39;49m{\u001b[39m\"\u001b[39;49m\u001b[39minducing_values\u001b[39;49m\u001b[39m\"\u001b[39;49m:model\u001b[39m.\u001b[39;49mvariational_strategy\u001b[39m.\u001b[39;49mvariational_distribution\u001b[39m.\u001b[39;49mmean})\n",
      "\u001b[1;32m/home/cao/projects/hmogp/data/lmc_edit.ipynb Cell 72\u001b[0m in \u001b[0;36mLMCVariationalStrategy.__call__\u001b[0;34m(self, x, task_indices, prior, **kwargs)\u001b[0m\n\u001b[1;32m    <a href='vscode-notebook-cell://wsl%2Bubuntu-20.04/home/cao/projects/hmogp/data/lmc_edit.ipynb#Y241sdnNjb2RlLXJlbW90ZQ%3D%3D?line=140'>141</a>\u001b[0m \u001b[39mdef\u001b[39;00m \u001b[39m__call__\u001b[39m(\u001b[39mself\u001b[39m, x, task_indices\u001b[39m=\u001b[39m\u001b[39mNone\u001b[39;00m, prior\u001b[39m=\u001b[39m\u001b[39mFalse\u001b[39;00m, \u001b[39m*\u001b[39m\u001b[39m*\u001b[39mkwargs):\n\u001b[1;32m    <a href='vscode-notebook-cell://wsl%2Bubuntu-20.04/home/cao/projects/hmogp/data/lmc_edit.ipynb#Y241sdnNjb2RlLXJlbW90ZQ%3D%3D?line=141'>142</a>\u001b[0m     \u001b[39mr\u001b[39m\u001b[39m\"\"\"\u001b[39;00m\n\u001b[1;32m    <a href='vscode-notebook-cell://wsl%2Bubuntu-20.04/home/cao/projects/hmogp/data/lmc_edit.ipynb#Y241sdnNjb2RlLXJlbW90ZQ%3D%3D?line=142'>143</a>\u001b[0m \u001b[39m    Computes the variational (or prior) distribution\u001b[39;00m\n\u001b[1;32m    <a href='vscode-notebook-cell://wsl%2Bubuntu-20.04/home/cao/projects/hmogp/data/lmc_edit.ipynb#Y241sdnNjb2RlLXJlbW90ZQ%3D%3D?line=143'>144</a>\u001b[0m \u001b[39m    :math:`q( \\mathbf f \\mid \\mathbf X)` (or :math:`p( \\mathbf f \\mid \\mathbf X)`).\u001b[39;00m\n\u001b[0;32m   (...)\u001b[0m\n\u001b[1;32m    <a href='vscode-notebook-cell://wsl%2Bubuntu-20.04/home/cao/projects/hmogp/data/lmc_edit.ipynb#Y241sdnNjb2RlLXJlbW90ZQ%3D%3D?line=173'>174</a>\u001b[0m \u001b[39m        or ~gpytorch.distributions.MultivariateNormal (... x N)\u001b[39;00m\n\u001b[1;32m    <a href='vscode-notebook-cell://wsl%2Bubuntu-20.04/home/cao/projects/hmogp/data/lmc_edit.ipynb#Y241sdnNjb2RlLXJlbW90ZQ%3D%3D?line=174'>175</a>\u001b[0m \u001b[39m    \"\"\"\u001b[39;00m\n\u001b[0;32m--> <a href='vscode-notebook-cell://wsl%2Bubuntu-20.04/home/cao/projects/hmogp/data/lmc_edit.ipynb#Y241sdnNjb2RlLXJlbW90ZQ%3D%3D?line=175'>176</a>\u001b[0m     \u001b[39mself\u001b[39m\u001b[39m.\u001b[39mlatent_dist \u001b[39m=\u001b[39m \u001b[39mself\u001b[39;49m\u001b[39m.\u001b[39;49mbase_variational_strategy(x, prior\u001b[39m=\u001b[39;49mprior, \u001b[39m*\u001b[39;49m\u001b[39m*\u001b[39;49mkwargs)\n\u001b[1;32m    <a href='vscode-notebook-cell://wsl%2Bubuntu-20.04/home/cao/projects/hmogp/data/lmc_edit.ipynb#Y241sdnNjb2RlLXJlbW90ZQ%3D%3D?line=176'>177</a>\u001b[0m     num_batch \u001b[39m=\u001b[39m \u001b[39mlen\u001b[39m(\u001b[39mself\u001b[39m\u001b[39m.\u001b[39mlatent_dist\u001b[39m.\u001b[39mbatch_shape)\n\u001b[1;32m    <a href='vscode-notebook-cell://wsl%2Bubuntu-20.04/home/cao/projects/hmogp/data/lmc_edit.ipynb#Y241sdnNjb2RlLXJlbW90ZQ%3D%3D?line=177'>178</a>\u001b[0m     latent_dim \u001b[39m=\u001b[39m num_batch \u001b[39m+\u001b[39m \u001b[39mself\u001b[39m\u001b[39m.\u001b[39mlatent_dim\n",
      "File \u001b[0;32m~/miniconda3/envs/pytorch/lib/python3.9/site-packages/gpytorch/variational/variational_strategy.py:246\u001b[0m, in \u001b[0;36mVariationalStrategy.__call__\u001b[0;34m(self, x, prior, **kwargs)\u001b[0m\n\u001b[1;32m    243\u001b[0m         \u001b[39m# Mark that we have updated the variational strategy\u001b[39;00m\n\u001b[1;32m    244\u001b[0m         \u001b[39mself\u001b[39m\u001b[39m.\u001b[39mupdated_strategy\u001b[39m.\u001b[39mfill_(\u001b[39mTrue\u001b[39;00m)\n\u001b[0;32m--> 246\u001b[0m \u001b[39mreturn\u001b[39;00m \u001b[39msuper\u001b[39;49m()\u001b[39m.\u001b[39;49m\u001b[39m__call__\u001b[39;49m(x, prior\u001b[39m=\u001b[39;49mprior, \u001b[39m*\u001b[39;49m\u001b[39m*\u001b[39;49mkwargs)\n",
      "File \u001b[0;32m~/miniconda3/envs/pytorch/lib/python3.9/site-packages/gpytorch/variational/_variational_strategy.py:309\u001b[0m, in \u001b[0;36m_VariationalStrategy.__call__\u001b[0;34m(self, x, prior, **kwargs)\u001b[0m\n\u001b[1;32m    307\u001b[0m \u001b[39m# Get q(f)\u001b[39;00m\n\u001b[1;32m    308\u001b[0m \u001b[39mif\u001b[39;00m \u001b[39misinstance\u001b[39m(variational_dist_u, MultivariateNormal):\n\u001b[0;32m--> 309\u001b[0m     \u001b[39mreturn\u001b[39;00m \u001b[39msuper\u001b[39m()\u001b[39m.\u001b[39m\u001b[39m__call__\u001b[39m(\n\u001b[1;32m    310\u001b[0m         x,\n\u001b[1;32m    311\u001b[0m         inducing_points,\n\u001b[1;32m    312\u001b[0m         inducing_values\u001b[39m=\u001b[39mvariational_dist_u\u001b[39m.\u001b[39mmean,\n\u001b[1;32m    313\u001b[0m         variational_inducing_covar\u001b[39m=\u001b[39mvariational_dist_u\u001b[39m.\u001b[39mlazy_covariance_matrix,\n\u001b[1;32m    314\u001b[0m         \u001b[39m*\u001b[39m\u001b[39m*\u001b[39mkwargs,\n\u001b[1;32m    315\u001b[0m     )\n\u001b[1;32m    316\u001b[0m \u001b[39melif\u001b[39;00m \u001b[39misinstance\u001b[39m(variational_dist_u, Delta):\n\u001b[1;32m    317\u001b[0m     \u001b[39mreturn\u001b[39;00m \u001b[39msuper\u001b[39m()\u001b[39m.\u001b[39m\u001b[39m__call__\u001b[39m(\n\u001b[1;32m    318\u001b[0m         x, inducing_points, inducing_values\u001b[39m=\u001b[39mvariational_dist_u\u001b[39m.\u001b[39mmean, variational_inducing_covar\u001b[39m=\u001b[39m\u001b[39mNone\u001b[39;00m, \u001b[39m*\u001b[39m\u001b[39m*\u001b[39mkwargs\n\u001b[1;32m    319\u001b[0m     )\n",
      "\u001b[0;31mTypeError\u001b[0m: gpytorch.module.Module.__call__() got multiple values for keyword argument 'inducing_values'"
     ]
    }
   ],
   "source": [
    "model.variational_strategy.__call__(train_x.cuda(), **{\"inducing_values\":model.variational_strategy.variational_distribution.mean})"
   ]
  },
  {
   "cell_type": "code",
   "execution_count": 90,
   "metadata": {},
   "outputs": [
    {
     "ename": "TypeError",
     "evalue": "gpytorch.module.Module.__call__() got multiple values for keyword argument 'inducing_values'",
     "output_type": "error",
     "traceback": [
      "\u001b[0;31m---------------------------------------------------------------------------\u001b[0m",
      "\u001b[0;31mTypeError\u001b[0m                                 Traceback (most recent call last)",
      "\u001b[1;32m/home/cao/projects/hmogp/data/lmc_edit.ipynb Cell 73\u001b[0m in \u001b[0;36m<cell line: 1>\u001b[0;34m()\u001b[0m\n\u001b[0;32m----> <a href='vscode-notebook-cell://wsl%2Bubuntu-20.04/home/cao/projects/hmogp/data/lmc_edit.ipynb#Y242sdnNjb2RlLXJlbW90ZQ%3D%3D?line=0'>1</a>\u001b[0m model\u001b[39m.\u001b[39;49m\u001b[39m__call__\u001b[39;49m(train_x\u001b[39m.\u001b[39;49mcuda(), inducing_values\u001b[39m=\u001b[39;49mmodel\u001b[39m.\u001b[39;49mvariational_strategy\u001b[39m.\u001b[39;49mvariational_distribution\u001b[39m.\u001b[39;49mmean)\n",
      "File \u001b[0;32m~/miniconda3/envs/pytorch/lib/python3.9/site-packages/gpytorch/models/approximate_gp.py:108\u001b[0m, in \u001b[0;36mApproximateGP.__call__\u001b[0;34m(self, inputs, prior, **kwargs)\u001b[0m\n\u001b[1;32m    106\u001b[0m \u001b[39mif\u001b[39;00m inputs\u001b[39m.\u001b[39mdim() \u001b[39m==\u001b[39m \u001b[39m1\u001b[39m:\n\u001b[1;32m    107\u001b[0m     inputs \u001b[39m=\u001b[39m inputs\u001b[39m.\u001b[39munsqueeze(\u001b[39m-\u001b[39m\u001b[39m1\u001b[39m)\n\u001b[0;32m--> 108\u001b[0m \u001b[39mreturn\u001b[39;00m \u001b[39mself\u001b[39;49m\u001b[39m.\u001b[39;49mvariational_strategy(inputs, prior\u001b[39m=\u001b[39;49mprior, \u001b[39m*\u001b[39;49m\u001b[39m*\u001b[39;49mkwargs)\n",
      "\u001b[1;32m/home/cao/projects/hmogp/data/lmc_edit.ipynb Cell 73\u001b[0m in \u001b[0;36mLMCVariationalStrategy.__call__\u001b[0;34m(self, x, task_indices, prior, **kwargs)\u001b[0m\n\u001b[1;32m    <a href='vscode-notebook-cell://wsl%2Bubuntu-20.04/home/cao/projects/hmogp/data/lmc_edit.ipynb#Y242sdnNjb2RlLXJlbW90ZQ%3D%3D?line=140'>141</a>\u001b[0m \u001b[39mdef\u001b[39;00m \u001b[39m__call__\u001b[39m(\u001b[39mself\u001b[39m, x, task_indices\u001b[39m=\u001b[39m\u001b[39mNone\u001b[39;00m, prior\u001b[39m=\u001b[39m\u001b[39mFalse\u001b[39;00m, \u001b[39m*\u001b[39m\u001b[39m*\u001b[39mkwargs):\n\u001b[1;32m    <a href='vscode-notebook-cell://wsl%2Bubuntu-20.04/home/cao/projects/hmogp/data/lmc_edit.ipynb#Y242sdnNjb2RlLXJlbW90ZQ%3D%3D?line=141'>142</a>\u001b[0m     \u001b[39mr\u001b[39m\u001b[39m\"\"\"\u001b[39;00m\n\u001b[1;32m    <a href='vscode-notebook-cell://wsl%2Bubuntu-20.04/home/cao/projects/hmogp/data/lmc_edit.ipynb#Y242sdnNjb2RlLXJlbW90ZQ%3D%3D?line=142'>143</a>\u001b[0m \u001b[39m    Computes the variational (or prior) distribution\u001b[39;00m\n\u001b[1;32m    <a href='vscode-notebook-cell://wsl%2Bubuntu-20.04/home/cao/projects/hmogp/data/lmc_edit.ipynb#Y242sdnNjb2RlLXJlbW90ZQ%3D%3D?line=143'>144</a>\u001b[0m \u001b[39m    :math:`q( \\mathbf f \\mid \\mathbf X)` (or :math:`p( \\mathbf f \\mid \\mathbf X)`).\u001b[39;00m\n\u001b[0;32m   (...)\u001b[0m\n\u001b[1;32m    <a href='vscode-notebook-cell://wsl%2Bubuntu-20.04/home/cao/projects/hmogp/data/lmc_edit.ipynb#Y242sdnNjb2RlLXJlbW90ZQ%3D%3D?line=173'>174</a>\u001b[0m \u001b[39m        or ~gpytorch.distributions.MultivariateNormal (... x N)\u001b[39;00m\n\u001b[1;32m    <a href='vscode-notebook-cell://wsl%2Bubuntu-20.04/home/cao/projects/hmogp/data/lmc_edit.ipynb#Y242sdnNjb2RlLXJlbW90ZQ%3D%3D?line=174'>175</a>\u001b[0m \u001b[39m    \"\"\"\u001b[39;00m\n\u001b[0;32m--> <a href='vscode-notebook-cell://wsl%2Bubuntu-20.04/home/cao/projects/hmogp/data/lmc_edit.ipynb#Y242sdnNjb2RlLXJlbW90ZQ%3D%3D?line=175'>176</a>\u001b[0m     \u001b[39mself\u001b[39m\u001b[39m.\u001b[39mlatent_dist \u001b[39m=\u001b[39m \u001b[39mself\u001b[39;49m\u001b[39m.\u001b[39;49mbase_variational_strategy(x, prior\u001b[39m=\u001b[39;49mprior, \u001b[39m*\u001b[39;49m\u001b[39m*\u001b[39;49mkwargs)\n\u001b[1;32m    <a href='vscode-notebook-cell://wsl%2Bubuntu-20.04/home/cao/projects/hmogp/data/lmc_edit.ipynb#Y242sdnNjb2RlLXJlbW90ZQ%3D%3D?line=176'>177</a>\u001b[0m     num_batch \u001b[39m=\u001b[39m \u001b[39mlen\u001b[39m(\u001b[39mself\u001b[39m\u001b[39m.\u001b[39mlatent_dist\u001b[39m.\u001b[39mbatch_shape)\n\u001b[1;32m    <a href='vscode-notebook-cell://wsl%2Bubuntu-20.04/home/cao/projects/hmogp/data/lmc_edit.ipynb#Y242sdnNjb2RlLXJlbW90ZQ%3D%3D?line=177'>178</a>\u001b[0m     latent_dim \u001b[39m=\u001b[39m num_batch \u001b[39m+\u001b[39m \u001b[39mself\u001b[39m\u001b[39m.\u001b[39mlatent_dim\n",
      "File \u001b[0;32m~/miniconda3/envs/pytorch/lib/python3.9/site-packages/gpytorch/variational/variational_strategy.py:246\u001b[0m, in \u001b[0;36mVariationalStrategy.__call__\u001b[0;34m(self, x, prior, **kwargs)\u001b[0m\n\u001b[1;32m    243\u001b[0m         \u001b[39m# Mark that we have updated the variational strategy\u001b[39;00m\n\u001b[1;32m    244\u001b[0m         \u001b[39mself\u001b[39m\u001b[39m.\u001b[39mupdated_strategy\u001b[39m.\u001b[39mfill_(\u001b[39mTrue\u001b[39;00m)\n\u001b[0;32m--> 246\u001b[0m \u001b[39mreturn\u001b[39;00m \u001b[39msuper\u001b[39;49m()\u001b[39m.\u001b[39;49m\u001b[39m__call__\u001b[39;49m(x, prior\u001b[39m=\u001b[39;49mprior, \u001b[39m*\u001b[39;49m\u001b[39m*\u001b[39;49mkwargs)\n",
      "File \u001b[0;32m~/miniconda3/envs/pytorch/lib/python3.9/site-packages/gpytorch/variational/_variational_strategy.py:309\u001b[0m, in \u001b[0;36m_VariationalStrategy.__call__\u001b[0;34m(self, x, prior, **kwargs)\u001b[0m\n\u001b[1;32m    307\u001b[0m \u001b[39m# Get q(f)\u001b[39;00m\n\u001b[1;32m    308\u001b[0m \u001b[39mif\u001b[39;00m \u001b[39misinstance\u001b[39m(variational_dist_u, MultivariateNormal):\n\u001b[0;32m--> 309\u001b[0m     \u001b[39mreturn\u001b[39;00m \u001b[39msuper\u001b[39m()\u001b[39m.\u001b[39m\u001b[39m__call__\u001b[39m(\n\u001b[1;32m    310\u001b[0m         x,\n\u001b[1;32m    311\u001b[0m         inducing_points,\n\u001b[1;32m    312\u001b[0m         inducing_values\u001b[39m=\u001b[39mvariational_dist_u\u001b[39m.\u001b[39mmean,\n\u001b[1;32m    313\u001b[0m         variational_inducing_covar\u001b[39m=\u001b[39mvariational_dist_u\u001b[39m.\u001b[39mlazy_covariance_matrix,\n\u001b[1;32m    314\u001b[0m         \u001b[39m*\u001b[39m\u001b[39m*\u001b[39mkwargs,\n\u001b[1;32m    315\u001b[0m     )\n\u001b[1;32m    316\u001b[0m \u001b[39melif\u001b[39;00m \u001b[39misinstance\u001b[39m(variational_dist_u, Delta):\n\u001b[1;32m    317\u001b[0m     \u001b[39mreturn\u001b[39;00m \u001b[39msuper\u001b[39m()\u001b[39m.\u001b[39m\u001b[39m__call__\u001b[39m(\n\u001b[1;32m    318\u001b[0m         x, inducing_points, inducing_values\u001b[39m=\u001b[39mvariational_dist_u\u001b[39m.\u001b[39mmean, variational_inducing_covar\u001b[39m=\u001b[39m\u001b[39mNone\u001b[39;00m, \u001b[39m*\u001b[39m\u001b[39m*\u001b[39mkwargs\n\u001b[1;32m    319\u001b[0m     )\n",
      "\u001b[0;31mTypeError\u001b[0m: gpytorch.module.Module.__call__() got multiple values for keyword argument 'inducing_values'"
     ]
    }
   ],
   "source": [
    "model.__call__(train_x.cuda(), inducing_values=model.variational_strategy.variational_distribution.mean)"
   ]
  },
  {
   "cell_type": "code",
   "execution_count": 84,
   "metadata": {},
   "outputs": [
    {
     "ename": "TypeError",
     "evalue": "gpytorch.module.Module.__call__() got multiple values for keyword argument 'inducing_values'",
     "output_type": "error",
     "traceback": [
      "\u001b[0;31m---------------------------------------------------------------------------\u001b[0m",
      "\u001b[0;31mTypeError\u001b[0m                                 Traceback (most recent call last)",
      "\u001b[1;32m/home/cao/projects/hmogp/data/lmc_edit.ipynb Cell 73\u001b[0m in \u001b[0;36m<cell line: 1>\u001b[0;34m()\u001b[0m\n\u001b[0;32m----> <a href='vscode-notebook-cell://wsl%2Bubuntu-20.04/home/cao/projects/hmogp/data/lmc_edit.ipynb#Y236sdnNjb2RlLXJlbW90ZQ%3D%3D?line=0'>1</a>\u001b[0m model\u001b[39m.\u001b[39;49mvariational_strategy(train_x\u001b[39m.\u001b[39;49mcuda(), inducing_values\u001b[39m=\u001b[39;49mmodel\u001b[39m.\u001b[39;49mvariational_strategy\u001b[39m.\u001b[39;49mvariational_distribution\u001b[39m.\u001b[39;49mmean)\n",
      "\u001b[1;32m/home/cao/projects/hmogp/data/lmc_edit.ipynb Cell 73\u001b[0m in \u001b[0;36mLMCVariationalStrategy.__call__\u001b[0;34m(self, x, task_indices, prior, **kwargs)\u001b[0m\n\u001b[1;32m    <a href='vscode-notebook-cell://wsl%2Bubuntu-20.04/home/cao/projects/hmogp/data/lmc_edit.ipynb#Y236sdnNjb2RlLXJlbW90ZQ%3D%3D?line=140'>141</a>\u001b[0m \u001b[39mdef\u001b[39;00m \u001b[39m__call__\u001b[39m(\u001b[39mself\u001b[39m, x, task_indices\u001b[39m=\u001b[39m\u001b[39mNone\u001b[39;00m, prior\u001b[39m=\u001b[39m\u001b[39mFalse\u001b[39;00m, \u001b[39m*\u001b[39m\u001b[39m*\u001b[39mkwargs):\n\u001b[1;32m    <a href='vscode-notebook-cell://wsl%2Bubuntu-20.04/home/cao/projects/hmogp/data/lmc_edit.ipynb#Y236sdnNjb2RlLXJlbW90ZQ%3D%3D?line=141'>142</a>\u001b[0m     \u001b[39mr\u001b[39m\u001b[39m\"\"\"\u001b[39;00m\n\u001b[1;32m    <a href='vscode-notebook-cell://wsl%2Bubuntu-20.04/home/cao/projects/hmogp/data/lmc_edit.ipynb#Y236sdnNjb2RlLXJlbW90ZQ%3D%3D?line=142'>143</a>\u001b[0m \u001b[39m    Computes the variational (or prior) distribution\u001b[39;00m\n\u001b[1;32m    <a href='vscode-notebook-cell://wsl%2Bubuntu-20.04/home/cao/projects/hmogp/data/lmc_edit.ipynb#Y236sdnNjb2RlLXJlbW90ZQ%3D%3D?line=143'>144</a>\u001b[0m \u001b[39m    :math:`q( \\mathbf f \\mid \\mathbf X)` (or :math:`p( \\mathbf f \\mid \\mathbf X)`).\u001b[39;00m\n\u001b[0;32m   (...)\u001b[0m\n\u001b[1;32m    <a href='vscode-notebook-cell://wsl%2Bubuntu-20.04/home/cao/projects/hmogp/data/lmc_edit.ipynb#Y236sdnNjb2RlLXJlbW90ZQ%3D%3D?line=173'>174</a>\u001b[0m \u001b[39m        or ~gpytorch.distributions.MultivariateNormal (... x N)\u001b[39;00m\n\u001b[1;32m    <a href='vscode-notebook-cell://wsl%2Bubuntu-20.04/home/cao/projects/hmogp/data/lmc_edit.ipynb#Y236sdnNjb2RlLXJlbW90ZQ%3D%3D?line=174'>175</a>\u001b[0m \u001b[39m    \"\"\"\u001b[39;00m\n\u001b[0;32m--> <a href='vscode-notebook-cell://wsl%2Bubuntu-20.04/home/cao/projects/hmogp/data/lmc_edit.ipynb#Y236sdnNjb2RlLXJlbW90ZQ%3D%3D?line=175'>176</a>\u001b[0m     \u001b[39mself\u001b[39m\u001b[39m.\u001b[39mlatent_dist \u001b[39m=\u001b[39m \u001b[39mself\u001b[39;49m\u001b[39m.\u001b[39;49mbase_variational_strategy(x, prior\u001b[39m=\u001b[39;49mprior, \u001b[39m*\u001b[39;49m\u001b[39m*\u001b[39;49mkwargs)\n\u001b[1;32m    <a href='vscode-notebook-cell://wsl%2Bubuntu-20.04/home/cao/projects/hmogp/data/lmc_edit.ipynb#Y236sdnNjb2RlLXJlbW90ZQ%3D%3D?line=176'>177</a>\u001b[0m     num_batch \u001b[39m=\u001b[39m \u001b[39mlen\u001b[39m(\u001b[39mself\u001b[39m\u001b[39m.\u001b[39mlatent_dist\u001b[39m.\u001b[39mbatch_shape)\n\u001b[1;32m    <a href='vscode-notebook-cell://wsl%2Bubuntu-20.04/home/cao/projects/hmogp/data/lmc_edit.ipynb#Y236sdnNjb2RlLXJlbW90ZQ%3D%3D?line=177'>178</a>\u001b[0m     latent_dim \u001b[39m=\u001b[39m num_batch \u001b[39m+\u001b[39m \u001b[39mself\u001b[39m\u001b[39m.\u001b[39mlatent_dim\n",
      "File \u001b[0;32m~/miniconda3/envs/pytorch/lib/python3.9/site-packages/gpytorch/variational/variational_strategy.py:246\u001b[0m, in \u001b[0;36mVariationalStrategy.__call__\u001b[0;34m(self, x, prior, **kwargs)\u001b[0m\n\u001b[1;32m    243\u001b[0m         \u001b[39m# Mark that we have updated the variational strategy\u001b[39;00m\n\u001b[1;32m    244\u001b[0m         \u001b[39mself\u001b[39m\u001b[39m.\u001b[39mupdated_strategy\u001b[39m.\u001b[39mfill_(\u001b[39mTrue\u001b[39;00m)\n\u001b[0;32m--> 246\u001b[0m \u001b[39mreturn\u001b[39;00m \u001b[39msuper\u001b[39;49m()\u001b[39m.\u001b[39;49m\u001b[39m__call__\u001b[39;49m(x, prior\u001b[39m=\u001b[39;49mprior, \u001b[39m*\u001b[39;49m\u001b[39m*\u001b[39;49mkwargs)\n",
      "File \u001b[0;32m~/miniconda3/envs/pytorch/lib/python3.9/site-packages/gpytorch/variational/_variational_strategy.py:309\u001b[0m, in \u001b[0;36m_VariationalStrategy.__call__\u001b[0;34m(self, x, prior, **kwargs)\u001b[0m\n\u001b[1;32m    307\u001b[0m \u001b[39m# Get q(f)\u001b[39;00m\n\u001b[1;32m    308\u001b[0m \u001b[39mif\u001b[39;00m \u001b[39misinstance\u001b[39m(variational_dist_u, MultivariateNormal):\n\u001b[0;32m--> 309\u001b[0m     \u001b[39mreturn\u001b[39;00m \u001b[39msuper\u001b[39m()\u001b[39m.\u001b[39m\u001b[39m__call__\u001b[39m(\n\u001b[1;32m    310\u001b[0m         x,\n\u001b[1;32m    311\u001b[0m         inducing_points,\n\u001b[1;32m    312\u001b[0m         inducing_values\u001b[39m=\u001b[39mvariational_dist_u\u001b[39m.\u001b[39mmean,\n\u001b[1;32m    313\u001b[0m         variational_inducing_covar\u001b[39m=\u001b[39mvariational_dist_u\u001b[39m.\u001b[39mlazy_covariance_matrix,\n\u001b[1;32m    314\u001b[0m         \u001b[39m*\u001b[39m\u001b[39m*\u001b[39mkwargs,\n\u001b[1;32m    315\u001b[0m     )\n\u001b[1;32m    316\u001b[0m \u001b[39melif\u001b[39;00m \u001b[39misinstance\u001b[39m(variational_dist_u, Delta):\n\u001b[1;32m    317\u001b[0m     \u001b[39mreturn\u001b[39;00m \u001b[39msuper\u001b[39m()\u001b[39m.\u001b[39m\u001b[39m__call__\u001b[39m(\n\u001b[1;32m    318\u001b[0m         x, inducing_points, inducing_values\u001b[39m=\u001b[39mvariational_dist_u\u001b[39m.\u001b[39mmean, variational_inducing_covar\u001b[39m=\u001b[39m\u001b[39mNone\u001b[39;00m, \u001b[39m*\u001b[39m\u001b[39m*\u001b[39mkwargs\n\u001b[1;32m    319\u001b[0m     )\n",
      "\u001b[0;31mTypeError\u001b[0m: gpytorch.module.Module.__call__() got multiple values for keyword argument 'inducing_values'"
     ]
    }
   ],
   "source": [
    "model.variational_strategy(train_x.cuda(), inducing_values=model.variational_strategy.variational_distribution.mean)"
   ]
  },
  {
   "cell_type": "code",
   "execution_count": null,
   "metadata": {},
   "outputs": [],
   "source": []
  },
  {
   "cell_type": "code",
   "execution_count": null,
   "metadata": {},
   "outputs": [],
   "source": []
  },
  {
   "cell_type": "code",
   "execution_count": 674,
   "metadata": {},
   "outputs": [
    {
     "name": "stdout",
     "output_type": "stream",
     "text": [
      "kernel_modules.0.raw_lengthscale Parameter containing:\n",
      "tensor([[-1.0279, -1.2727]], device='cuda:0', requires_grad=True)\n",
      "kernel_modules.1.kernels.0.raw_lengthscale Parameter containing:\n",
      "tensor([[-3.1001]], device='cuda:0', requires_grad=True)\n",
      "kernel_modules.1.kernels.1.kernels.0.raw_lengthscale Parameter containing:\n",
      "tensor([[-3.2494,  7.7436]], device='cuda:0', requires_grad=True)\n",
      "kernel_modules.1.kernels.1.kernels.1.raw_lengthscale Parameter containing:\n",
      "tensor([[2.0656, 9.6590]], device='cuda:0', requires_grad=True)\n",
      "kernel_modules.1.kernels.1.kernels.1.raw_period_length Parameter containing:\n",
      "tensor([[2.3995, 9.3742]], device='cuda:0', requires_grad=True)\n"
     ]
    }
   ],
   "source": [
    "# additive(product(kernels))\n",
    "for n, p in model.covar_module.named_parameters():\n",
    "    print(n, p)"
   ]
  },
  {
   "cell_type": "code",
   "execution_count": 624,
   "metadata": {},
   "outputs": [
    {
     "name": "stdout",
     "output_type": "stream",
     "text": [
      "kernel_modules.0.raw_lengthscale Parameter containing:\n",
      "tensor([[-0.9088, -0.7308]], device='cuda:0', requires_grad=True)\n",
      "kernel_modules.1.kernels.0.raw_lengthscale Parameter containing:\n",
      "tensor([[1.2634]], device='cuda:0', requires_grad=True)\n",
      "kernel_modules.1.kernels.1.raw_lengthscale Parameter containing:\n",
      "tensor([[-1.2638,  0.9277]], device='cuda:0', requires_grad=True)\n",
      "kernel_modules.1.kernels.1.raw_period_length Parameter containing:\n",
      "tensor([[0.1018, 1.2464]], device='cuda:0', requires_grad=True)\n"
     ]
    }
   ],
   "source": [
    "# active_dims = [2] for kernel_modules.1.kernels.0.raw_lengthscale\n",
    "for n, p in model.covar_module.named_parameters():\n",
    "    print(n, p)"
   ]
  },
  {
   "cell_type": "code",
   "execution_count": 601,
   "metadata": {},
   "outputs": [
    {
     "name": "stdout",
     "output_type": "stream",
     "text": [
      "kernel_modules.0.raw_lengthscale Parameter containing:\n",
      "tensor([[-0.8014,  0.8889]], device='cuda:0', requires_grad=True)\n",
      "kernel_modules.1.kernels.0.raw_lengthscale Parameter containing:\n",
      "tensor([[3.9538, 4.0094]], device='cuda:0', requires_grad=True)\n",
      "kernel_modules.1.kernels.1.raw_lengthscale Parameter containing:\n",
      "tensor([[-1.9631,  0.1536]], device='cuda:0', requires_grad=True)\n",
      "kernel_modules.1.kernels.1.raw_period_length Parameter containing:\n",
      "tensor([[ 0.1112, -0.4233]], device='cuda:0', requires_grad=True)\n"
     ]
    }
   ],
   "source": [
    "# ard_num_dims = 2\n",
    "for n, p in model.covar_module.named_parameters():\n",
    "    print(n, p)"
   ]
  },
  {
   "cell_type": "code",
   "execution_count": 171,
   "metadata": {},
   "outputs": [
    {
     "name": "stdout",
     "output_type": "stream",
     "text": [
      "kernel_modules.0.raw_outputscale Parameter containing:\n",
      "tensor(-1.2919, device='cuda:0', requires_grad=True)\n",
      "kernel_modules.0.base_kernel.raw_lengthscale Parameter containing:\n",
      "tensor([[-1.0921]], device='cuda:0', requires_grad=True)\n",
      "kernel_modules.1.raw_outputscale Parameter containing:\n",
      "tensor(-0.9076, device='cuda:0', requires_grad=True)\n",
      "kernel_modules.1.base_kernel.raw_lengthscale Parameter containing:\n",
      "tensor([[-2.8909]], device='cuda:0', requires_grad=True)\n",
      "kernel_modules.1.base_kernel.raw_period_length Parameter containing:\n",
      "tensor([[2.7322]], device='cuda:0', requires_grad=True)\n"
     ]
    }
   ],
   "source": [
    "# ard_num_dims = 1\n",
    "\n",
    "for n, p in model.covar_module.named_parameters():\n",
    "    print(n, p)"
   ]
  },
  {
   "cell_type": "code",
   "execution_count": 305,
   "metadata": {},
   "outputs": [
    {
     "data": {
      "text/plain": [
       "tensor([[0.5366]], device='cuda:0', grad_fn=<SoftplusBackward0>)"
      ]
     },
     "execution_count": 305,
     "metadata": {},
     "output_type": "execute_result"
    }
   ],
   "source": [
    "model.covar_module.base_kernels[0].base_kernel.lengthscale"
   ]
  },
  {
   "cell_type": "code",
   "execution_count": 306,
   "metadata": {},
   "outputs": [
    {
     "data": {
      "text/plain": [
       "tensor([[0.4790]], device='cuda:0', grad_fn=<SoftplusBackward0>)"
      ]
     },
     "execution_count": 306,
     "metadata": {},
     "output_type": "execute_result"
    }
   ],
   "source": [
    "model.covar_module.base_kernels[1].base_kernel.lengthscale"
   ]
  },
  {
   "cell_type": "code",
   "execution_count": 307,
   "metadata": {},
   "outputs": [
    {
     "data": {
      "text/plain": [
       "tensor([[0.7506]], device='cuda:0', grad_fn=<SoftplusBackward0>)"
      ]
     },
     "execution_count": 307,
     "metadata": {},
     "output_type": "execute_result"
    }
   ],
   "source": [
    "model.covar_module.base_kernels[1].base_kernel.period_length"
   ]
  },
  {
   "cell_type": "code",
   "execution_count": 308,
   "metadata": {},
   "outputs": [
    {
     "name": "stdout",
     "output_type": "stream",
     "text": [
      "name: variational_strategy.lmc_coefficients\n",
      "parameter: Parameter containing:\n",
      "tensor([[ 1.0907, -0.5130,  0.9489, -0.0432, -0.0740, -0.1966],\n",
      "        [-0.0134,  0.1573, -0.0139,  0.8519,  0.8607,  0.0806]],\n",
      "       device='cuda:0', requires_grad=True)\n",
      "\n",
      "\n",
      "name: variational_strategy.base_variational_strategy.inducing_points\n",
      "parameter: Parameter containing:\n",
      "tensor([[-0.0752],\n",
      "        [-0.0793],\n",
      "        [ 0.0260],\n",
      "        [ 0.0257],\n",
      "        [ 0.0257],\n",
      "        [ 0.0261],\n",
      "        [-0.0772],\n",
      "        [-0.0773],\n",
      "        [-0.0774],\n",
      "        [-0.0775],\n",
      "        [ 0.0262],\n",
      "        [ 0.0279],\n",
      "        [ 0.0263],\n",
      "        [ 0.1749],\n",
      "        [-0.0775],\n",
      "        [ 0.0269],\n",
      "        [ 0.0284],\n",
      "        [ 0.0262],\n",
      "        [ 0.0264],\n",
      "        [ 0.0264],\n",
      "        [ 0.0275],\n",
      "        [ 0.0265],\n",
      "        [ 0.0273],\n",
      "        [ 0.0270],\n",
      "        [ 0.0271],\n",
      "        [ 0.0284],\n",
      "        [ 0.0305],\n",
      "        [ 0.0274],\n",
      "        [ 0.0279],\n",
      "        [ 0.0280],\n",
      "        [ 0.2491],\n",
      "        [ 0.0273],\n",
      "        [ 0.0272],\n",
      "        [ 0.1749],\n",
      "        [ 0.0271],\n",
      "        [ 0.0270],\n",
      "        [ 0.1748],\n",
      "        [ 0.1745],\n",
      "        [ 0.0271],\n",
      "        [ 0.1744],\n",
      "        [ 0.0270],\n",
      "        [ 0.0270],\n",
      "        [ 0.1744],\n",
      "        [ 0.1698],\n",
      "        [ 0.2485],\n",
      "        [ 0.1694],\n",
      "        [ 0.0270],\n",
      "        [ 0.1729],\n",
      "        [ 0.1729],\n",
      "        [ 0.1729],\n",
      "        [ 0.1730],\n",
      "        [ 0.2485],\n",
      "        [ 0.0270],\n",
      "        [ 0.2484],\n",
      "        [ 0.2485],\n",
      "        [ 0.0271],\n",
      "        [ 0.2486],\n",
      "        [ 0.2485],\n",
      "        [ 0.2487],\n",
      "        [ 0.2488],\n",
      "        [ 0.2488],\n",
      "        [ 0.2489],\n",
      "        [ 0.2490],\n",
      "        [ 0.2493],\n",
      "        [ 0.2489],\n",
      "        [ 0.2488],\n",
      "        [ 0.1730],\n",
      "        [ 0.2489],\n",
      "        [ 0.2490],\n",
      "        [ 0.2489],\n",
      "        [ 0.2491],\n",
      "        [ 0.2496],\n",
      "        [ 0.2489],\n",
      "        [ 0.2532],\n",
      "        [ 0.2493],\n",
      "        [ 0.1729],\n",
      "        [ 0.2492],\n",
      "        [ 0.2494],\n",
      "        [ 0.2492],\n",
      "        [ 0.2495],\n",
      "        [ 0.1729],\n",
      "        [ 0.2495],\n",
      "        [ 0.2499],\n",
      "        [ 0.1583],\n",
      "        [ 0.1710],\n",
      "        [ 0.2494],\n",
      "        [ 0.1711],\n",
      "        [ 0.2494],\n",
      "        [ 0.1704],\n",
      "        [ 0.1705],\n",
      "        [ 0.2493],\n",
      "        [ 0.1702],\n",
      "        [ 0.2494],\n",
      "        [ 0.2495],\n",
      "        [ 0.1695],\n",
      "        [ 0.1698],\n",
      "        [ 0.2494],\n",
      "        [ 0.1690],\n",
      "        [ 0.1696],\n",
      "        [ 0.1695],\n",
      "        [ 0.1692],\n",
      "        [ 0.1697],\n",
      "        [ 0.2494],\n",
      "        [ 0.2495],\n",
      "        [ 0.1702],\n",
      "        [ 0.2494],\n",
      "        [ 0.2495],\n",
      "        [ 0.1712],\n",
      "        [ 0.1702],\n",
      "        [ 0.2495],\n",
      "        [ 0.2495],\n",
      "        [ 0.1703],\n",
      "        [ 0.2494],\n",
      "        [ 0.1706],\n",
      "        [ 0.1703],\n",
      "        [ 0.2495],\n",
      "        [ 0.1703],\n",
      "        [ 0.1702],\n",
      "        [ 0.2496],\n",
      "        [ 0.1703],\n",
      "        [ 0.2629],\n",
      "        [ 0.2099],\n",
      "        [ 0.2110],\n",
      "        [ 0.2866],\n",
      "        [ 0.1703],\n",
      "        [ 0.1704],\n",
      "        [ 0.2437],\n",
      "        [ 0.1704],\n",
      "        [ 0.1704],\n",
      "        [ 0.1705],\n",
      "        [ 0.1704],\n",
      "        [ 0.2452],\n",
      "        [ 0.1704],\n",
      "        [ 0.2098],\n",
      "        [ 0.2431],\n",
      "        [ 0.4013],\n",
      "        [ 0.2458],\n",
      "        [ 0.2832],\n",
      "        [ 0.2466],\n",
      "        [ 0.2826],\n",
      "        [ 0.1707],\n",
      "        [ 0.2826],\n",
      "        [ 0.2469],\n",
      "        [ 0.2829],\n",
      "        [ 0.2457],\n",
      "        [ 0.2468],\n",
      "        [ 0.2832],\n",
      "        [ 0.2471],\n",
      "        [ 0.2475],\n",
      "        [ 0.2830],\n",
      "        [ 0.2467],\n",
      "        [ 0.2833],\n",
      "        [ 0.2830],\n",
      "        [ 0.2460],\n",
      "        [ 0.2474],\n",
      "        [ 0.2836],\n",
      "        [ 0.2837],\n",
      "        [ 0.2838],\n",
      "        [ 0.2473],\n",
      "        [ 0.2457],\n",
      "        [ 0.2447],\n",
      "        [ 0.2446],\n",
      "        [ 0.2470],\n",
      "        [ 0.2445],\n",
      "        [ 0.2453],\n",
      "        [ 0.5137],\n",
      "        [ 0.2850],\n",
      "        [ 0.4008],\n",
      "        [ 0.2462],\n",
      "        [ 0.2863],\n",
      "        [ 0.2859],\n",
      "        [ 0.4008],\n",
      "        [ 0.2861],\n",
      "        [ 0.4004],\n",
      "        [ 0.2861],\n",
      "        [ 0.4003],\n",
      "        [ 0.2490],\n",
      "        [ 0.2867],\n",
      "        [ 0.2868],\n",
      "        [ 0.5132],\n",
      "        [ 0.2865],\n",
      "        [ 0.4004],\n",
      "        [ 0.2864],\n",
      "        [ 0.2871],\n",
      "        [ 0.4005],\n",
      "        [ 0.2868],\n",
      "        [ 0.4004],\n",
      "        [ 0.4003],\n",
      "        [ 0.2488],\n",
      "        [ 0.2870],\n",
      "        [ 0.2074],\n",
      "        [ 0.2872],\n",
      "        [ 0.2080],\n",
      "        [ 0.2434],\n",
      "        [ 0.2874],\n",
      "        [ 0.2876],\n",
      "        [ 0.2876],\n",
      "        [ 0.7778],\n",
      "        [ 0.4004],\n",
      "        [ 0.2880],\n",
      "        [ 0.4002],\n",
      "        [ 0.5133],\n",
      "        [ 0.5133],\n",
      "        [ 0.2878],\n",
      "        [ 0.2881],\n",
      "        [ 0.4002],\n",
      "        [ 0.4002],\n",
      "        [ 0.5133],\n",
      "        [ 0.7776],\n",
      "        [ 0.6733],\n",
      "        [ 0.2878],\n",
      "        [ 0.6733],\n",
      "        [ 0.2882],\n",
      "        [ 0.6733],\n",
      "        [ 0.5133],\n",
      "        [ 0.2884],\n",
      "        [ 0.4002],\n",
      "        [ 0.5133],\n",
      "        [ 0.2886],\n",
      "        [ 0.2885],\n",
      "        [ 0.5133],\n",
      "        [ 0.5133],\n",
      "        [ 0.2888],\n",
      "        [ 0.4001],\n",
      "        [ 0.4000],\n",
      "        [ 0.4001],\n",
      "        [ 0.2887],\n",
      "        [ 0.2889],\n",
      "        [ 0.2888],\n",
      "        [ 0.7778],\n",
      "        [ 0.2461],\n",
      "        [ 0.4000],\n",
      "        [ 0.5134],\n",
      "        [ 0.4000],\n",
      "        [ 0.2461],\n",
      "        [ 0.2465],\n",
      "        [ 0.2890],\n",
      "        [ 0.2891],\n",
      "        [ 0.7778],\n",
      "        [ 0.7777],\n",
      "        [ 0.3999],\n",
      "        [ 0.2463],\n",
      "        [ 0.4000],\n",
      "        [ 0.2893],\n",
      "        [ 0.4000],\n",
      "        [ 0.7780],\n",
      "        [ 0.4000],\n",
      "        [ 0.7779],\n",
      "        [ 0.7777],\n",
      "        [ 0.3998],\n",
      "        [ 0.7779],\n",
      "        [ 0.3998],\n",
      "        [ 0.5133],\n",
      "        [ 0.3999],\n",
      "        [ 0.3998],\n",
      "        [ 0.5133],\n",
      "        [ 0.3997],\n",
      "        [ 0.5134],\n",
      "        [ 0.3997],\n",
      "        [ 0.3997],\n",
      "        [ 0.3997],\n",
      "        [ 0.3997],\n",
      "        [ 0.2893],\n",
      "        [ 0.7779],\n",
      "        [ 0.6732],\n",
      "        [ 0.2894],\n",
      "        [ 0.5134],\n",
      "        [ 0.2896],\n",
      "        [ 0.2895],\n",
      "        [ 0.6732],\n",
      "        [ 0.2896],\n",
      "        [ 0.5134],\n",
      "        [ 0.3996],\n",
      "        [ 0.7779],\n",
      "        [ 0.3997],\n",
      "        [ 0.2897],\n",
      "        [ 0.3996],\n",
      "        [ 0.5134],\n",
      "        [ 0.7779],\n",
      "        [ 0.3997],\n",
      "        [ 0.3997],\n",
      "        [ 0.7779],\n",
      "        [ 0.6732],\n",
      "        [ 0.3996],\n",
      "        [ 0.3996],\n",
      "        [ 0.3995],\n",
      "        [ 0.7780],\n",
      "        [ 0.3995],\n",
      "        [ 0.2897],\n",
      "        [ 0.3995],\n",
      "        [ 0.7780],\n",
      "        [ 0.5134],\n",
      "        [ 0.5134],\n",
      "        [ 0.3996],\n",
      "        [ 0.7780],\n",
      "        [ 0.2898],\n",
      "        [ 0.2899],\n",
      "        [ 0.3995],\n",
      "        [ 0.6731],\n",
      "        [ 0.3995],\n",
      "        [ 0.2902],\n",
      "        [ 0.5134],\n",
      "        [ 0.3994],\n",
      "        [ 0.3994],\n",
      "        [ 0.3994],\n",
      "        [ 0.5135],\n",
      "        [ 0.3994],\n",
      "        [ 0.3994],\n",
      "        [ 0.6730],\n",
      "        [ 0.3993],\n",
      "        [ 0.7779],\n",
      "        [ 0.3993],\n",
      "        [ 0.5135],\n",
      "        [ 0.3993],\n",
      "        [ 0.3993],\n",
      "        [ 0.3992],\n",
      "        [ 0.3992],\n",
      "        [ 0.5208],\n",
      "        [ 0.3975],\n",
      "        [ 0.7782],\n",
      "        [ 0.3974],\n",
      "        [ 0.3972],\n",
      "        [ 0.9175],\n",
      "        [ 0.9178],\n",
      "        [ 0.9174],\n",
      "        [ 0.3969],\n",
      "        [ 0.3969],\n",
      "        [ 0.3965],\n",
      "        [ 0.9182],\n",
      "        [ 0.3964],\n",
      "        [ 0.3961],\n",
      "        [ 0.3955],\n",
      "        [ 0.3955],\n",
      "        [ 0.3957],\n",
      "        [ 0.3952],\n",
      "        [ 0.9181],\n",
      "        [ 0.3949],\n",
      "        [ 0.3942],\n",
      "        [ 0.9179],\n",
      "        [ 0.9184],\n",
      "        [ 0.9644],\n",
      "        [ 0.9191],\n",
      "        [ 0.3945],\n",
      "        [ 0.9172],\n",
      "        [ 0.9647],\n",
      "        [ 0.9645],\n",
      "        [ 0.3940],\n",
      "        [ 0.9645],\n",
      "        [ 0.9647],\n",
      "        [ 0.9184],\n",
      "        [ 0.5525],\n",
      "        [ 0.9650],\n",
      "        [ 0.9178],\n",
      "        [ 0.9651],\n",
      "        [ 0.5566],\n",
      "        [ 0.9652],\n",
      "        [ 0.9178],\n",
      "        [ 0.9643],\n",
      "        [ 0.7780],\n",
      "        [ 0.9181],\n",
      "        [ 0.9654],\n",
      "        [ 0.9180],\n",
      "        [ 0.9179],\n",
      "        [ 0.2914],\n",
      "        [ 0.3957],\n",
      "        [ 0.5590],\n",
      "        [ 0.9657],\n",
      "        [ 0.9178],\n",
      "        [ 0.9177],\n",
      "        [ 0.9177],\n",
      "        [ 0.9175],\n",
      "        [ 0.9175],\n",
      "        [ 0.9170],\n",
      "        [ 0.9170],\n",
      "        [ 0.9172],\n",
      "        [ 0.9174],\n",
      "        [ 0.9169],\n",
      "        [ 0.8086],\n",
      "        [ 0.9143],\n",
      "        [ 0.8114],\n",
      "        [ 0.9138],\n",
      "        [ 0.8122],\n",
      "        [ 0.8125],\n",
      "        [ 0.8136],\n",
      "        [ 0.8135],\n",
      "        [ 0.8145],\n",
      "        [ 0.9140],\n",
      "        [ 0.9137],\n",
      "        [ 0.8144],\n",
      "        [ 0.9138],\n",
      "        [ 0.9135],\n",
      "        [ 0.6645],\n",
      "        [ 0.9131],\n",
      "        [ 0.9129],\n",
      "        [ 0.6623],\n",
      "        [ 0.6602],\n",
      "        [ 0.6577],\n",
      "        [ 0.6552],\n",
      "        [ 0.6537],\n",
      "        [ 0.6516],\n",
      "        [ 0.6493],\n",
      "        [ 0.6478],\n",
      "        [ 0.5630],\n",
      "        [ 0.5649],\n",
      "        [ 0.5664],\n",
      "        [ 0.5682],\n",
      "        [ 0.6440],\n",
      "        [ 0.5702],\n",
      "        [ 0.5718],\n",
      "        [ 0.6395],\n",
      "        [ 0.6372],\n",
      "        [ 0.6351],\n",
      "        [ 0.5750],\n",
      "        [ 0.6314],\n",
      "        [ 0.5783],\n",
      "        [ 0.6278],\n",
      "        [ 0.6249],\n",
      "        [ 0.5859],\n",
      "        [ 0.6168],\n",
      "        [ 1.0009],\n",
      "        [ 0.5986],\n",
      "        [ 0.6022],\n",
      "        [ 1.1452],\n",
      "        [ 1.1451],\n",
      "        [ 1.0452],\n",
      "        [ 1.0459],\n",
      "        [ 0.6027],\n",
      "        [ 0.6032],\n",
      "        [ 0.9121],\n",
      "        [ 1.1443],\n",
      "        [ 1.1445],\n",
      "        [ 1.1439],\n",
      "        [ 1.1436],\n",
      "        [ 1.1433],\n",
      "        [ 0.9113],\n",
      "        [ 0.9109],\n",
      "        [ 1.0467],\n",
      "        [ 0.9109],\n",
      "        [ 0.9102],\n",
      "        [ 0.9095],\n",
      "        [ 0.9090],\n",
      "        [ 0.8175],\n",
      "        [ 0.9089],\n",
      "        [ 0.9083],\n",
      "        [ 0.9081],\n",
      "        [ 0.9076],\n",
      "        [ 0.8188],\n",
      "        [ 0.9070],\n",
      "        [ 0.6028],\n",
      "        [ 0.9066],\n",
      "        [ 0.9059],\n",
      "        [ 0.9052],\n",
      "        [ 0.9037],\n",
      "        [ 0.9037],\n",
      "        [ 0.9024],\n",
      "        [ 0.9013],\n",
      "        [ 0.9012],\n",
      "        [ 0.9001],\n",
      "        [ 0.8215],\n",
      "        [ 0.9000],\n",
      "        [ 0.8986],\n",
      "        [ 0.8984],\n",
      "        [ 0.8975],\n",
      "        [ 0.8967],\n",
      "        [ 0.8916],\n",
      "        [ 0.8894],\n",
      "        [ 0.8905],\n",
      "        [ 0.8889],\n",
      "        [ 0.8824],\n",
      "        [ 0.8783],\n",
      "        [ 0.8785],\n",
      "        [ 0.8388],\n",
      "        [ 0.8397],\n",
      "        [ 0.8457],\n",
      "        [ 0.8508],\n",
      "        [ 0.8512],\n",
      "        [ 0.8512],\n",
      "        [ 0.8512],\n",
      "        [ 1.1401],\n",
      "        [ 0.8512],\n",
      "        [ 1.1389],\n",
      "        [ 1.1379],\n",
      "        [ 0.8512],\n",
      "        [ 1.1357],\n",
      "        [ 0.8512],\n",
      "        [ 0.8512],\n",
      "        [ 1.1332],\n",
      "        [ 1.1311],\n",
      "        [ 1.1280],\n",
      "        [ 1.1269],\n",
      "        [ 1.1204],\n",
      "        [ 1.1162],\n",
      "        [ 1.1097],\n",
      "        [ 1.1034],\n",
      "        [ 1.1022],\n",
      "        [ 1.1020],\n",
      "        [ 1.1012],\n",
      "        [ 1.1012],\n",
      "        [ 1.1012],\n",
      "        [ 1.1012]], device='cuda:0', requires_grad=True)\n",
      "\n",
      "\n",
      "name: variational_strategy.base_variational_strategy._variational_distribution.variational_mean\n",
      "parameter: Parameter containing:\n",
      "tensor([[-0.8710, -0.1359,  0.2033,  0.2831,  0.3191,  0.3501, -0.4594, -0.3911,\n",
      "         -0.2524, -0.3078,  0.3941,  0.3810,  0.3279,  0.9047,  0.2684, -0.4299,\n",
      "         -0.7585, -0.6203, -0.6064, -0.5895, -0.4151, -0.5419, -0.5319, -0.5176,\n",
      "         -0.4494, -0.4275, -0.3303, -0.4167, -0.2858, -0.1274,  0.8823, -0.2753,\n",
      "         -0.4025,  0.5301, -0.4570, -0.4614,  0.4524,  0.4498, -0.4360,  0.4083,\n",
      "         -0.4160, -0.4109,  0.3698,  0.2747,  0.8266,  0.0777, -0.3852,  0.1061,\n",
      "          0.1155,  0.0579,  0.1190,  0.8193, -0.3749,  0.8081,  0.7486, -0.3551,\n",
      "          0.6821,  0.6999,  0.6417,  0.6173,  0.5868,  0.5623,  0.5708,  0.5314,\n",
      "          0.5165,  0.4976, -0.5021,  0.4827,  0.4698,  0.4772,  0.4505,  0.4503,\n",
      "          0.4339,  0.4703,  0.3999, -0.5798,  0.3909,  0.3949,  0.4016,  0.3889,\n",
      "         -0.5816,  0.3763,  0.3627, -0.6279, -0.5529,  0.3504, -0.5801,  0.3613,\n",
      "         -0.5723, -0.5700,  0.3582, -0.5475,  0.3482,  0.3213, -0.5751, -0.5455,\n",
      "          0.3433, -0.5518, -0.5531, -0.5166, -0.5229, -0.5273,  0.3522,  0.3553,\n",
      "         -0.5142,  0.3428,  0.3337, -0.4686, -0.4976,  0.3176,  0.3506, -0.4934,\n",
      "          0.3144, -0.4830, -0.4802,  0.3522, -0.4710, -0.4584,  0.3457, -0.4599,\n",
      "          0.4958,  0.1443,  0.1458,  0.6348, -0.4470, -0.4043,  0.2249, -0.4770,\n",
      "         -0.4370, -0.4085, -0.4074,  0.2452, -0.4063,  0.1228,  0.2531,  0.6508,\n",
      "          0.1583,  0.4040,  0.0775,  0.3876, -0.2522,  0.3802,  0.0649,  0.3815,\n",
      "          0.1578,  0.0458,  0.3515,  0.0721,  0.0849,  0.3222,  0.0471,  0.2836,\n",
      "          0.3333,  0.1163,  0.0628,  0.3318,  0.3478,  0.3046,  0.0727,  0.1113,\n",
      "          0.0873,  0.0820,  0.0524,  0.1079,  0.0925,  0.3391,  0.2432,  0.6382,\n",
      "          0.0146,  0.2888,  0.2523,  0.6102,  0.2241,  0.5657,  0.2172,  0.5401,\n",
      "          0.0222,  0.2260,  0.2232,  0.0774,  0.2318,  0.5533,  0.1985,  0.1624,\n",
      "          0.5174,  0.1816,  0.4839,  0.4820,  0.0061,  0.1452, -0.1572,  0.1925,\n",
      "         -0.0962, -0.0294,  0.1799,  0.1740,  0.1278, -0.6741,  0.8101,  0.0592,\n",
      "          0.7698,  1.1240,  1.0143,  0.0422,  0.0387,  0.6572,  0.6076,  0.9584,\n",
      "         -0.6251,  0.4108, -0.0335,  0.3676, -0.0309,  0.3044,  0.9891, -0.0390,\n",
      "          0.5326,  0.9058, -0.0316, -0.0121,  0.8883,  0.8701, -0.0367,  0.4201,\n",
      "          0.4876,  0.4593, -0.0405, -0.0536, -0.0405, -0.7451, -0.1583,  0.3346,\n",
      "          0.8164,  0.3286, -0.1642, -0.1320, -0.0474, -0.0707, -0.7337, -0.6567,\n",
      "          0.3447, -0.1471,  0.3537, -0.0680,  0.3122, -0.6319,  0.3132, -0.5844,\n",
      "         -0.5358,  0.3004, -0.5081,  0.3425,  0.7436,  0.2738,  0.3022,  0.7235,\n",
      "          0.3015,  0.7031,  0.2511,  0.2415,  0.2174,  0.2409, -0.1056, -0.4704,\n",
      "          0.6817, -0.1045,  0.6542, -0.1029, -0.1121,  0.5995, -0.1226,  0.6382,\n",
      "          0.2099, -0.5205,  0.2055, -0.1207,  0.1603,  0.6312, -0.4722,  0.1516,\n",
      "          0.1895, -0.4358,  0.5732,  0.1635,  0.1732,  0.1507, -0.4750,  0.1773,\n",
      "         -0.1251,  0.1319, -0.4155,  0.5794,  0.5673,  0.1487, -0.4070, -0.0973,\n",
      "         -0.1041,  0.1624,  0.5729,  0.1310, -0.1225,  0.5161,  0.1523,  0.1245,\n",
      "          0.1207,  0.5258,  0.0848,  0.1226,  0.5365,  0.0509, -0.4075,  0.0769,\n",
      "          0.5154,  0.1031,  0.1054,  0.0940,  0.1043,  0.4895,  0.1188, -0.4258,\n",
      "          0.0469,  0.0829, -1.4834, -1.2695, -1.0830,  0.0248,  0.0330, -0.0191,\n",
      "         -1.0095,  0.0338,  0.0147,  0.0185,  0.0080,  0.0100,  0.0158, -0.8345,\n",
      "         -0.0123,  0.0252, -0.7634, -0.6892, -0.9861, -0.5426, -0.0128, -0.4227,\n",
      "         -0.8207, -0.7748,  0.0279, -0.6429, -0.5746, -0.2687,  0.1743, -0.5153,\n",
      "         -0.1945, -0.4615,  0.1856, -0.4488, -0.1627, -0.3951,  0.2599, -0.1249,\n",
      "         -0.3713, -0.1221, -0.0986, -0.0700,  0.0188,  0.1891, -0.3611, -0.1063,\n",
      "         -0.0877, -0.0611, -0.0770, -0.0588, -0.0909, -0.1060, -0.0674, -0.0585,\n",
      "         -0.0192,  0.2087, -0.0694,  0.2315, -0.0352,  0.2193,  0.2033,  0.1938,\n",
      "          0.1865,  0.2305, -0.0542, -0.0417,  0.2102, -0.0903, -0.0690,  0.2812,\n",
      "         -0.0667, -0.0824,  0.3065,  0.2287,  0.2751,  0.2432,  0.2375,  0.2341,\n",
      "          0.2649,  0.2157,  0.1391,  0.1412,  0.1181,  0.1460,  0.2307,  0.1550,\n",
      "          0.1384,  0.1985,  0.2020,  0.1941,  0.1673,  0.2125,  0.1463,  0.1964,\n",
      "          0.1871,  0.1723,  0.1268, -0.3281,  0.1535,  0.1507, -0.6603, -0.5147,\n",
      "         -0.2578, -0.2248,  0.1003,  0.1243, -0.0596, -0.2564, -0.2246, -0.2099,\n",
      "         -0.1606, -0.1541, -0.0052, -0.0227, -0.1637, -0.0036, -0.0319, -0.0103,\n",
      "         -0.0601,  0.0828, -0.0414, -0.0359,  0.0075, -0.0033,  0.0551,  0.0020,\n",
      "          0.1379, -0.0159, -0.0062, -0.0048,  0.0109, -0.0305, -0.0340, -0.0184,\n",
      "         -0.0215,  0.0200,  0.0859, -0.0589, -0.0134, -0.0269, -0.0029, -0.0154,\n",
      "          0.0157, -0.0102, -0.0141, -0.0269,  0.0204, -0.0305,  0.0292,  0.0731,\n",
      "          0.0987,  0.0424,  0.0515,  0.0063,  0.0317,  0.0296, -0.1419,  0.0275,\n",
      "         -0.1240, -0.1143,  0.0288, -0.1294,  0.0272,  0.0478, -0.1169, -0.1056,\n",
      "         -0.0645, -0.0472, -0.0890, -0.1106, -0.1011, -0.0924, -0.1106, -0.0702,\n",
      "         -0.0859, -0.1054, -0.1054, -0.0581],\n",
      "        [ 0.4234,  1.0267,  0.9179,  0.0988,  0.3578,  0.6411, -0.0259,  0.3218,\n",
      "          0.4029,  0.6189,  0.6752,  0.7373,  0.5409,  0.1153,  0.6266,  0.6992,\n",
      "          0.6807, -0.5227, -0.3843, -0.3011,  0.6905, -0.2880,  0.6585,  0.6000,\n",
      "          0.6263,  0.6988,  0.7556,  0.5898,  0.6623,  0.7038, -0.2087,  0.4958,\n",
      "          0.3220,  0.1757,  0.0077, -0.1716,  0.3299,  0.6153,  0.2322,  0.6049,\n",
      "         -0.1048, -0.1446,  0.6114,  0.9128, -0.1397,  0.8327, -0.0798,  0.6552,\n",
      "          0.5405,  0.5414,  0.4544, -0.0246, -0.1434, -0.1462,  0.0103,  0.1882,\n",
      "          0.3461,  0.0746,  0.4267,  0.5830,  0.4877,  0.5352,  0.6296,  0.6758,\n",
      "          0.5476,  0.4465,  0.5542,  0.4789,  0.5763,  0.5073,  0.6206,  0.6813,\n",
      "          0.4910,  0.7828,  0.5419,  0.5566,  0.4511,  0.6099,  0.4049,  0.6037,\n",
      "          0.5097,  0.6023,  0.6252,  0.9511,  0.5437,  0.5778,  0.5396,  0.6133,\n",
      "          0.5947,  0.5850,  0.5015,  0.6183,  0.5654,  0.5937,  0.6435,  0.6323,\n",
      "          0.6050,  0.6707,  0.6415,  0.6479,  0.6598,  0.6192,  0.5725,  0.6238,\n",
      "          0.5137,  0.5202,  0.5952,  0.0276,  0.5121,  0.6199,  0.6372,  0.4579,\n",
      "          0.4442,  0.3568,  0.4250,  0.6081,  0.4462,  0.4588,  0.6597,  0.4027,\n",
      "          0.8330,  0.5641,  0.5772,  0.8246,  0.2118,  0.1855,  0.5998,  0.1725,\n",
      "          0.1534,  0.1230,  0.1651,  0.5359,  0.1350,  0.6355,  0.5924,  0.3621,\n",
      "          0.3507,  0.4903,  0.2597,  0.4709,  0.0169,  0.4789,  0.2272,  0.4742,\n",
      "          0.4036,  0.2373,  0.4919,  0.2052,  0.1447,  0.4354,  0.2471,  0.4453,\n",
      "          0.3843,  0.3642,  0.1424,  0.4802,  0.4798,  0.4948,  0.1628,  0.3914,\n",
      "          0.4864,  0.4853,  0.1830,  0.4985,  0.4088, -0.0869,  0.5145,  0.3023,\n",
      "          0.1833,  0.6918,  0.5816,  0.2321,  0.6131,  0.5764,  0.5759,  0.5811,\n",
      "         -0.1245,  0.6504,  0.6399, -0.1365,  0.5516,  0.4101,  0.5362,  0.6508,\n",
      "          0.1804,  0.5571,  0.3843,  0.4680, -0.0959,  0.5710, -0.0805,  0.5898,\n",
      "         -0.0508,  0.4644,  0.6265,  0.6251,  0.5982,  0.1000,  0.3188,  0.6746,\n",
      "          0.5059, -0.0183,  0.1124,  0.6159,  0.6357,  0.4522,  0.4374,  0.1939,\n",
      "         -0.3897,  0.3881,  0.5588,  0.3618,  0.6337,  0.3169,  0.2729,  0.6296,\n",
      "          0.4417,  0.2385,  0.6557,  0.6380,  0.2169,  0.1812,  0.6581,  0.4852,\n",
      "          0.5219,  0.4433,  0.6503,  0.6566,  0.6004,  0.3201,  0.2148,  0.5412,\n",
      "          0.4233,  0.5478,  0.2075,  0.1655,  0.6344,  0.6195,  0.0778,  0.0678,\n",
      "          0.5995,  0.1898,  0.5138,  0.6459,  0.4249,  0.5666,  0.4309,  0.3489,\n",
      "         -0.0554,  0.6357,  0.4616,  0.5750,  0.2892,  0.5168,  0.6020,  0.1932,\n",
      "          0.5855,  0.4045,  0.5913,  0.6004,  0.5640,  0.5813,  0.6188,  0.5295,\n",
      "          0.4522,  0.6357,  0.4795,  0.6496,  0.6089,  0.4895,  0.6224,  0.4443,\n",
      "          0.6253,  0.4589,  0.5804,  0.6255,  0.5934,  0.5903,  0.4823,  0.5363,\n",
      "          0.5331,  0.4947,  0.5667,  0.5991,  0.5898,  0.6159,  0.5810,  0.6063,\n",
      "          0.5878,  0.6249,  0.5279,  0.5493,  0.5538,  0.5484,  0.4870,  0.5737,\n",
      "          0.5809,  0.6091,  0.6508,  0.6143,  0.6188,  0.6741,  0.6734,  0.6589,\n",
      "          0.6392,  0.8452,  0.6585,  0.6332,  0.7769,  0.6633,  0.4154,  0.6662,\n",
      "          0.9322,  0.6465,  0.6627,  0.6819,  0.7004,  1.2943,  0.7827,  0.7711,\n",
      "          0.7581,  0.7687,  0.9864,  0.9621,  0.9975,  0.7581,  0.7479,  0.7634,\n",
      "          0.8643,  0.7660,  0.7791,  0.7893,  0.7660,  0.7317,  0.7399,  0.9241,\n",
      "          0.7406,  0.7577,  0.9093,  0.8281,  0.1316,  0.6058,  0.7162,  1.0260,\n",
      "          0.1478,  0.1190,  0.7046,  0.0963,  0.1082,  0.7514,  1.3856,  0.1385,\n",
      "          0.8666,  0.1402,  1.1133,  0.1414,  0.8879,  0.0594,  0.6937,  0.7892,\n",
      "          0.1590,  0.7939,  0.8342,  0.5238,  0.5108,  1.2468,  0.1766,  0.8308,\n",
      "          0.8277,  0.8545,  0.8412,  0.8297,  0.9420,  0.9034,  0.8795,  0.8267,\n",
      "          0.9087,  1.0654,  0.8611,  0.9266,  0.8827,  0.8456,  0.7625,  0.8437,\n",
      "          0.6992,  0.7952,  0.7436,  0.7427,  0.7023,  0.7224,  0.7220,  1.0936,\n",
      "          0.7084,  0.7046,  1.0961,  1.0673,  1.0745,  1.0755,  1.0024,  1.0199,\n",
      "          1.0663,  1.0311,  1.0687,  1.0670,  1.0549,  1.0990,  1.0323,  1.1052,\n",
      "          1.1171,  1.1303,  1.1187,  1.0998,  1.0131,  1.1187,  1.0190,  1.0793,\n",
      "          1.0646,  1.0490,  1.0787, -0.1045,  1.0887,  1.0506,  0.7884,  0.7319,\n",
      "          0.6562,  0.6867,  0.9865,  0.9500,  0.6734,  0.7995,  0.7419,  0.7847,\n",
      "          0.7660,  0.7455,  0.7342,  0.7367,  0.6423,  0.7266,  0.7614,  0.8002,\n",
      "          0.7956,  0.8004,  0.7375,  0.7659,  0.7412,  0.7621,  0.8096,  0.7507,\n",
      "          0.7886,  0.7423,  0.7599,  0.7743,  0.8325,  0.7749,  0.8196,  0.8306,\n",
      "          0.7971,  0.8137,  0.8100,  0.7356,  0.7640,  0.7190,  0.7151,  0.7159,\n",
      "          0.9306,  0.9319,  0.7868,  0.7843,  0.9850,  0.9982,  0.8559,  1.0331,\n",
      "          0.8887,  0.9207,  0.9164,  0.8984,  0.8824,  0.7949,  0.8334,  0.7304,\n",
      "          0.8397,  0.8100,  0.6627,  0.8382,  0.5887,  0.5506,  0.8485,  0.8365,\n",
      "          0.8237,  0.7330,  0.8179,  0.7656,  0.7418,  0.6857,  0.5554,  0.5379,\n",
      "          0.4716,  0.4097,  0.3732,  0.3715]], device='cuda:0',\n",
      "       requires_grad=True)\n",
      "\n",
      "\n",
      "name: variational_strategy.base_variational_strategy._variational_distribution._variational_stddev\n",
      "parameter: Parameter containing:\n",
      "tensor([[-0.0293,  0.2215,  0.0314,  0.1563,  0.2501,  0.3157,  0.2840,  0.3748,\n",
      "          0.4108,  0.5137,  0.3779,  0.4054,  0.5088,  0.0385,  0.5893,  0.3679,\n",
      "          0.4055,  0.4365,  0.4701,  0.4977,  0.5252,  0.5467,  0.5750,  0.6028,\n",
      "          0.6209,  0.6511,  0.6807,  0.6781,  0.6910,  0.7303,  0.0600,  0.7362,\n",
      "          0.7565,  0.4516,  0.7673,  0.7771,  0.5480,  0.6541,  0.7693,  0.7184,\n",
      "          0.7868,  0.7707,  0.7608,  0.8753,  0.1496,  0.8697,  0.8263,  0.9092,\n",
      "          0.9497,  0.9447,  0.9474,  0.1877,  0.8669,  0.2260,  0.2609,  0.9077,\n",
      "          0.2958,  0.3333,  0.3639,  0.3921,  0.4227,  0.4470,  0.4766,  0.4937,\n",
      "          0.5291,  0.5554,  0.4938,  0.5622,  0.5787,  0.6004,  0.6167,  0.6227,\n",
      "          0.6517,  0.5731,  0.6800,  0.4733,  0.6853,  0.6979,  0.7137,  0.7195,\n",
      "          0.4741,  0.7173,  0.7301,  0.4658,  0.4973,  0.7433,  0.5023,  0.7445,\n",
      "          0.5118,  0.5244,  0.7449,  0.5331,  0.7510,  0.7530,  0.5450,  0.5445,\n",
      "          0.7618,  0.5595,  0.5708,  0.5844,  0.5827,  0.5935,  0.7549,  0.7587,\n",
      "          0.6016,  0.7702,  0.7829,  0.6111,  0.6214,  0.7665,  0.7777,  0.6244,\n",
      "          0.7992,  0.6294,  0.6390,  0.7873,  0.6429,  0.6546,  0.7717,  0.6593,\n",
      "          0.5499,  0.8766,  0.8918,  0.3145,  0.6869,  0.6806,  0.9437,  0.7007,\n",
      "          0.7006,  0.7062,  0.7134,  0.9195,  0.7100,  0.8947,  0.9486,  0.0774,\n",
      "          0.9835,  0.7981,  0.9976,  0.8118,  0.9214,  0.8228,  0.9971,  0.8285,\n",
      "          0.9821,  1.0037,  0.8134,  0.9931,  1.0230,  0.8425,  0.9913,  0.8303,\n",
      "          0.8321,  0.9872,  0.9856,  0.8469,  0.8426,  0.8571,  0.9803,  0.9976,\n",
      "          0.9923,  0.9788,  0.9985,  0.9938,  1.0064,  0.0742,  0.9695,  0.6493,\n",
      "          0.9808,  0.9780,  0.9603,  0.6922,  0.9294,  0.7241,  0.9652,  0.7504,\n",
      "          0.9908,  0.9629,  0.9730,  0.2020,  0.9572,  0.9393,  0.9264,  0.9547,\n",
      "          0.9448,  0.9528,  0.9304,  0.9511,  0.9688,  0.9529,  0.9706,  0.9614,\n",
      "          0.9935,  1.0320,  0.9677,  0.9620,  0.9547,  0.0938,  0.9741,  1.0154,\n",
      "          0.9844,  0.8878,  0.9136,  0.9873,  1.0145,  0.9986,  0.9857,  0.9613,\n",
      "          0.4195,  0.8867,  0.9991,  0.9065,  0.9976,  0.9237,  0.9620,  0.9884,\n",
      "          1.0077,  0.9495,  1.0148,  0.9893,  0.9355,  0.9887,  0.9822,  0.9937,\n",
      "          0.9755,  0.9696,  1.0010,  1.0061,  1.0009,  0.6291,  1.0014,  0.9899,\n",
      "          0.9935,  0.9883,  0.9938,  0.9959,  1.0090,  0.9758,  0.7298,  0.8068,\n",
      "          0.9870,  0.9973,  1.0083,  0.9822,  1.0037,  0.8408,  1.0234,  0.8671,\n",
      "          0.9003,  0.9986,  0.9322,  0.9939,  0.9541,  0.9843,  1.0148,  1.0228,\n",
      "          0.9810,  0.9475,  0.9881,  1.0056,  0.9896,  1.0083,  1.0099,  0.9378,\n",
      "          0.9926,  0.9815,  0.9789,  0.9806,  1.0136,  1.0057,  0.9935,  0.9723,\n",
      "          1.0102,  0.9387,  0.9999,  0.9997,  0.9822,  1.0063,  0.9622,  0.9810,\n",
      "          1.0161,  0.9721,  0.9946,  0.9797,  0.9847,  1.0127,  0.9688,  0.9954,\n",
      "          1.0131,  1.0035,  0.9818,  1.0021,  0.9992,  1.0109,  0.9781,  0.9919,\n",
      "          0.9878,  1.0157,  0.9954,  0.9905,  1.0051,  0.9690,  1.0070,  0.9950,\n",
      "          1.0110,  0.9925,  0.9993,  0.9868,  0.9954,  0.9980,  0.9638,  1.0015,\n",
      "          1.0062,  1.0026,  1.0248,  0.9849,  1.0006,  0.9922,  1.0067,  0.9777,\n",
      "          0.9954,  1.0032,  0.6279,  0.8117,  0.8965,  1.0172,  1.0027,  0.9836,\n",
      "          0.9388,  1.0061,  1.0197,  1.0104,  1.0061,  1.0028,  1.0104,  0.9506,\n",
      "          0.9916,  1.0231,  0.9384,  0.9828,  0.9549,  0.9638,  0.9977,  0.9550,\n",
      "          0.9970,  1.0043,  1.0030,  0.9799,  0.9817,  0.9969,  0.9866,  0.9867,\n",
      "          1.0230,  0.9878,  0.9880,  0.9824,  0.9930,  1.0101,  1.0001,  1.0127,\n",
      "          1.0048,  0.9969,  1.0247,  0.9998,  1.0008,  0.9984,  1.0117,  0.9842,\n",
      "          0.9938,  0.9821,  1.0019,  1.0290,  1.0151,  0.9936,  0.9991,  1.0069,\n",
      "          0.9987,  0.9740,  0.9902,  0.9956,  1.0128,  1.0077,  0.9890,  0.9844,\n",
      "          0.9912,  0.9799,  0.9970,  0.9927,  1.0007,  1.0152,  1.0044,  0.9918,\n",
      "          0.9948,  0.9889,  0.9994,  0.9998,  1.0099,  0.9959,  1.0072,  0.9982,\n",
      "          0.9857,  1.0012,  1.0029,  1.0021,  0.9906,  1.0233,  0.9784,  1.0107,\n",
      "          0.9963,  1.0033,  1.0110,  0.9836,  1.0133,  0.9806,  0.9992,  1.0058,\n",
      "          1.0081,  1.0033,  1.0160,  0.9992,  1.0160,  0.9857,  0.9837,  0.9886,\n",
      "          1.0118,  0.9952,  0.9992,  1.0211,  1.0074,  1.0004,  0.9685,  1.0264,\n",
      "          0.9897,  1.0251,  0.9680,  0.9970,  1.0168,  0.9902,  1.0089,  1.0136,\n",
      "          1.0067,  1.0158,  1.0085,  1.0101,  0.9945,  1.0053,  0.9881,  1.0154,\n",
      "          1.0034,  0.9892,  0.9954,  1.0123,  1.0084,  1.0062,  1.0210,  0.9927,\n",
      "          1.0051,  0.9817,  0.9933,  1.0128,  1.0089,  0.9898,  0.9934,  0.9876,\n",
      "          1.0025,  1.0044,  0.9921,  1.0098,  1.0119,  1.0131,  0.9899,  1.0061,\n",
      "          0.9953,  0.9900,  1.0016,  0.9901,  1.0374,  0.9857,  1.0124,  0.9818,\n",
      "          0.9920,  1.0097,  0.9988,  0.9871,  0.9922,  1.0053,  0.9967,  1.0106,\n",
      "          0.9806,  0.9767,  0.9914,  1.0074,  1.0034,  0.9980,  1.0093,  0.9866,\n",
      "          1.0174,  0.9796,  1.0159,  0.9874],\n",
      "        [ 0.0269,  0.0554,  0.0227,  0.5157,  0.5183,  0.2794,  0.5860,  0.5502,\n",
      "          0.5156,  0.4941,  0.2669,  0.0972,  0.5311,  0.0243,  0.5446,  0.3583,\n",
      "          0.1526,  0.4533,  0.8372,  0.6460,  0.2942,  0.6779,  0.3506,  0.4658,\n",
      "          0.4352,  0.2045,  0.1152,  0.5162,  0.3726,  0.3838,  0.0343,  0.7550,\n",
      "          0.8460,  0.4397,  1.0007,  0.9824,  0.5334,  0.5188,  0.9251,  0.5344,\n",
      "          0.9971,  0.9929,  0.5526,  0.1015,  0.5068,  0.1416,  0.9832,  0.6366,\n",
      "          0.6528,  0.6809,  0.7762,  0.5912,  0.9927,  0.7256,  0.7098,  0.9806,\n",
      "          0.5562,  0.7696,  0.5851,  0.5097,  0.5767,  0.5064,  0.4741,  0.3457,\n",
      "          0.5855,  0.6938,  0.8496,  0.6469,  0.5837,  0.6103,  0.5182,  0.3147,\n",
      "          0.7310,  0.0950,  0.6621,  0.8405,  0.7435,  0.5943,  0.7152,  0.5178,\n",
      "          0.8673,  0.5297,  0.3472,  0.0996,  0.8351,  0.6009,  0.8809,  0.6053,\n",
      "          0.7447,  0.7835,  0.6880,  0.7548,  0.6420,  0.4894,  0.6801,  0.7388,\n",
      "          0.6347,  0.6559,  0.7493,  0.7480,  0.7256,  0.8071,  0.6994,  0.5597,\n",
      "          0.9035,  0.6315,  0.5201,  0.9975,  0.9212,  0.5851,  0.5587,  0.9152,\n",
      "          0.6816,  0.9608,  0.9187,  0.6395,  0.9192,  0.9168,  0.4881,  0.9373,\n",
      "          0.0589,  0.4969,  0.5836,  0.0557,  0.9898,  0.9869,  0.5740,  0.9846,\n",
      "          0.9749,  1.0006,  0.9807,  0.7003,  0.9841,  0.4215,  0.5801,  0.0386,\n",
      "          0.9525,  0.4804,  0.9403,  0.6401,  0.9617,  0.7308,  0.9791,  0.7578,\n",
      "          0.9719,  0.9897,  0.7756,  1.0083,  1.0024,  0.8276,  0.9800,  0.8261,\n",
      "          0.9185,  1.0120,  0.9864,  0.8647,  0.8718,  0.8878,  0.9818,  0.9949,\n",
      "          0.9303,  0.9209,  1.0022,  0.9445,  0.9795,  0.0387,  0.8629,  0.6529,\n",
      "          0.9916,  0.7811,  0.8221,  0.8358,  0.8443,  0.7745,  0.8751,  0.8059,\n",
      "          0.9941,  0.8487,  0.8468,  0.7518,  0.8780,  0.9250,  0.9169,  0.8810,\n",
      "          0.9410,  0.9123,  0.9305,  0.9278,  1.0163,  0.9093,  0.7025,  0.9115,\n",
      "          0.7731,  0.9613,  0.9092,  0.8917,  0.8980,  1.0059,  0.9527,  0.8905,\n",
      "          0.9152,  0.9226,  0.9203,  0.9227,  0.9039,  0.9346,  0.9329,  0.9557,\n",
      "          0.9479,  0.9298,  0.9197,  0.9063,  0.9063,  0.9506,  0.8993,  0.8865,\n",
      "          0.9472,  0.9352,  0.8934,  0.9098,  0.9445,  0.9434,  0.8849,  0.9105,\n",
      "          0.8924,  0.9292,  0.9357,  0.9209,  0.9196,  0.9734,  0.9838,  0.8937,\n",
      "          0.8909,  0.9085,  0.9645,  1.0002,  0.9275,  0.9048,  0.9742,  1.0107,\n",
      "          0.8827,  1.0097,  0.9278,  0.9107,  0.9409,  0.9001,  0.9244,  0.9477,\n",
      "          0.9754,  0.8612,  0.9248,  0.8877,  0.9536,  0.9390,  0.8750,  0.9577,\n",
      "          0.8720,  0.9368,  0.8879,  0.8982,  0.8984,  0.9022,  0.9294,  0.9266,\n",
      "          0.9312,  0.9315,  0.8915,  0.9234,  0.9362,  0.9186,  0.9526,  0.9553,\n",
      "          0.8518,  0.9264,  0.8935,  0.9421,  0.8941,  0.8563,  0.9299,  0.9100,\n",
      "          0.8805,  0.9500,  0.8873,  0.8722,  0.9056,  0.8688,  0.8798,  0.8785,\n",
      "          0.9316,  0.9032,  0.9217,  0.8891,  0.9140,  0.9054,  0.9208,  0.9250,\n",
      "          0.9321,  0.9095,  0.8379,  0.9140,  0.9222,  0.8879,  0.8263,  0.8760,\n",
      "          0.8987,  0.6889,  0.8703,  0.8617,  0.7953,  0.8451,  0.9739,  0.8795,\n",
      "          0.7517,  0.8731,  0.8611,  0.8506,  0.8322,  0.0942,  0.7509,  0.8101,\n",
      "          0.7532,  0.7472,  0.7326,  0.7764,  0.7436,  0.7409,  0.7580,  0.7473,\n",
      "          0.8190,  0.7659,  0.7662,  0.7413,  0.7684,  0.8170,  0.7982,  0.8349,\n",
      "          0.8065,  0.7760,  0.8051,  0.8819,  0.9507,  0.9241,  0.8372,  0.7793,\n",
      "          0.9635,  0.9539,  0.8129,  0.9669,  0.9839,  0.8766,  0.0980,  0.9658,\n",
      "          0.8264,  0.9808,  0.3862,  1.0097,  0.8577,  0.9728,  0.8853,  0.8704,\n",
      "          0.9750,  0.8749,  0.8962,  0.9807,  0.8928,  0.4891,  0.9797,  0.8678,\n",
      "          0.8634,  0.8861,  0.8614,  0.8633,  0.8439,  0.8267,  0.8582,  0.8797,\n",
      "          0.8548,  0.1214,  0.8889,  0.4399,  0.9197,  0.6298,  0.7438,  0.7755,\n",
      "          0.8449,  0.8304,  0.9286,  0.9098,  0.8837,  0.9355,  0.9165,  0.3191,\n",
      "          0.9476,  0.9487,  0.4031,  0.4949,  0.5560,  0.6115,  0.6856,  0.7212,\n",
      "          0.7393,  0.7800,  0.7723,  0.8067,  0.8458,  0.8718,  0.8061,  0.8612,\n",
      "          0.8899,  0.8233,  0.8617,  0.8802,  0.9005,  0.8989,  0.9121,  0.9308,\n",
      "          0.9468,  0.9362,  0.9304,  1.0165,  0.9421,  0.9621,  0.9021,  0.8911,\n",
      "          0.9370,  0.9349,  0.9336,  0.9843,  0.9231,  0.8855,  0.9210,  0.9205,\n",
      "          0.9175,  0.9052,  0.9419,  0.9167,  0.9539,  0.9611,  0.9491,  0.9526,\n",
      "          0.9277,  0.8589,  0.9220,  0.9292,  0.9273,  0.9506,  0.8688,  0.9529,\n",
      "          0.9606,  0.9428,  0.9512,  0.9505,  0.9328,  0.9284,  0.9302,  0.9062,\n",
      "          0.9477,  0.9467,  0.8971,  0.9640,  0.9503,  0.9448,  0.9501,  0.9619,\n",
      "          0.9510,  0.9237,  0.9406,  0.9444,  0.9420,  0.9093,  0.9162,  0.8849,\n",
      "          0.9043,  0.9459,  0.9719,  0.9615,  0.9720,  1.0004,  0.8586,  0.9817,\n",
      "          0.8665,  0.8834,  0.9886,  0.8720,  0.9630,  0.9856,  0.8739,  0.9128,\n",
      "          0.9089,  0.9343,  0.9298,  0.9355,  0.9446,  0.9569,  0.9493,  0.9942,\n",
      "          0.9797,  0.9668,  0.9941,  1.0159]], device='cuda:0',\n",
      "       requires_grad=True)\n",
      "\n",
      "\n",
      "name: mean_module.raw_constant\n",
      "parameter: Parameter containing:\n",
      "tensor([-0.9404,  0.9393], device='cuda:0', requires_grad=True)\n",
      "\n",
      "\n",
      "name: covar_module.base_kernels.0.raw_outputscale\n",
      "parameter: Parameter containing:\n",
      "tensor(-0.8270, device='cuda:0', requires_grad=True)\n",
      "\n",
      "\n",
      "name: covar_module.base_kernels.0.base_kernel.raw_lengthscale\n",
      "parameter: Parameter containing:\n",
      "tensor([[-0.3422]], device='cuda:0', requires_grad=True)\n",
      "\n",
      "\n",
      "name: covar_module.base_kernels.1.raw_outputscale\n",
      "parameter: Parameter containing:\n",
      "tensor(-0.6828, device='cuda:0', requires_grad=True)\n",
      "\n",
      "\n",
      "name: covar_module.base_kernels.1.base_kernel.raw_lengthscale\n",
      "parameter: Parameter containing:\n",
      "tensor([[-0.4871]], device='cuda:0', requires_grad=True)\n",
      "\n",
      "\n",
      "name: covar_module.base_kernels.1.base_kernel.raw_period_length\n",
      "parameter: Parameter containing:\n",
      "tensor([[0.1119]], device='cuda:0', requires_grad=True)\n",
      "\n",
      "\n"
     ]
    }
   ],
   "source": [
    "for n, p in model.named_parameters():\n",
    "    print(\"name:\", n)\n",
    "    print(\"parameter:\", p)\n",
    "    print(\"\\n\")"
   ]
  },
  {
   "cell_type": "code",
   "execution_count": 402,
   "metadata": {},
   "outputs": [],
   "source": [
    "with torch.no_grad():\n",
    "    lmc_coefficients = model.variational_strategy.lmc_coefficients\n",
    "    lmc_coefficients = lmc_coefficients.cpu()\n",
    "\n",
    "# A_hat = torch.divide(A_hat.T, torch.norm(A_hat, dim=-1)).T"
   ]
  },
  {
   "cell_type": "code",
   "execution_count": 409,
   "metadata": {},
   "outputs": [
    {
     "data": {
      "text/plain": [
       "tensor([[ 0.8000, -6.7200, -2.9120,  0.1600,  0.1600,  0.8000],\n",
       "        [-0.2600, -0.0250,  0.1250,  0.5500,  0.5500,  0.0500]])"
      ]
     },
     "execution_count": 409,
     "metadata": {},
     "output_type": "execute_result"
    }
   ],
   "source": [
    "(A * scale_adj).T"
   ]
  },
  {
   "cell_type": "code",
   "execution_count": 421,
   "metadata": {},
   "outputs": [
    {
     "data": {
      "text/plain": [
       "tensor([[-0.2976, -0.6633, -0.2556,  0.1816,  0.1623,  0.0214],\n",
       "        [-1.4409, -0.1154,  0.4777,  2.1622,  1.5481,  0.2113]])"
      ]
     },
     "execution_count": 421,
     "metadata": {},
     "output_type": "execute_result"
    }
   ],
   "source": [
    "lmc_coefficients"
   ]
  },
  {
   "cell_type": "code",
   "execution_count": 418,
   "metadata": {},
   "outputs": [
    {
     "data": {
      "text/plain": [
       "tensor([[-0.2500,  2.1000,  0.9100, -0.0500, -0.0500, -0.2500],\n",
       "        [-0.5200, -0.0500,  0.2500,  1.1000,  1.1000,  0.1000]])"
      ]
     },
     "execution_count": 418,
     "metadata": {},
     "output_type": "execute_result"
    }
   ],
   "source": [
    "A.T"
   ]
  },
  {
   "cell_type": "code",
   "execution_count": 420,
   "metadata": {},
   "outputs": [
    {
     "data": {
      "text/plain": [
       "tensor([[ 0.9523,  2.1226,  0.8179, -0.5811, -0.5194, -0.0683],\n",
       "        [-0.7204, -0.0577,  0.2388,  1.0811,  0.7741,  0.1057]])"
      ]
     },
     "execution_count": 420,
     "metadata": {},
     "output_type": "execute_result"
    }
   ],
   "source": [
    "(lmc_coefficients.T * scale_adj).T"
   ]
  },
  {
   "cell_type": "code",
   "execution_count": 422,
   "metadata": {},
   "outputs": [],
   "source": [
    "def eigen(lmc_coefficients, norm=True, round=5):\n",
    "    \n",
    "    V_mat = lmc_coefficients.T @ lmc_coefficients\n",
    "    if norm:\n",
    "        V_mat = torch.divide(V_mat, torch.norm(V_mat, dim=-1).unsqueeze(-1))\n",
    "    V_eigval, V_eigvec = np.linalg.eig(V_mat)\n",
    "    idx_sort = np.argsort(V_eigval)[::-1]\n",
    "    V_eigval, V_eigvec = V_eigval[idx_sort], V_eigvec[:,idx_sort]\n",
    "    V_eigval, V_eigvec = np.round(V_eigval, round), np.round(V_eigvec, round)\n",
    "\n",
    "    return V_eigval, V_eigvec"
   ]
  },
  {
   "cell_type": "code",
   "execution_count": 423,
   "metadata": {},
   "outputs": [],
   "source": [
    "V_mat = lmc_coefficients.T @ lmc_coefficients\n",
    "V_eigval, V_eigvec = np.linalg.eig(V_mat)"
   ]
  },
  {
   "cell_type": "code",
   "execution_count": 424,
   "metadata": {},
   "outputs": [
    {
     "data": {
      "text/plain": [
       "<AxesSubplot:>"
      ]
     },
     "execution_count": 424,
     "metadata": {},
     "output_type": "execute_result"
    },
    {
     "data": {
      "image/png": "[encoded data removed]",
      "text/plain": [
       "<Figure size 432x288 with 1 Axes>"
      ]
     },
     "metadata": {
      "needs_background": "light"
     },
     "output_type": "display_data"
    }
   ],
   "source": [
    "labels = [\"v_1,1\", \"v_1,2\", \"v_2,1\", \"v_3,1\", \"v_4,1\", \"v_4,2\"]\n",
    "eigval, eigvec = eigen(lmc_coefficients, norm=True)\n",
    "sns.scatterplot(eigvec[:,0], eigvec[:,1], hue=labels)"
   ]
  },
  {
   "cell_type": "code",
   "execution_count": 425,
   "metadata": {},
   "outputs": [
    {
     "data": {
      "text/plain": [
       "<AxesSubplot:>"
      ]
     },
     "execution_count": 425,
     "metadata": {},
     "output_type": "execute_result"
    },
    {
     "data": {
      "image/png": "[encoded data removed]",
      "text/plain": [
       "<Figure size 432x288 with 1 Axes>"
      ]
     },
     "metadata": {
      "needs_background": "light"
     },
     "output_type": "display_data"
    }
   ],
   "source": [
    "labels = [\"v_1,1\", \"v_1,2\", \"v_2,1\", \"v_3,1\", \"v_4,1\", \"v_4,2\"]\n",
    "eigval, eigvec = eigen(lmc_coefficients, norm=False)\n",
    "sns.scatterplot(eigvec[:,0], eigvec[:,1], hue=labels)"
   ]
  },
  {
   "cell_type": "code",
   "execution_count": 359,
   "metadata": {},
   "outputs": [
    {
     "data": {
      "text/plain": [
       "<linear_operator.operators.sum_linear_operator.SumLinearOperator at 0x7f1f9caad250>"
      ]
     },
     "execution_count": 359,
     "metadata": {},
     "output_type": "execute_result"
    }
   ],
   "source": [
    "latent_dist.lazy_covariance_matrix"
   ]
  },
  {
   "cell_type": "code",
   "execution_count": null,
   "metadata": {},
   "outputs": [],
   "source": []
  },
  {
   "cell_type": "code",
   "execution_count": 367,
   "metadata": {},
   "outputs": [],
   "source": [
    "lmc_factor = RootLinearOperator(lmc_coefficients.unsqueeze(-1))"
   ]
  },
  {
   "cell_type": "code",
   "execution_count": 380,
   "metadata": {},
   "outputs": [
    {
     "data": {
      "text/plain": [
       "<linear_operator.operators.sum_linear_operator.SumLinearOperator at 0x7f1f80c1ad90>"
      ]
     },
     "execution_count": 380,
     "metadata": {},
     "output_type": "execute_result"
    }
   ],
   "source": [
    "latent_dist.lazy_covariance_matrix.cpu()"
   ]
  },
  {
   "cell_type": "code",
   "execution_count": 382,
   "metadata": {},
   "outputs": [],
   "source": [
    "covar = KroneckerProductLinearOperator(latent_dist.lazy_covariance_matrix.cpu(), lmc_factor).sum(-1)"
   ]
  },
  {
   "cell_type": "code",
   "execution_count": 450,
   "metadata": {},
   "outputs": [
    {
     "data": {
      "text/plain": [
       "torch.Size([2, 6000])"
      ]
     },
     "execution_count": 450,
     "metadata": {},
     "output_type": "execute_result"
    }
   ],
   "source": [
    "covar.shape"
   ]
  },
  {
   "cell_type": "code",
   "execution_count": 456,
   "metadata": {},
   "outputs": [
    {
     "data": {
      "text/plain": [
       "torch.Size([6000, 6000])"
      ]
     },
     "execution_count": 456,
     "metadata": {},
     "output_type": "execute_result"
    }
   ],
   "source": [
    "(covar.T @ covar).shape"
   ]
  },
  {
   "cell_type": "code",
   "execution_count": 390,
   "metadata": {},
   "outputs": [
    {
     "data": {
      "text/plain": [
       "torch.Size([2, 1000, 1000])"
      ]
     },
     "execution_count": 390,
     "metadata": {},
     "output_type": "execute_result"
    }
   ],
   "source": [
    "latent_dist.lazy_covariance_matrix.shape"
   ]
  },
  {
   "cell_type": "code",
   "execution_count": 387,
   "metadata": {},
   "outputs": [
    {
     "data": {
      "text/plain": [
       "torch.Size([6000])"
      ]
     },
     "execution_count": 387,
     "metadata": {},
     "output_type": "execute_result"
    }
   ],
   "source": [
    "covar[0].shape"
   ]
  },
  {
   "cell_type": "code",
   "execution_count": 215,
   "metadata": {},
   "outputs": [],
   "source": [
    "x_multi = torch.randn([500, 3])\n",
    "init_covar_x = torch.randn([1, 500, 500])\n",
    "covar_x = torch.randn([2, 1, 500, 500])\n",
    "x1 = torch.randn([500,1])\n",
    "x2 = torch.randn([1,500,1])"
   ]
  },
  {
   "cell_type": "code",
   "execution_count": null,
   "metadata": {},
   "outputs": [],
   "source": []
  },
  {
   "cell_type": "code",
   "execution_count": 229,
   "metadata": {},
   "outputs": [],
   "source": [
    "kernel = gpytorch.kernels.ScaleKernel(gpytorch.kernels.RBFKernel(active_dims=[0, 2]))"
   ]
  },
  {
   "cell_type": "code",
   "execution_count": 230,
   "metadata": {},
   "outputs": [
    {
     "data": {
      "text/plain": [
       "OrderedDict([('raw_outputscale',\n",
       "              Parameter containing:\n",
       "              tensor(0., requires_grad=True))])"
      ]
     },
     "execution_count": 230,
     "metadata": {},
     "output_type": "execute_result"
    }
   ],
   "source": [
    "kernel._"
   ]
  },
  {
   "cell_type": "code",
   "execution_count": 217,
   "metadata": {},
   "outputs": [
    {
     "data": {
      "text/plain": [
       "torch.Size([500, 500])"
      ]
     },
     "execution_count": 217,
     "metadata": {},
     "output_type": "execute_result"
    }
   ],
   "source": [
    "test = kernel(x_multi).evaluate_kernel()\n",
    "test.shape"
   ]
  },
  {
   "cell_type": "code",
   "execution_count": null,
   "metadata": {},
   "outputs": [],
   "source": []
  },
  {
   "cell_type": "code",
   "execution_count": 287,
   "metadata": {},
   "outputs": [],
   "source": [
    "kernel = LMCKernel(\n",
    "    [gpytorch.kernels.ScaleKernel(gpytorch.kernels.RBFKernel(ard_num_dims=3, active_dims=[0, 7000])),\n",
    "     gpytorch.kernels.ScaleKernel(gpytorch.kernels.PeriodicKernel(active_dims=[0, 2]))],\n",
    "    batch_shape=2\n",
    ")"
   ]
  },
  {
   "cell_type": "code",
   "execution_count": 288,
   "metadata": {},
   "outputs": [
    {
     "name": "stdout",
     "output_type": "stream",
     "text": [
      "params: {'last_dim_is_batch': False}\n",
      "init_x_shape: torch.Size([500, 1])\n",
      "x_shape: torch.Size([1, 500, 1])\n",
      "init_covar_x.shape: torch.Size([1, 500, 500])\n",
      "kernel: ScaleKernel(\n",
      "  (base_kernel): PeriodicKernel(\n",
      "    (raw_lengthscale_constraint): Positive()\n",
      "    (raw_period_length_constraint): Positive()\n",
      "    (distance_module): Distance()\n",
      "  )\n",
      "  (raw_outputscale_constraint): Positive()\n",
      ")\n",
      "covar_x.shape: torch.Size([2, 500, 500])\n"
     ]
    },
    {
     "data": {
      "text/plain": [
       "torch.Size([2, 500, 500])"
      ]
     },
     "execution_count": 288,
     "metadata": {},
     "output_type": "execute_result"
    }
   ],
   "source": [
    "test = kernel(x).evaluate_kernel()\n",
    "test.shape"
   ]
  },
  {
   "cell_type": "code",
   "execution_count": 244,
   "metadata": {},
   "outputs": [],
   "source": [
    "kernel_list = [gpytorch.kernels.ScaleKernel(gpytorch.kernels.RBFKernel(active_dims=[0, 2])),\n",
    "     gpytorch.kernels.ScaleKernel(gpytorch.kernels.PeriodicKernel())]\n",
    "\n",
    "kernel = torch.nn.ModuleList(\n",
    "    kernel_list\n",
    ")"
   ]
  },
  {
   "cell_type": "code",
   "execution_count": 246,
   "metadata": {},
   "outputs": [
    {
     "data": {
      "text/plain": [
       "torch.Size([500, 500])"
      ]
     },
     "execution_count": 246,
     "metadata": {},
     "output_type": "execute_result"
    }
   ],
   "source": [
    "kernel[0](x_multi).evaluate_kernel().shape"
   ]
  },
  {
   "cell_type": "code",
   "execution_count": null,
   "metadata": {},
   "outputs": [],
   "source": []
  },
  {
   "cell_type": "code",
   "execution_count": 398,
   "metadata": {},
   "outputs": [
    {
     "data": {
      "text/plain": [
       "torch.Size([2, 1000, 1000])"
      ]
     },
     "execution_count": 398,
     "metadata": {},
     "output_type": "execute_result"
    }
   ],
   "source": [
    "num_latents=2\n",
    "num_tasks=6\n",
    "kernel = gpytorch.kernels.ScaleKernel(gpytorch.kernels.RBFKernel(batch_shape=torch.Size([num_latents])), \n",
    "                                batch_shape=torch.Size([num_latents])) + \\\n",
    "                        gpytorch.kernels.ScaleKernel(\n",
    "                            gpytorch.kernels.PeriodicKernel(batch_shape=torch.Size([num_latents])),\n",
    "                            batch_shape=torch.Size([num_latents]))\n",
    "\n",
    "# torch.Size([2, 1000, 1000]) # CORRECT!                        \n",
    "# kernel(train_x).shape"
   ]
  },
  {
   "cell_type": "code",
   "execution_count": 396,
   "metadata": {},
   "outputs": [],
   "source": [
    "kernel = gpytorch.kernels.LCMKernel(\n",
    "                            [gpytorch.kernels.RBFKernel(),\n",
    "                            gpytorch.kernels.PeriodicKernel()],\n",
    "                            num_tasks=num_tasks\n",
    "                        )\n",
    "\n",
    "# torch.Size([6000, 6000]) # WRONG!\n",
    "# kernel(train_x).shape"
   ]
  },
  {
   "cell_type": "code",
   "execution_count": 642,
   "metadata": {},
   "outputs": [],
   "source": [
    "kernel_list = torch.nn.ModuleList([gpytorch.kernels.RBFKernel(),\n",
    "                            gpytorch.kernels.PeriodicKernel()])"
   ]
  },
  {
   "cell_type": "code",
   "execution_count": 643,
   "metadata": {},
   "outputs": [],
   "source": [
    "kernel1 = kernel_list[0](train_x.cpu(), train_x.cpu()).evaluate()\n",
    "kernel2 = kernel_list[1](train_x.cpu()).evaluate()"
   ]
  },
  {
   "cell_type": "code",
   "execution_count": 671,
   "metadata": {},
   "outputs": [
    {
     "data": {
      "text/plain": [
       "torch.Size([1000, 1000])"
      ]
     },
     "execution_count": 671,
     "metadata": {},
     "output_type": "execute_result"
    }
   ],
   "source": [
    "kernel1.shape"
   ]
  },
  {
   "cell_type": "code",
   "execution_count": 680,
   "metadata": {},
   "outputs": [
    {
     "data": {
      "text/plain": [
       "torch.Size([2000, 1000])"
      ]
     },
     "execution_count": 680,
     "metadata": {},
     "output_type": "execute_result"
    }
   ],
   "source": [
    "torch.concat([kernel1, kernel2]).shape"
   ]
  },
  {
   "cell_type": "code",
   "execution_count": 669,
   "metadata": {},
   "outputs": [
    {
     "data": {
      "text/plain": [
       "torch.Size([2000, 1000])"
      ]
     },
     "execution_count": 669,
     "metadata": {},
     "output_type": "execute_result"
    }
   ],
   "source": [
    "torch.vstack([kernel1, kernel2]).shape"
   ]
  },
  {
   "cell_type": "code",
   "execution_count": 652,
   "metadata": {},
   "outputs": [
    {
     "data": {
      "text/plain": [
       "torch.Size([2, 1000, 1000])"
      ]
     },
     "execution_count": 652,
     "metadata": {},
     "output_type": "execute_result"
    }
   ],
   "source": [
    "torch.vstack([kernel1, kernel2], dim=0).shape"
   ]
  },
  {
   "cell_type": "code",
   "execution_count": 645,
   "metadata": {},
   "outputs": [
    {
     "data": {
      "text/plain": [
       "torch.Size([1000, 1000])"
      ]
     },
     "execution_count": 645,
     "metadata": {},
     "output_type": "execute_result"
    }
   ],
   "source": [
    "kernel1.shape"
   ]
  },
  {
   "cell_type": "code",
   "execution_count": 424,
   "metadata": {},
   "outputs": [
    {
     "data": {
      "text/plain": [
       "torch.Size([2, 1000, 1000])"
      ]
     },
     "execution_count": 424,
     "metadata": {},
     "output_type": "execute_result"
    }
   ],
   "source": [
    "torch.stack([kernel1, kernel2]).shape"
   ]
  },
  {
   "cell_type": "code",
   "execution_count": 459,
   "metadata": {},
   "outputs": [
    {
     "data": {
      "text/plain": [
       "ModuleList(\n",
       "  (0): RBFKernel(\n",
       "    (raw_lengthscale_constraint): Positive()\n",
       "    (distance_module): Distance()\n",
       "  )\n",
       "  (1): PeriodicKernel(\n",
       "    (raw_lengthscale_constraint): Positive()\n",
       "    (raw_period_length_constraint): Positive()\n",
       "    (distance_module): Distance()\n",
       "  )\n",
       ")"
      ]
     },
     "execution_count": 459,
     "metadata": {},
     "output_type": "execute_result"
    }
   ],
   "source": [
    "kernel_list"
   ]
  },
  {
   "cell_type": "code",
   "execution_count": 482,
   "metadata": {},
   "outputs": [
    {
     "data": {
      "text/plain": [
       "gpytorch.kernels.kernel.Kernel"
      ]
     },
     "execution_count": 482,
     "metadata": {},
     "output_type": "execute_result"
    }
   ],
   "source": [
    "gpytorch.kernels.kernel.Kernel"
   ]
  },
  {
   "cell_type": "code",
   "execution_count": 504,
   "metadata": {},
   "outputs": [
    {
     "data": {
      "text/plain": [
       "torch.Size([2, 1000])"
      ]
     },
     "execution_count": 504,
     "metadata": {},
     "output_type": "execute_result"
    }
   ],
   "source": [
    "torch.empty(len(kernel_list),len(train_x)).shape"
   ]
  },
  {
   "cell_type": "code",
   "execution_count": 549,
   "metadata": {},
   "outputs": [
    {
     "data": {
      "text/plain": [
       "tensor([[-9.4344e+17,  4.5604e-41],\n",
       "        [-9.4344e+17,  4.5604e-41],\n",
       "        [-9.4344e+17,  4.5604e-41]])"
      ]
     },
     "execution_count": 549,
     "metadata": {},
     "output_type": "execute_result"
    }
   ],
   "source": [
    "torch.stack([covar_x, covar_x, covar_x])"
   ]
  },
  {
   "cell_type": "code",
   "execution_count": null,
   "metadata": {},
   "outputs": [],
   "source": []
  },
  {
   "cell_type": "code",
   "execution_count": 629,
   "metadata": {},
   "outputs": [],
   "source": [
    "kernel_list = [gpytorch.kernels.RBFKernel(),\n",
    "                            gpytorch.kernels.PeriodicKernel()]\n",
    "\n",
    "kernel = LMCKernel(kernel_list, batch_shape=torch.Size([num_latents]))"
   ]
  },
  {
   "cell_type": "code",
   "execution_count": 630,
   "metadata": {},
   "outputs": [
    {
     "name": "stdout",
     "output_type": "stream",
     "text": [
      "torch.Size([2, 1000, 1000])\n"
     ]
    },
    {
     "data": {
      "text/plain": [
       "torch.Size([2, 1000, 1000])"
      ]
     },
     "execution_count": 630,
     "metadata": {},
     "output_type": "execute_result"
    }
   ],
   "source": [
    "kernel(train_x.cpu()).evaluate_kernel().shape"
   ]
  },
  {
   "cell_type": "code",
   "execution_count": null,
   "metadata": {},
   "outputs": [],
   "source": []
  }
 ],
 "metadata": {
  "kernelspec": {
   "display_name": "pytorch",
   "language": "python",
   "name": "python3"
  },
  "language_info": {
   "codemirror_mode": {
    "name": "ipython",
    "version": 3
   },
   "file_extension": ".py",
   "mimetype": "text/x-python",
   "name": "python",
   "nbconvert_exporter": "python",
   "pygments_lexer": "ipython3",
   "version": "3.9.13"
  },
  "orig_nbformat": 4,
  "vscode": {
   "interpreter": {
    "hash": "774ad7d97153bbf1edb171619bf5686b396049cb639276a3fcf5bb31d00c488a"
   }
  }
 },
 "nbformat": 4,
 "nbformat_minor": 2
}
