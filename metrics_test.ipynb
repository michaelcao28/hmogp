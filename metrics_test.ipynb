{
 "cells": [
  {
   "cell_type": "code",
   "execution_count": 62,
   "metadata": {},
   "outputs": [],
   "source": [
    "import math\n",
    "import torch\n",
    "import gpytorch\n",
    "from matplotlib import pyplot as plt\n",
    "\n",
    "import numpy as np\n",
    "import seaborn as sns\n",
    "import pyro\n",
    "import pyro.distributions as dist\n",
    "\n",
    "import tqdm\n",
    "\n",
    "import warnings\n",
    "warnings.filterwarnings('ignore')"
   ]
  },
  {
   "cell_type": "code",
   "execution_count": 5,
   "metadata": {},
   "outputs": [],
   "source": [
    "# Training data is 100 points in [0,1] inclusive regularly spaced\n",
    "train_x = torch.linspace(0, 1, 100)\n",
    "# True function is sin(2*pi*x) with Gaussian noise\n",
    "train_y = torch.sin(train_x * (2 * math.pi)) + torch.randn(train_x.size()) * math.sqrt(0.04)\n",
    "\n",
    "test_x = torch.linspace(0, 1, 51)\n",
    "test_y = torch.sin(test_x * (2 * math.pi)) + torch.randn(test_x.size()) * math.sqrt(0.04)"
   ]
  },
  {
   "cell_type": "code",
   "execution_count": 193,
   "metadata": {},
   "outputs": [],
   "source": [
    "# We will use the simplest form of GP model, exact inference\n",
    "\n",
    "class ExactGPModel(gpytorch.models.ExactGP):\n",
    "        def __init__(self, train_x, train_y, likelihood):\n",
    "            super(ExactGPModel, self).__init__(train_x, train_y, likelihood)\n",
    "            self.mean_module = gpytorch.means.ConstantMean()\n",
    "            lengthscale_prior = gpytorch.priors.GammaPrior(3.0, 6.0)\n",
    "            self.covar_module = gpytorch.kernels.ScaleKernel(gpytorch.kernels.RBFKernel(lengthscale_prior=lengthscale_prior))\n",
    "\n",
    "        def forward(self, x):\n",
    "            mean_x = self.mean_module(x)\n",
    "            covar_x = self.covar_module(x)\n",
    "            return gpytorch.distributions.MultivariateNormal(mean_x, covar_x)\n",
    "\n",
    "def compute_NLPD(train_x, train_y, test_y, n_samples = 5, training_iter = 100):\n",
    "    \n",
    "    loss_list = np.zeros((n_samples, training_iter))\n",
    "    nlpd_list = np.zeros(n_samples)\n",
    "\n",
    "    for s in range(n_samples):\n",
    "        pyro.clear_param_store()\n",
    "        \n",
    "        # initialize likelihood and model\n",
    "        likelihood = gpytorch.likelihoods.GaussianLikelihood()\n",
    "        model = ExactGPModel(train_x, train_y, likelihood)\n",
    "        \n",
    "        # this is for running the notebook in our testing framework\n",
    "        training_iter = training_iter\n",
    "        \n",
    "        \n",
    "\n",
    "        # Find optimal model hyperparameters\n",
    "        model.train()\n",
    "\n",
    "        # Use the adam optimizer\n",
    "        optimizer = torch.optim.Adam(model.parameters(), lr=0.1)  # Includes GaussianLikelihood parameters\n",
    "\n",
    "        # \"Loss\" for GPs - the marginal log likelihood\n",
    "        mll = gpytorch.mlls.ExactMarginalLogLikelihood(likelihood, model)\n",
    "\n",
    "        \n",
    "        for i in range(training_iter):\n",
    "            # Zero gradients from previous iteration\n",
    "            optimizer.zero_grad()\n",
    "            # Output from model\n",
    "            output = model(train_x)\n",
    "            # Calc loss and backprop gradients\n",
    "            loss = -mll(output, train_y)\n",
    "            loss_list[s,i] = loss.item()\n",
    "            loss.backward()\n",
    "            optimizer.step()\n",
    "            \n",
    "        model.eval()\n",
    "        with torch.no_grad():\n",
    "            trained_pred_dist = likelihood(model(test_x))\n",
    "            predictive_mean = trained_pred_dist.mean # same as trained_pred_dist.loc or \n",
    "            lower, upper = trained_pred_dist.confidence_region()\n",
    "            \n",
    "        nlpd_list[s] = gpytorch.metrics.negative_log_predictive_density(trained_pred_dist, test_y)\n",
    "        print(gpytorch.metrics.negative_log_predictive_density(trained_pred_dist, test_y))\n",
    "    \n",
    "    return nlpd_list"
   ]
  },
  {
   "cell_type": "code",
   "execution_count": 194,
   "metadata": {},
   "outputs": [
    {
     "name": "stdout",
     "output_type": "stream",
     "text": [
      "tensor(-0.3140)\n",
      "tensor(-0.3140)\n",
      "tensor(-0.3140)\n",
      "tensor(-0.3140)\n",
      "tensor(-0.3140)\n"
     ]
    }
   ],
   "source": [
    "nlpd = compute_NLPD(train_x, train_y, test_y)"
   ]
  },
  {
   "cell_type": "code",
   "execution_count": 202,
   "metadata": {},
   "outputs": [
    {
     "name": "stdout",
     "output_type": "stream",
     "text": [
      "Trained model NLPD: -0.313957\n"
     ]
    }
   ],
   "source": [
    "print(f'Trained model NLPD: {nlpd[4]:.6f}')"
   ]
  },
  {
   "cell_type": "code",
   "execution_count": 7,
   "metadata": {},
   "outputs": [
    {
     "data": {
      "image/png": "[encoded data removed]",
      "text/plain": [
       "<Figure size 288x216 with 1 Axes>"
      ]
     },
     "metadata": {
      "needs_background": "light"
     },
     "output_type": "display_data"
    }
   ],
   "source": [
    "model.eval()\n",
    "with torch.no_grad():\n",
    "    untrained_pred_dist = likelihood(model(test_x))\n",
    "    predictive_mean = untrained_pred_dist.mean\n",
    "    lower, upper = untrained_pred_dist.confidence_region()\n",
    "\n",
    "f, ax = plt.subplots(1, 1, figsize=(4, 3))\n",
    "# Plot training data as black stars\n",
    "ax.plot(train_x, train_y, 'k*')\n",
    "# Plot predictive means as blue line\n",
    "ax.plot(test_x, predictive_mean, 'b')\n",
    "# Shade between the lower and upper confidence bounds\n",
    "ax.fill_between(test_x, lower, upper, alpha=0.5)\n",
    "ax.set_ylim([-3, 3])\n",
    "ax.legend(['Observed Data', 'Mean', 'Confidence'], bbox_to_anchor=(1.6,1));"
   ]
  },
  {
   "cell_type": "code",
   "execution_count": 140,
   "metadata": {},
   "outputs": [
    {
     "name": "stdout",
     "output_type": "stream",
     "text": [
      "Iter 1/100 - Loss: 0.039001   lengthscale: 0.280   noise: 0.049\n",
      "Iter 2/100 - Loss: 0.042759   lengthscale: 0.257   noise: 0.054\n",
      "Iter 3/100 - Loss: 0.039252   lengthscale: 0.274   noise: 0.050\n",
      "Iter 4/100 - Loss: 0.039852   lengthscale: 0.291   noise: 0.047\n",
      "Iter 5/100 - Loss: 0.041196   lengthscale: 0.299   noise: 0.045\n",
      "Iter 6/100 - Loss: 0.040507   lengthscale: 0.296   noise: 0.046\n",
      "Iter 7/100 - Loss: 0.039339   lengthscale: 0.288   noise: 0.047\n",
      "Iter 8/100 - Loss: 0.039027   lengthscale: 0.279   noise: 0.049\n",
      "Iter 9/100 - Loss: 0.039572   lengthscale: 0.272   noise: 0.051\n",
      "Iter 10/100 - Loss: 0.040067   lengthscale: 0.269   noise: 0.051\n",
      "Iter 11/100 - Loss: 0.039948   lengthscale: 0.269   noise: 0.051\n",
      "Iter 12/100 - Loss: 0.039433   lengthscale: 0.273   noise: 0.050\n",
      "Iter 13/100 - Loss: 0.039042   lengthscale: 0.279   noise: 0.049\n",
      "Iter 14/100 - Loss: 0.039077   lengthscale: 0.285   noise: 0.048\n",
      "Iter 15/100 - Loss: 0.039390   lengthscale: 0.289   noise: 0.047\n",
      "Iter 16/100 - Loss: 0.039583   lengthscale: 0.291   noise: 0.047\n",
      "Iter 17/100 - Loss: 0.039457   lengthscale: 0.290   noise: 0.047\n",
      "Iter 18/100 - Loss: 0.039174   lengthscale: 0.287   noise: 0.048\n",
      "Iter 19/100 - Loss: 0.039009   lengthscale: 0.283   noise: 0.049\n",
      "Iter 20/100 - Loss: 0.039071   lengthscale: 0.279   noise: 0.049\n",
      "Iter 21/100 - Loss: 0.039243   lengthscale: 0.276   noise: 0.050\n",
      "Iter 22/100 - Loss: 0.039318   lengthscale: 0.275   noise: 0.050\n",
      "Iter 23/100 - Loss: 0.039231   lengthscale: 0.276   noise: 0.050\n",
      "Iter 24/100 - Loss: 0.039077   lengthscale: 0.278   noise: 0.049\n",
      "Iter 25/100 - Loss: 0.039004   lengthscale: 0.281   noise: 0.049\n",
      "Iter 26/100 - Loss: 0.039055   lengthscale: 0.284   noise: 0.048\n",
      "Iter 27/100 - Loss: 0.039151   lengthscale: 0.286   noise: 0.048\n",
      "Iter 28/100 - Loss: 0.039173   lengthscale: 0.287   noise: 0.048\n",
      "Iter 29/100 - Loss: 0.039106   lengthscale: 0.286   noise: 0.048\n",
      "Iter 30/100 - Loss: 0.039024   lengthscale: 0.284   noise: 0.048\n",
      "Iter 31/100 - Loss: 0.039007   lengthscale: 0.281   noise: 0.049\n",
      "Iter 32/100 - Loss: 0.039055   lengthscale: 0.279   noise: 0.049\n",
      "Iter 33/100 - Loss: 0.039100   lengthscale: 0.278   noise: 0.049\n",
      "Iter 34/100 - Loss: 0.039087   lengthscale: 0.277   noise: 0.049\n",
      "Iter 35/100 - Loss: 0.039039   lengthscale: 0.278   noise: 0.049\n",
      "Iter 36/100 - Loss: 0.039007   lengthscale: 0.280   noise: 0.049\n",
      "Iter 37/100 - Loss: 0.039014   lengthscale: 0.282   noise: 0.048\n",
      "Iter 38/100 - Loss: 0.039049   lengthscale: 0.283   noise: 0.048\n",
      "Iter 39/100 - Loss: 0.039059   lengthscale: 0.283   noise: 0.048\n",
      "Iter 40/100 - Loss: 0.039036   lengthscale: 0.283   noise: 0.048\n",
      "Iter 41/100 - Loss: 0.039006   lengthscale: 0.282   noise: 0.049\n",
      "Iter 42/100 - Loss: 0.039005   lengthscale: 0.280   noise: 0.049\n",
      "Iter 43/100 - Loss: 0.039021   lengthscale: 0.279   noise: 0.049\n",
      "Iter 44/100 - Loss: 0.039033   lengthscale: 0.278   noise: 0.049\n",
      "Iter 45/100 - Loss: 0.039027   lengthscale: 0.278   noise: 0.049\n",
      "Iter 46/100 - Loss: 0.039007   lengthscale: 0.279   noise: 0.049\n",
      "Iter 47/100 - Loss: 0.039003   lengthscale: 0.280   noise: 0.049\n",
      "Iter 48/100 - Loss: 0.039009   lengthscale: 0.281   noise: 0.048\n",
      "Iter 49/100 - Loss: 0.039020   lengthscale: 0.281   noise: 0.048\n",
      "Iter 50/100 - Loss: 0.039017   lengthscale: 0.281   noise: 0.048\n",
      "Iter 51/100 - Loss: 0.039005   lengthscale: 0.281   noise: 0.049\n",
      "Iter 52/100 - Loss: 0.039000   lengthscale: 0.280   noise: 0.049\n",
      "Iter 53/100 - Loss: 0.039006   lengthscale: 0.279   noise: 0.049\n",
      "Iter 54/100 - Loss: 0.039011   lengthscale: 0.278   noise: 0.049\n",
      "Iter 55/100 - Loss: 0.039011   lengthscale: 0.279   noise: 0.049\n",
      "Iter 56/100 - Loss: 0.039004   lengthscale: 0.279   noise: 0.049\n",
      "Iter 57/100 - Loss: 0.039000   lengthscale: 0.280   noise: 0.049\n",
      "Iter 58/100 - Loss: 0.039003   lengthscale: 0.280   noise: 0.049\n",
      "Iter 59/100 - Loss: 0.039007   lengthscale: 0.281   noise: 0.048\n",
      "Iter 60/100 - Loss: 0.039009   lengthscale: 0.280   noise: 0.049\n",
      "Iter 61/100 - Loss: 0.039002   lengthscale: 0.280   noise: 0.049\n",
      "Iter 62/100 - Loss: 0.039000   lengthscale: 0.280   noise: 0.049\n",
      "Iter 63/100 - Loss: 0.039003   lengthscale: 0.279   noise: 0.049\n",
      "Iter 64/100 - Loss: 0.039003   lengthscale: 0.279   noise: 0.049\n",
      "Iter 65/100 - Loss: 0.039006   lengthscale: 0.279   noise: 0.049\n",
      "Iter 66/100 - Loss: 0.039002   lengthscale: 0.279   noise: 0.049\n",
      "Iter 67/100 - Loss: 0.039002   lengthscale: 0.280   noise: 0.049\n",
      "Iter 68/100 - Loss: 0.039002   lengthscale: 0.280   noise: 0.049\n",
      "Iter 69/100 - Loss: 0.039005   lengthscale: 0.280   noise: 0.049\n",
      "Iter 70/100 - Loss: 0.039001   lengthscale: 0.280   noise: 0.049\n",
      "Iter 71/100 - Loss: 0.039001   lengthscale: 0.280   noise: 0.049\n",
      "Iter 72/100 - Loss: 0.039002   lengthscale: 0.280   noise: 0.049\n",
      "Iter 73/100 - Loss: 0.039004   lengthscale: 0.279   noise: 0.049\n",
      "Iter 74/100 - Loss: 0.039003   lengthscale: 0.279   noise: 0.049\n",
      "Iter 75/100 - Loss: 0.039001   lengthscale: 0.280   noise: 0.049\n",
      "Iter 76/100 - Loss: 0.039000   lengthscale: 0.280   noise: 0.049\n",
      "Iter 77/100 - Loss: 0.039001   lengthscale: 0.280   noise: 0.049\n",
      "Iter 78/100 - Loss: 0.038999   lengthscale: 0.280   noise: 0.049\n",
      "Iter 79/100 - Loss: 0.039000   lengthscale: 0.280   noise: 0.049\n",
      "Iter 80/100 - Loss: 0.038999   lengthscale: 0.280   noise: 0.049\n",
      "Iter 81/100 - Loss: 0.039000   lengthscale: 0.280   noise: 0.049\n",
      "Iter 82/100 - Loss: 0.039001   lengthscale: 0.280   noise: 0.049\n",
      "Iter 83/100 - Loss: 0.039001   lengthscale: 0.280   noise: 0.049\n",
      "Iter 84/100 - Loss: 0.039001   lengthscale: 0.280   noise: 0.049\n",
      "Iter 85/100 - Loss: 0.039001   lengthscale: 0.280   noise: 0.049\n",
      "Iter 86/100 - Loss: 0.038999   lengthscale: 0.280   noise: 0.049\n",
      "Iter 87/100 - Loss: 0.039001   lengthscale: 0.280   noise: 0.049\n",
      "Iter 88/100 - Loss: 0.039003   lengthscale: 0.280   noise: 0.049\n",
      "Iter 89/100 - Loss: 0.039000   lengthscale: 0.280   noise: 0.049\n",
      "Iter 90/100 - Loss: 0.039001   lengthscale: 0.280   noise: 0.049\n",
      "Iter 91/100 - Loss: 0.039000   lengthscale: 0.280   noise: 0.049\n",
      "Iter 92/100 - Loss: 0.038999   lengthscale: 0.280   noise: 0.049\n",
      "Iter 93/100 - Loss: 0.039001   lengthscale: 0.280   noise: 0.049\n",
      "Iter 94/100 - Loss: 0.039001   lengthscale: 0.280   noise: 0.049\n",
      "Iter 95/100 - Loss: 0.039001   lengthscale: 0.280   noise: 0.049\n",
      "Iter 96/100 - Loss: 0.039001   lengthscale: 0.280   noise: 0.049\n",
      "Iter 97/100 - Loss: 0.038999   lengthscale: 0.280   noise: 0.049\n",
      "Iter 98/100 - Loss: 0.039000   lengthscale: 0.280   noise: 0.049\n",
      "Iter 99/100 - Loss: 0.039001   lengthscale: 0.280   noise: 0.049\n",
      "Iter 100/100 - Loss: 0.039000   lengthscale: 0.280   noise: 0.049\n"
     ]
    }
   ],
   "source": []
  },
  {
   "cell_type": "code",
   "execution_count": 141,
   "metadata": {},
   "outputs": [
    {
     "data": {
      "text/plain": [
       "<AxesSubplot:>"
      ]
     },
     "execution_count": 141,
     "metadata": {},
     "output_type": "execute_result"
    },
    {
     "data": {
      "image/png": "[encoded data removed]",
      "text/plain": [
       "<Figure size 432x288 with 1 Axes>"
      ]
     },
     "metadata": {
      "needs_background": "light"
     },
     "output_type": "display_data"
    }
   ],
   "source": [
    "sns.lineplot(np.arange(0, len(loss_list)), loss_list)"
   ]
  },
  {
   "cell_type": "code",
   "execution_count": null,
   "metadata": {},
   "outputs": [],
   "source": []
  },
  {
   "cell_type": "code",
   "execution_count": 142,
   "metadata": {},
   "outputs": [
    {
     "data": {
      "image/png": "[encoded data removed]",
      "text/plain": [
       "<Figure size 288x216 with 1 Axes>"
      ]
     },
     "metadata": {
      "needs_background": "light"
     },
     "output_type": "display_data"
    }
   ],
   "source": [
    "\n",
    "\n",
    "f, ax = plt.subplots(1, 1, figsize=(4, 3))\n",
    "# Plot training data as black stars\n",
    "ax.plot(train_x, train_y, 'k*')\n",
    "# Plot predictive means as blue line\n",
    "ax.plot(test_x, predictive_mean, 'b')\n",
    "# Shade between the lower and upper confidence bounds\n",
    "ax.fill_between(test_x, lower, upper, alpha=0.5)\n",
    "ax.set_ylim([-3, 3])\n",
    "ax.legend(['Observed Data', 'Mean', 'Confidence'], bbox_to_anchor=(1.6,1));"
   ]
  },
  {
   "cell_type": "code",
   "execution_count": 143,
   "metadata": {},
   "outputs": [
    {
     "name": "stdout",
     "output_type": "stream",
     "text": [
      "Untrained model NLPD: 0.861908, \n",
      "Trained model NLPD: -0.316666\n"
     ]
    }
   ],
   "source": [
    "init_nlpd = gpytorch.metrics.negative_log_predictive_density(untrained_pred_dist, test_y)\n",
    "final_nlpd = gpytorch.metrics.negative_log_predictive_density(trained_pred_dist, test_y)\n",
    "\n",
    "print(f'Untrained model NLPD: {init_nlpd:.6f}, \\nTrained model NLPD: {final_nlpd:.6f}')"
   ]
  },
  {
   "cell_type": "code",
   "execution_count": 144,
   "metadata": {},
   "outputs": [
    {
     "data": {
      "text/plain": [
       "(-3.0, 3.0)"
      ]
     },
     "execution_count": 144,
     "metadata": {},
     "output_type": "execute_result"
    },
    {
     "data": {
      "image/png": "[encoded data removed]",
      "text/plain": [
       "<Figure size 432x288 with 1 Axes>"
      ]
     },
     "metadata": {
      "needs_background": "light"
     },
     "output_type": "display_data"
    }
   ],
   "source": [
    "sns.lineplot(test_x, trained_pred_dist.loc)\n",
    "plt.ylim([-3, 3])"
   ]
  },
  {
   "cell_type": "code",
   "execution_count": 145,
   "metadata": {},
   "outputs": [
    {
     "data": {
      "text/plain": [
       "tensor([ 0.0179,  0.1398,  0.2601,  0.3767,  0.4876,  0.5909,  0.6847,  0.7675,\n",
       "         0.8379,  0.8949,  0.9376,  0.9654,  0.9781,  0.9755,  0.9580,  0.9258,\n",
       "         0.8797,  0.8204,  0.7489,  0.6662,  0.5736,  0.4723,  0.3638,  0.2496,\n",
       "         0.1311,  0.0099, -0.1122, -0.2336, -0.3525, -0.4672, -0.5758, -0.6768,\n",
       "        -0.7684, -0.8489, -0.9171, -0.9715, -1.0110, -1.0349, -1.0425, -1.0335,\n",
       "        -1.0081, -0.9665, -0.9095, -0.8381, -0.7538, -0.6580, -0.5527, -0.4399,\n",
       "        -0.3218, -0.2006, -0.0787])"
      ]
     },
     "execution_count": 145,
     "metadata": {},
     "output_type": "execute_result"
    }
   ],
   "source": [
    "trained_pred_dist.loc"
   ]
  },
  {
   "cell_type": "code",
   "execution_count": null,
   "metadata": {},
   "outputs": [],
   "source": [
    "torch.copy"
   ]
  },
  {
   "cell_type": "code",
   "execution_count": 159,
   "metadata": {},
   "outputs": [
    {
     "data": {
      "text/plain": [
       "gpytorch.distributions.multivariate_normal.MultivariateNormal"
      ]
     },
     "execution_count": 159,
     "metadata": {},
     "output_type": "execute_result"
    }
   ],
   "source": [
    "type(trained_pred_dist)"
   ]
  },
  {
   "cell_type": "code",
   "execution_count": 162,
   "metadata": {},
   "outputs": [
    {
     "name": "stdout",
     "output_type": "stream",
     "text": [
      "{'_islazy': True, 'loc': tensor([ 0.0167,  0.1237,  0.2398,  0.3865,  0.4849,  0.5591,  0.6613,  0.7143,\n",
      "         0.8485,  0.9320,  0.9789,  0.9411,  1.0171,  0.9576,  0.9469,  0.9177,\n",
      "         0.8875,  0.7990,  0.7598,  0.6522,  0.5932,  0.3915,  0.3309,  0.2512,\n",
      "         0.1333,  0.0278, -0.1300, -0.2577, -0.3917, -0.4732, -0.5478, -0.6595,\n",
      "        -0.7494, -0.8239, -0.8973, -0.9939, -1.0151, -1.0330, -1.0521, -1.0330,\n",
      "        -1.0161, -0.9738, -0.9141, -0.8703, -0.7157, -0.6347, -0.5446, -0.4257,\n",
      "        -0.3451, -0.2114, -0.0872]), '_covar': <linear_operator.operators.added_diag_linear_operator.AddedDiagLinearOperator object at 0x7fa88616da30>, '_MultivariateNormal__unbroadcasted_scale_tril': None, '_validate_args': False, '_batch_shape': torch.Size([]), '_event_shape': torch.Size([51]), 'lazy_covariance_matrix': <linear_operator.operators.added_diag_linear_operator.AddedDiagLinearOperator object at 0x7fa88616da30>}\n"
     ]
    }
   ],
   "source": [
    "print(vars(trained_pred_dist))"
   ]
  },
  {
   "cell_type": "code",
   "execution_count": 168,
   "metadata": {},
   "outputs": [
    {
     "name": "stdout",
     "output_type": "stream",
     "text": [
      "\u001b[0;31mInit signature:\u001b[0m\n",
      "\u001b[0mgpytorch\u001b[0m\u001b[0;34m.\u001b[0m\u001b[0mdistributions\u001b[0m\u001b[0;34m.\u001b[0m\u001b[0mmultivariate_normal\u001b[0m\u001b[0;34m.\u001b[0m\u001b[0mMultivariateNormal\u001b[0m\u001b[0;34m(\u001b[0m\u001b[0;34m\u001b[0m\n",
      "\u001b[0;34m\u001b[0m    \u001b[0mmean\u001b[0m\u001b[0;34m,\u001b[0m\u001b[0;34m\u001b[0m\n",
      "\u001b[0;34m\u001b[0m    \u001b[0mcovariance_matrix\u001b[0m\u001b[0;34m,\u001b[0m\u001b[0;34m\u001b[0m\n",
      "\u001b[0;34m\u001b[0m    \u001b[0mvalidate_args\u001b[0m\u001b[0;34m=\u001b[0m\u001b[0;32mFalse\u001b[0m\u001b[0;34m,\u001b[0m\u001b[0;34m\u001b[0m\n",
      "\u001b[0;34m\u001b[0m\u001b[0;34m)\u001b[0m\u001b[0;34m\u001b[0m\u001b[0;34m\u001b[0m\u001b[0m\n",
      "\u001b[0;31mDocstring:\u001b[0m     \n",
      "Constructs a multivariate normal random variable, based on mean and covariance.\n",
      "Can be multivariate, or a batch of multivariate normals\n",
      "\n",
      "Passing a vector mean corresponds to a multivariate normal.\n",
      "Passing a matrix mean corresponds to a batch of multivariate normals.\n",
      "\n",
      ":param torch.tensor mean: Vector n or matrix b x n mean of mvn distribution.\n",
      ":param ~linear_operator.operators.LinearOperator covar: ... x N X N covariance matrix of\n",
      "    mvn distribution.\n",
      "\u001b[0;31mFile:\u001b[0m           ~/miniconda3/envs/pytorch/lib/python3.9/site-packages/gpytorch/distributions/multivariate_normal.py\n",
      "\u001b[0;31mType:\u001b[0m           DistributionMeta\n",
      "\u001b[0;31mSubclasses:\u001b[0m     MultitaskMultivariateNormal\n"
     ]
    }
   ],
   "source": [
    "gpytorch.distributions.multivariate_normal.MultivariateNormal?"
   ]
  },
  {
   "cell_type": "code",
   "execution_count": 150,
   "metadata": {},
   "outputs": [
    {
     "name": "stdout",
     "output_type": "stream",
     "text": [
      "['_MultivariateNormal__unbroadcasted_scale_tril', '__abstractmethods__', '__add__', '__call__', '__class__', '__delattr__', '__dict__', '__dir__', '__div__', '__doc__', '__eq__', '__format__', '__ge__', '__getattribute__', '__getitem__', '__gt__', '__hash__', '__init__', '__init_subclass__', '__le__', '__lt__', '__module__', '__mul__', '__ne__', '__new__', '__radd__', '__reduce__', '__reduce_ex__', '__repr__', '__setattr__', '__signature__', '__sizeof__', '__str__', '__subclasshook__', '__truediv__', '__weakref__', '_abc_impl', '_batch_shape', '_covar', '_event_shape', '_extended_shape', '_get_checked_instance', '_islazy', '_repr_sizes', '_unbroadcasted_scale_tril', '_validate_args', '_validate_sample', 'add_jitter', 'arg_constraints', 'base_sample_shape', 'batch_shape', 'cdf', 'confidence_region', 'conjugate_update', 'covariance_matrix', 'entropy', 'enumerate_support', 'event_dim', 'event_shape', 'expand', 'expand_by', 'get_base_samples', 'has_enumerate_support', 'has_rsample', 'has_rsample_', 'icdf', 'independent', 'infer_shapes', 'islazy', 'lazy_covariance_matrix', 'loc', 'log_prob', 'mask', 'mean', 'mode', 'perplexity', 'precision_matrix', 'reshape', 'rsample', 'rv', 'sample', 'sample_n', 'scale_tril', 'score_parts', 'set_default_validate_args', 'shape', 'stddev', 'support', 'to_data_independent_dist', 'to_event', 'variance']\n"
     ]
    }
   ],
   "source": [
    "print(dir(trained_pred_dist))"
   ]
  },
  {
   "cell_type": "code",
   "execution_count": 146,
   "metadata": {},
   "outputs": [],
   "source": [
    "model.eval()\n",
    "with torch.no_grad():\n",
    "    trained_pred_dist_1 = trained_pred_dist\n",
    "    n_sample = 100\n",
    "    loc_sample = torch.zeros((n_sample, trained_pred_dist.loc.numel()))\n",
    "\n",
    "    for i in range(n_sample):\n",
    "        loc_sample[i] = trained_pred_dist_1()\n",
    "        \n",
    "    trained_pred_dist_1.loc = loc_sample.mean(-0)"
   ]
  },
  {
   "cell_type": "code",
   "execution_count": 118,
   "metadata": {},
   "outputs": [],
   "source": []
  },
  {
   "cell_type": "code",
   "execution_count": 147,
   "metadata": {},
   "outputs": [
    {
     "data": {
      "text/plain": [
       "(-3.0, 3.0)"
      ]
     },
     "execution_count": 147,
     "metadata": {},
     "output_type": "execute_result"
    },
    {
     "data": {
      "image/png": "[encoded data removed]",
      "text/plain": [
       "<Figure size 432x288 with 1 Axes>"
      ]
     },
     "metadata": {
      "needs_background": "light"
     },
     "output_type": "display_data"
    }
   ],
   "source": [
    "sns.lineplot(test_x, loc_sample.mean(-0))\n",
    "plt.ylim([-3, 3]) "
   ]
  },
  {
   "cell_type": "code",
   "execution_count": 148,
   "metadata": {},
   "outputs": [
    {
     "data": {
      "text/plain": [
       "tensor([ 0.0167,  0.1237,  0.2398,  0.3865,  0.4849,  0.5591,  0.6613,  0.7143,\n",
       "         0.8485,  0.9320,  0.9789,  0.9411,  1.0171,  0.9576,  0.9469,  0.9177,\n",
       "         0.8875,  0.7990,  0.7598,  0.6522,  0.5932,  0.3915,  0.3309,  0.2512,\n",
       "         0.1333,  0.0278, -0.1300, -0.2577, -0.3917, -0.4732, -0.5478, -0.6595,\n",
       "        -0.7494, -0.8239, -0.8973, -0.9939, -1.0151, -1.0330, -1.0521, -1.0330,\n",
       "        -1.0161, -0.9738, -0.9141, -0.8703, -0.7157, -0.6347, -0.5446, -0.4257,\n",
       "        -0.3451, -0.2114, -0.0872])"
      ]
     },
     "execution_count": 148,
     "metadata": {},
     "output_type": "execute_result"
    }
   ],
   "source": [
    "trained_pred_dist_1.loc"
   ]
  },
  {
   "cell_type": "code",
   "execution_count": 149,
   "metadata": {},
   "outputs": [
    {
     "data": {
      "text/plain": [
       "tensor([ 0.0167,  0.1237,  0.2398,  0.3865,  0.4849,  0.5591,  0.6613,  0.7143,\n",
       "         0.8485,  0.9320,  0.9789,  0.9411,  1.0171,  0.9576,  0.9469,  0.9177,\n",
       "         0.8875,  0.7990,  0.7598,  0.6522,  0.5932,  0.3915,  0.3309,  0.2512,\n",
       "         0.1333,  0.0278, -0.1300, -0.2577, -0.3917, -0.4732, -0.5478, -0.6595,\n",
       "        -0.7494, -0.8239, -0.8973, -0.9939, -1.0151, -1.0330, -1.0521, -1.0330,\n",
       "        -1.0161, -0.9738, -0.9141, -0.8703, -0.7157, -0.6347, -0.5446, -0.4257,\n",
       "        -0.3451, -0.2114, -0.0872])"
      ]
     },
     "execution_count": 149,
     "metadata": {},
     "output_type": "execute_result"
    }
   ],
   "source": [
    "trained_pred_dist.loc"
   ]
  },
  {
   "cell_type": "code",
   "execution_count": null,
   "metadata": {},
   "outputs": [],
   "source": []
  },
  {
   "cell_type": "code",
   "execution_count": null,
   "metadata": {},
   "outputs": [],
   "source": []
  },
  {
   "cell_type": "code",
   "execution_count": 12,
   "metadata": {},
   "outputs": [
    {
     "data": {
      "text/plain": [
       "tensor(-0.3140)"
      ]
     },
     "execution_count": 12,
     "metadata": {},
     "output_type": "execute_result"
    }
   ],
   "source": [
    "final_nlpd"
   ]
  },
  {
   "cell_type": "code",
   "execution_count": 13,
   "metadata": {},
   "outputs": [
    {
     "data": {
      "text/plain": [
       "tensor([ 0.0188,  0.1405,  0.2606,  0.3769,  0.4876,  0.5906,  0.6843,  0.7670,\n",
       "         0.8374,  0.8944,  0.9371,  0.9650,  0.9778,  0.9755,  0.9581,  0.9261,\n",
       "         0.8800,  0.8208,  0.7494,  0.6667,  0.5740,  0.4727,  0.3641,  0.2497,\n",
       "         0.1311,  0.0098, -0.1125, -0.2340, -0.3529, -0.4676, -0.5763, -0.6772,\n",
       "        -0.7687, -0.8491, -0.9171, -0.9714, -1.0108, -1.0345, -1.0420, -1.0330,\n",
       "        -1.0075, -0.9660, -0.9091, -0.8378, -0.7536, -0.6580, -0.5528, -0.4402,\n",
       "        -0.3222, -0.2011, -0.0792])"
      ]
     },
     "execution_count": 13,
     "metadata": {},
     "output_type": "execute_result"
    }
   ],
   "source": [
    "trained_pred_dist.loc"
   ]
  },
  {
   "cell_type": "code",
   "execution_count": 14,
   "metadata": {},
   "outputs": [
    {
     "ename": "SyntaxError",
     "evalue": "invalid syntax (1068564517.py, line 1)",
     "output_type": "error",
     "traceback": [
      "\u001b[0;36m  Input \u001b[0;32mIn [14]\u001b[0;36m\u001b[0m\n\u001b[0;31m    model.\u001b[0m\n\u001b[0m          ^\u001b[0m\n\u001b[0;31mSyntaxError\u001b[0m\u001b[0;31m:\u001b[0m invalid syntax\n"
     ]
    }
   ],
   "source": [
    "model."
   ]
  },
  {
   "cell_type": "code",
   "execution_count": 15,
   "metadata": {},
   "outputs": [
    {
     "data": {
      "text/plain": [
       "tensor(0.3140)"
      ]
     },
     "execution_count": 15,
     "metadata": {},
     "output_type": "execute_result"
    }
   ],
   "source": [
    "trained_pred_dist.log_prob(test_y) / 51"
   ]
  },
  {
   "cell_type": "code",
   "execution_count": 16,
   "metadata": {},
   "outputs": [
    {
     "ename": "NameError",
     "evalue": "name 'pred_dist' is not defined",
     "output_type": "error",
     "traceback": [
      "\u001b[0;31m---------------------------------------------------------------------------\u001b[0m",
      "\u001b[0;31mNameError\u001b[0m                                 Traceback (most recent call last)",
      "\u001b[1;32m/home/cao/projects/hmogp/metrics_test.ipynb Cell 14\u001b[0m in \u001b[0;36m<cell line: 1>\u001b[0;34m()\u001b[0m\n\u001b[0;32m----> <a href='vscode-notebook-cell://wsl%2Bubuntu-20.04/home/cao/projects/hmogp/metrics_test.ipynb#X16sdnNjb2RlLXJlbW90ZQ%3D%3D?line=0'>1</a>\u001b[0m \u001b[39m-\u001b[39mpred_dist\u001b[39m.\u001b[39mlog_prob(test_y) \u001b[39m/\u001b[39m test_y\u001b[39m.\u001b[39mshape[combine_dim]\n",
      "\u001b[0;31mNameError\u001b[0m: name 'pred_dist' is not defined"
     ]
    }
   ],
   "source": [
    "-pred_dist.log_prob(test_y) / test_y.shape[combine_dim]"
   ]
  },
  {
   "cell_type": "code",
   "execution_count": null,
   "metadata": {},
   "outputs": [
    {
     "data": {
      "text/plain": [
       "51"
      ]
     },
     "execution_count": 234,
     "metadata": {},
     "output_type": "execute_result"
    }
   ],
   "source": [
    "test_y.shape[-1]"
   ]
  },
  {
   "cell_type": "code",
   "execution_count": 17,
   "metadata": {},
   "outputs": [
    {
     "data": {
      "text/plain": [
       "tensor([-1.9984e-01,  3.0211e-01,  5.6659e-01,  2.7881e-01,  5.8403e-01,\n",
       "         5.4622e-01,  4.9581e-01,  9.2842e-01,  8.9826e-01,  1.0665e+00,\n",
       "         8.2810e-01,  1.1953e+00,  7.2581e-01,  1.1757e+00,  1.2818e+00,\n",
       "         7.4929e-01,  8.5083e-01,  8.8211e-01,  5.1269e-01,  9.0540e-01,\n",
       "         2.1961e-01,  4.8000e-01,  6.0496e-01,  6.4999e-05,  4.2189e-02,\n",
       "        -9.1953e-02, -3.5214e-01, -4.3590e-01, -3.5726e-01, -6.5671e-01,\n",
       "        -7.9774e-01, -8.2838e-01, -7.9333e-01, -7.0744e-01, -8.8711e-01,\n",
       "        -9.6378e-01, -1.1926e+00, -1.0348e+00, -1.1188e+00, -1.4893e+00,\n",
       "        -9.7025e-01, -1.0657e+00, -1.1673e+00, -1.0904e+00, -1.1363e+00,\n",
       "        -7.1514e-01, -5.9687e-01,  2.4734e-01, -7.6469e-02, -2.1832e-01,\n",
       "         7.3982e-02])"
      ]
     },
     "execution_count": 17,
     "metadata": {},
     "output_type": "execute_result"
    }
   ],
   "source": [
    "trained_pred_dist()"
   ]
  },
  {
   "cell_type": "code",
   "execution_count": 18,
   "metadata": {},
   "outputs": [
    {
     "data": {
      "text/plain": [
       "tensor([ 0.0188,  0.1405,  0.2606,  0.3769,  0.4876,  0.5906,  0.6843,  0.7670,\n",
       "         0.8374,  0.8944,  0.9371,  0.9650,  0.9778,  0.9755,  0.9581,  0.9261,\n",
       "         0.8800,  0.8208,  0.7494,  0.6667,  0.5740,  0.4727,  0.3641,  0.2497,\n",
       "         0.1311,  0.0098, -0.1125, -0.2340, -0.3529, -0.4676, -0.5763, -0.6772,\n",
       "        -0.7687, -0.8491, -0.9171, -0.9714, -1.0108, -1.0345, -1.0420, -1.0330,\n",
       "        -1.0075, -0.9660, -0.9091, -0.8378, -0.7536, -0.6580, -0.5528, -0.4402,\n",
       "        -0.3222, -0.2011, -0.0792], grad_fn=<ViewBackward0>)"
      ]
     },
     "execution_count": 18,
     "metadata": {},
     "output_type": "execute_result"
    }
   ],
   "source": [
    "likelihood(model(test_x)).loc"
   ]
  },
  {
   "cell_type": "code",
   "execution_count": 19,
   "metadata": {},
   "outputs": [
    {
     "data": {
      "text/plain": [
       "tensor([ 0.0188,  0.1405,  0.2606,  0.3769,  0.4876,  0.5906,  0.6843,  0.7670,\n",
       "         0.8374,  0.8944,  0.9371,  0.9650,  0.9778,  0.9755,  0.9581,  0.9261,\n",
       "         0.8800,  0.8208,  0.7494,  0.6667,  0.5740,  0.4727,  0.3641,  0.2497,\n",
       "         0.1311,  0.0098, -0.1125, -0.2340, -0.3529, -0.4676, -0.5763, -0.6772,\n",
       "        -0.7687, -0.8491, -0.9171, -0.9714, -1.0108, -1.0345, -1.0420, -1.0330,\n",
       "        -1.0075, -0.9660, -0.9091, -0.8378, -0.7536, -0.6580, -0.5528, -0.4402,\n",
       "        -0.3222, -0.2011, -0.0792], grad_fn=<ViewBackward0>)"
      ]
     },
     "execution_count": 19,
     "metadata": {},
     "output_type": "execute_result"
    }
   ],
   "source": [
    "likelihood(model(test_x)).loc"
   ]
  },
  {
   "cell_type": "code",
   "execution_count": 20,
   "metadata": {},
   "outputs": [
    {
     "data": {
      "text/plain": [
       "tensor([ 0.0188,  0.1405,  0.2606,  0.3769,  0.4876,  0.5906,  0.6843,  0.7670,\n",
       "         0.8374,  0.8944,  0.9371,  0.9650,  0.9778,  0.9755,  0.9581,  0.9261,\n",
       "         0.8800,  0.8208,  0.7494,  0.6667,  0.5740,  0.4727,  0.3641,  0.2497,\n",
       "         0.1311,  0.0098, -0.1125, -0.2340, -0.3529, -0.4676, -0.5763, -0.6772,\n",
       "        -0.7687, -0.8491, -0.9171, -0.9714, -1.0108, -1.0345, -1.0420, -1.0330,\n",
       "        -1.0075, -0.9660, -0.9091, -0.8378, -0.7536, -0.6580, -0.5528, -0.4402,\n",
       "        -0.3222, -0.2011, -0.0792], grad_fn=<ViewBackward0>)"
      ]
     },
     "execution_count": 20,
     "metadata": {},
     "output_type": "execute_result"
    }
   ],
   "source": [
    "likelihood(model(test_x)).loc"
   ]
  },
  {
   "cell_type": "code",
   "execution_count": 21,
   "metadata": {},
   "outputs": [],
   "source": [
    "testing = likelihood(model(test_x))\n",
    "test_mean = testing.mean"
   ]
  },
  {
   "cell_type": "code",
   "execution_count": 22,
   "metadata": {},
   "outputs": [
    {
     "data": {
      "text/plain": [
       "tensor([True, True, True, True, True, True, True, True, True, True, True, True,\n",
       "        True, True, True, True, True, True, True, True, True, True, True, True,\n",
       "        True, True, True, True, True, True, True, True, True, True, True, True,\n",
       "        True, True, True, True, True, True, True, True, True, True, True, True,\n",
       "        True, True, True])"
      ]
     },
     "execution_count": 22,
     "metadata": {},
     "output_type": "execute_result"
    }
   ],
   "source": [
    "testing.loc == test_mean"
   ]
  },
  {
   "cell_type": "code",
   "execution_count": 23,
   "metadata": {},
   "outputs": [
    {
     "data": {
      "text/plain": [
       "tensor([ 0.0188,  0.1405,  0.2606,  0.3769,  0.4876,  0.5906,  0.6843,  0.7670,\n",
       "         0.8374,  0.8944,  0.9371,  0.9650,  0.9778,  0.9755,  0.9581,  0.9261,\n",
       "         0.8800,  0.8208,  0.7494,  0.6667,  0.5740,  0.4727,  0.3641,  0.2497,\n",
       "         0.1311,  0.0098, -0.1125, -0.2340, -0.3529, -0.4676, -0.5763, -0.6772,\n",
       "        -0.7687, -0.8491, -0.9171, -0.9714, -1.0108, -1.0345, -1.0420, -1.0330,\n",
       "        -1.0075, -0.9660, -0.9091, -0.8378, -0.7536, -0.6580, -0.5528, -0.4402,\n",
       "        -0.3222, -0.2011, -0.0792], grad_fn=<ViewBackward0>)"
      ]
     },
     "execution_count": 23,
     "metadata": {},
     "output_type": "execute_result"
    }
   ],
   "source": [
    "test_mean"
   ]
  },
  {
   "cell_type": "code",
   "execution_count": 24,
   "metadata": {},
   "outputs": [],
   "source": [
    "with torch.no_grad():\n",
    "    testing = likelihood(model(test_x))\n",
    "    test_mean = testing.mean"
   ]
  },
  {
   "cell_type": "code",
   "execution_count": null,
   "metadata": {},
   "outputs": [],
   "source": []
  },
  {
   "cell_type": "code",
   "execution_count": 25,
   "metadata": {},
   "outputs": [
    {
     "data": {
      "text/plain": [
       "tensor([ 0.0188,  0.1405,  0.2606,  0.3769,  0.4876,  0.5906,  0.6843,  0.7670,\n",
       "         0.8374,  0.8944,  0.9371,  0.9650,  0.9778,  0.9755,  0.9581,  0.9261,\n",
       "         0.8800,  0.8208,  0.7494,  0.6667,  0.5740,  0.4727,  0.3641,  0.2497,\n",
       "         0.1311,  0.0098, -0.1125, -0.2340, -0.3529, -0.4676, -0.5763, -0.6772,\n",
       "        -0.7687, -0.8491, -0.9171, -0.9714, -1.0108, -1.0345, -1.0420, -1.0330,\n",
       "        -1.0075, -0.9660, -0.9091, -0.8378, -0.7536, -0.6580, -0.5528, -0.4402,\n",
       "        -0.3222, -0.2011, -0.0792])"
      ]
     },
     "execution_count": 25,
     "metadata": {},
     "output_type": "execute_result"
    }
   ],
   "source": [
    "predictive_mean"
   ]
  },
  {
   "cell_type": "code",
   "execution_count": null,
   "metadata": {},
   "outputs": [],
   "source": []
  },
  {
   "cell_type": "code",
   "execution_count": null,
   "metadata": {},
   "outputs": [],
   "source": []
  }
 ],
 "metadata": {
  "kernelspec": {
   "display_name": "Python 3.9.13 ('pytorch')",
   "language": "python",
   "name": "python3"
  },
  "language_info": {
   "codemirror_mode": {
    "name": "ipython",
    "version": 3
   },
   "file_extension": ".py",
   "mimetype": "text/x-python",
   "name": "python",
   "nbconvert_exporter": "python",
   "pygments_lexer": "ipython3",
   "version": "3.9.13"
  },
  "orig_nbformat": 4,
  "vscode": {
   "interpreter": {
    "hash": "774ad7d97153bbf1edb171619bf5686b396049cb639276a3fcf5bb31d00c488a"
   }
  }
 },
 "nbformat": 4,
 "nbformat_minor": 2
}
